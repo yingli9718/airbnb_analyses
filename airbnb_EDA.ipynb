{
 "cells": [
  {
   "cell_type": "markdown",
   "metadata": {},
   "source": [
    "## Importing the libraries "
   ]
  },
  {
   "cell_type": "code",
   "execution_count": 1,
   "metadata": {},
   "outputs": [],
   "source": [
    "# Importing required libraries\n",
    "import pandas as pd\n",
    "import numpy as np\n",
    "from numpy.random import seed\n",
    "seed(123)\n",
    "import matplotlib.pyplot as plt\n",
    "%matplotlib inline\n",
    "from datetime import datetime\n",
    "import seaborn as sns\n",
    "from sklearn.preprocessing import StandardScaler, MinMaxScaler\n",
    "from sklearn.model_selection import train_test_split, cross_val_score\n",
    "from sklearn.metrics import explained_variance_score, mean_squared_error, r2_score\n",
    "import time\n",
    "from IPython.display import SVG\n",
    "from statsmodels.tsa.seasonal import seasonal_decompose\n",
    "import geopandas as gpd\n",
    "from keras import models, layers, optimizers, regularizers\n",
    "from keras.utils.vis_utils import model_to_dot\n",
    "from sklearn.feature_extraction.text import CountVectorizer"
   ]
  },
  {
   "cell_type": "markdown",
   "metadata": {},
   "source": [
    "## Importing the data"
   ]
  },
  {
   "cell_type": "code",
   "execution_count": 2,
   "metadata": {},
   "outputs": [
    {
     "name": "stdout",
     "output_type": "stream",
     "text": [
      "The dataset contains 7350 Airbnb listings\n"
     ]
    },
    {
     "data": {
      "text/html": [
       "<div>\n",
       "<style scoped>\n",
       "    .dataframe tbody tr th:only-of-type {\n",
       "        vertical-align: middle;\n",
       "    }\n",
       "\n",
       "    .dataframe tbody tr th {\n",
       "        vertical-align: top;\n",
       "    }\n",
       "\n",
       "    .dataframe thead th {\n",
       "        text-align: right;\n",
       "    }\n",
       "</style>\n",
       "<table border=\"1\" class=\"dataframe\">\n",
       "  <thead>\n",
       "    <tr style=\"text-align: right;\">\n",
       "      <th></th>\n",
       "      <th>id</th>\n",
       "      <th>listing_url</th>\n",
       "      <th>scrape_id</th>\n",
       "      <th>last_scraped</th>\n",
       "      <th>name</th>\n",
       "      <th>description</th>\n",
       "      <th>neighborhood_overview</th>\n",
       "      <th>picture_url</th>\n",
       "      <th>host_id</th>\n",
       "      <th>host_url</th>\n",
       "      <th>host_name</th>\n",
       "      <th>host_since</th>\n",
       "      <th>host_location</th>\n",
       "      <th>host_about</th>\n",
       "      <th>host_response_time</th>\n",
       "      <th>host_response_rate</th>\n",
       "      <th>host_acceptance_rate</th>\n",
       "      <th>host_is_superhost</th>\n",
       "      <th>host_thumbnail_url</th>\n",
       "      <th>host_picture_url</th>\n",
       "      <th>host_neighbourhood</th>\n",
       "      <th>host_listings_count</th>\n",
       "      <th>host_total_listings_count</th>\n",
       "      <th>host_verifications</th>\n",
       "      <th>host_has_profile_pic</th>\n",
       "      <th>host_identity_verified</th>\n",
       "      <th>neighbourhood</th>\n",
       "      <th>neighbourhood_cleansed</th>\n",
       "      <th>neighbourhood_group_cleansed</th>\n",
       "      <th>latitude</th>\n",
       "      <th>longitude</th>\n",
       "      <th>property_type</th>\n",
       "      <th>room_type</th>\n",
       "      <th>accommodates</th>\n",
       "      <th>bathrooms</th>\n",
       "      <th>bathrooms_text</th>\n",
       "      <th>bedrooms</th>\n",
       "      <th>beds</th>\n",
       "      <th>amenities</th>\n",
       "      <th>price</th>\n",
       "      <th>minimum_nights</th>\n",
       "      <th>maximum_nights</th>\n",
       "      <th>minimum_minimum_nights</th>\n",
       "      <th>maximum_minimum_nights</th>\n",
       "      <th>minimum_maximum_nights</th>\n",
       "      <th>maximum_maximum_nights</th>\n",
       "      <th>minimum_nights_avg_ntm</th>\n",
       "      <th>maximum_nights_avg_ntm</th>\n",
       "      <th>calendar_updated</th>\n",
       "      <th>has_availability</th>\n",
       "      <th>availability_30</th>\n",
       "      <th>availability_60</th>\n",
       "      <th>availability_90</th>\n",
       "      <th>availability_365</th>\n",
       "      <th>calendar_last_scraped</th>\n",
       "      <th>number_of_reviews</th>\n",
       "      <th>number_of_reviews_ltm</th>\n",
       "      <th>number_of_reviews_l30d</th>\n",
       "      <th>first_review</th>\n",
       "      <th>last_review</th>\n",
       "      <th>review_scores_rating</th>\n",
       "      <th>review_scores_accuracy</th>\n",
       "      <th>review_scores_cleanliness</th>\n",
       "      <th>review_scores_checkin</th>\n",
       "      <th>review_scores_communication</th>\n",
       "      <th>review_scores_location</th>\n",
       "      <th>review_scores_value</th>\n",
       "      <th>license</th>\n",
       "      <th>instant_bookable</th>\n",
       "      <th>calculated_host_listings_count</th>\n",
       "      <th>calculated_host_listings_count_entire_homes</th>\n",
       "      <th>calculated_host_listings_count_private_rooms</th>\n",
       "      <th>calculated_host_listings_count_shared_rooms</th>\n",
       "      <th>reviews_per_month</th>\n",
       "    </tr>\n",
       "  </thead>\n",
       "  <tbody>\n",
       "    <tr>\n",
       "      <th>0</th>\n",
       "      <td>3686</td>\n",
       "      <td>https://www.airbnb.com/rooms/3686</td>\n",
       "      <td>20200921033217</td>\n",
       "      <td>2020-09-22</td>\n",
       "      <td>Vita's Hideaway</td>\n",
       "      <td>IMPORTANT NOTES&lt;br /&gt;* Carefully read and be s...</td>\n",
       "      <td>We love that our neighborhood is up and coming...</td>\n",
       "      <td>https://a0.muscache.com/pictures/61e02c7e-3d66...</td>\n",
       "      <td>4645</td>\n",
       "      <td>https://www.airbnb.com/users/show/4645</td>\n",
       "      <td>Vita</td>\n",
       "      <td>2008-11-26</td>\n",
       "      <td>Washington D.C., District of Columbia, United ...</td>\n",
       "      <td>I am a literary scholar, teacher, poet, vegan ...</td>\n",
       "      <td>within a day</td>\n",
       "      <td>67%</td>\n",
       "      <td>100%</td>\n",
       "      <td>f</td>\n",
       "      <td>https://a0.muscache.com/im/users/4645/profile_...</td>\n",
       "      <td>https://a0.muscache.com/im/users/4645/profile_...</td>\n",
       "      <td>Anacostia</td>\n",
       "      <td>2</td>\n",
       "      <td>2</td>\n",
       "      <td>['email', 'phone', 'reviews', 'jumio', 'offlin...</td>\n",
       "      <td>t</td>\n",
       "      <td>t</td>\n",
       "      <td>Washington, District of Columbia, United States</td>\n",
       "      <td>Historic Anacostia</td>\n",
       "      <td>NaN</td>\n",
       "      <td>38.86314</td>\n",
       "      <td>-76.98836</td>\n",
       "      <td>Private room in house</td>\n",
       "      <td>Private room</td>\n",
       "      <td>1</td>\n",
       "      <td>NaN</td>\n",
       "      <td>1 private bath</td>\n",
       "      <td>1.0</td>\n",
       "      <td>1.0</td>\n",
       "      <td>[\"Carbon monoxide alarm\", \"Heating\", \"Bed line...</td>\n",
       "      <td>$55.00</td>\n",
       "      <td>2</td>\n",
       "      <td>365</td>\n",
       "      <td>2</td>\n",
       "      <td>2</td>\n",
       "      <td>365</td>\n",
       "      <td>365</td>\n",
       "      <td>2.0</td>\n",
       "      <td>365.0</td>\n",
       "      <td>NaN</td>\n",
       "      <td>t</td>\n",
       "      <td>30</td>\n",
       "      <td>60</td>\n",
       "      <td>90</td>\n",
       "      <td>365</td>\n",
       "      <td>2020-09-22</td>\n",
       "      <td>72</td>\n",
       "      <td>1</td>\n",
       "      <td>0</td>\n",
       "      <td>2010-11-01</td>\n",
       "      <td>2020-04-01</td>\n",
       "      <td>92.0</td>\n",
       "      <td>9.0</td>\n",
       "      <td>9.0</td>\n",
       "      <td>10.0</td>\n",
       "      <td>10.0</td>\n",
       "      <td>8.0</td>\n",
       "      <td>9.0</td>\n",
       "      <td>NaN</td>\n",
       "      <td>f</td>\n",
       "      <td>2</td>\n",
       "      <td>0</td>\n",
       "      <td>2</td>\n",
       "      <td>0</td>\n",
       "      <td>0.60</td>\n",
       "    </tr>\n",
       "    <tr>\n",
       "      <th>1</th>\n",
       "      <td>3943</td>\n",
       "      <td>https://www.airbnb.com/rooms/3943</td>\n",
       "      <td>20200921033217</td>\n",
       "      <td>2020-09-21</td>\n",
       "      <td>Historic Rowhouse Near Monuments</td>\n",
       "      <td>Please contact us before booking to make sure ...</td>\n",
       "      <td>Our rowhouse is centrally located in the heart...</td>\n",
       "      <td>https://a0.muscache.com/pictures/432713/fab7dd...</td>\n",
       "      <td>5059</td>\n",
       "      <td>https://www.airbnb.com/users/show/5059</td>\n",
       "      <td>Vasa</td>\n",
       "      <td>2008-12-12</td>\n",
       "      <td>Washington, District of Columbia, United States</td>\n",
       "      <td>We are a married couple in our 30's, living an...</td>\n",
       "      <td>within a few hours</td>\n",
       "      <td>100%</td>\n",
       "      <td>33%</td>\n",
       "      <td>f</td>\n",
       "      <td>https://a0.muscache.com/im/users/5059/profile_...</td>\n",
       "      <td>https://a0.muscache.com/im/users/5059/profile_...</td>\n",
       "      <td>Eckington</td>\n",
       "      <td>0</td>\n",
       "      <td>0</td>\n",
       "      <td>['email', 'phone', 'reviews', 'kba']</td>\n",
       "      <td>t</td>\n",
       "      <td>t</td>\n",
       "      <td>Washington, District of Columbia, United States</td>\n",
       "      <td>Edgewood, Bloomingdale, Truxton Circle, Eckington</td>\n",
       "      <td>NaN</td>\n",
       "      <td>38.91066</td>\n",
       "      <td>-77.00438</td>\n",
       "      <td>Private room in townhouse</td>\n",
       "      <td>Private room</td>\n",
       "      <td>2</td>\n",
       "      <td>NaN</td>\n",
       "      <td>1 shared bath</td>\n",
       "      <td>1.0</td>\n",
       "      <td>1.0</td>\n",
       "      <td>[\"Carbon monoxide alarm\", \"Heating\", \"Bed line...</td>\n",
       "      <td>$80.00</td>\n",
       "      <td>27</td>\n",
       "      <td>1125</td>\n",
       "      <td>27</td>\n",
       "      <td>27</td>\n",
       "      <td>1125</td>\n",
       "      <td>1125</td>\n",
       "      <td>27.0</td>\n",
       "      <td>1125.0</td>\n",
       "      <td>NaN</td>\n",
       "      <td>t</td>\n",
       "      <td>28</td>\n",
       "      <td>58</td>\n",
       "      <td>88</td>\n",
       "      <td>101</td>\n",
       "      <td>2020-09-21</td>\n",
       "      <td>429</td>\n",
       "      <td>0</td>\n",
       "      <td>0</td>\n",
       "      <td>2009-05-10</td>\n",
       "      <td>2018-08-07</td>\n",
       "      <td>96.0</td>\n",
       "      <td>10.0</td>\n",
       "      <td>10.0</td>\n",
       "      <td>10.0</td>\n",
       "      <td>10.0</td>\n",
       "      <td>9.0</td>\n",
       "      <td>9.0</td>\n",
       "      <td>NaN</td>\n",
       "      <td>f</td>\n",
       "      <td>2</td>\n",
       "      <td>0</td>\n",
       "      <td>2</td>\n",
       "      <td>0</td>\n",
       "      <td>3.10</td>\n",
       "    </tr>\n",
       "    <tr>\n",
       "      <th>2</th>\n",
       "      <td>4197</td>\n",
       "      <td>https://www.airbnb.com/rooms/4197</td>\n",
       "      <td>20200921033217</td>\n",
       "      <td>2020-09-21</td>\n",
       "      <td>Bedroom in DC 2 blocks to Metro</td>\n",
       "      <td>This is the middle bedroom upstairs in a resto...</td>\n",
       "      <td>Our area, the Eastern Market neighborhood of C...</td>\n",
       "      <td>https://a0.muscache.com/pictures/5e2bd169-b14f...</td>\n",
       "      <td>5061</td>\n",
       "      <td>https://www.airbnb.com/users/show/5061</td>\n",
       "      <td>Sandra</td>\n",
       "      <td>2008-12-12</td>\n",
       "      <td>Washington D.C., District of Columbia, United ...</td>\n",
       "      <td>I’m a California native who came to work for t...</td>\n",
       "      <td>NaN</td>\n",
       "      <td>NaN</td>\n",
       "      <td>96%</td>\n",
       "      <td>t</td>\n",
       "      <td>https://a0.muscache.com/im/pictures/user/ddd27...</td>\n",
       "      <td>https://a0.muscache.com/im/pictures/user/ddd27...</td>\n",
       "      <td>Capitol Hill</td>\n",
       "      <td>2</td>\n",
       "      <td>2</td>\n",
       "      <td>['email', 'phone', 'facebook', 'reviews', 'kba']</td>\n",
       "      <td>t</td>\n",
       "      <td>t</td>\n",
       "      <td>Washington, District of Columbia, United States</td>\n",
       "      <td>Capitol Hill, Lincoln Park</td>\n",
       "      <td>NaN</td>\n",
       "      <td>38.88791</td>\n",
       "      <td>-76.99668</td>\n",
       "      <td>Private room in house</td>\n",
       "      <td>Private room</td>\n",
       "      <td>2</td>\n",
       "      <td>NaN</td>\n",
       "      <td>1.5 shared baths</td>\n",
       "      <td>1.0</td>\n",
       "      <td>1.0</td>\n",
       "      <td>[\"Carbon monoxide alarm\", \"Heating\", \"Bed line...</td>\n",
       "      <td>$76.00</td>\n",
       "      <td>28</td>\n",
       "      <td>365</td>\n",
       "      <td>28</td>\n",
       "      <td>28</td>\n",
       "      <td>1125</td>\n",
       "      <td>1125</td>\n",
       "      <td>28.0</td>\n",
       "      <td>1125.0</td>\n",
       "      <td>NaN</td>\n",
       "      <td>t</td>\n",
       "      <td>0</td>\n",
       "      <td>19</td>\n",
       "      <td>49</td>\n",
       "      <td>324</td>\n",
       "      <td>2020-09-21</td>\n",
       "      <td>45</td>\n",
       "      <td>3</td>\n",
       "      <td>0</td>\n",
       "      <td>2009-05-14</td>\n",
       "      <td>2020-03-14</td>\n",
       "      <td>97.0</td>\n",
       "      <td>10.0</td>\n",
       "      <td>10.0</td>\n",
       "      <td>10.0</td>\n",
       "      <td>10.0</td>\n",
       "      <td>10.0</td>\n",
       "      <td>10.0</td>\n",
       "      <td>NaN</td>\n",
       "      <td>f</td>\n",
       "      <td>2</td>\n",
       "      <td>0</td>\n",
       "      <td>2</td>\n",
       "      <td>0</td>\n",
       "      <td>0.33</td>\n",
       "    </tr>\n",
       "  </tbody>\n",
       "</table>\n",
       "</div>"
      ],
      "text/plain": [
       "     id                        listing_url       scrape_id last_scraped  \\\n",
       "0  3686  https://www.airbnb.com/rooms/3686  20200921033217   2020-09-22   \n",
       "1  3943  https://www.airbnb.com/rooms/3943  20200921033217   2020-09-21   \n",
       "2  4197  https://www.airbnb.com/rooms/4197  20200921033217   2020-09-21   \n",
       "\n",
       "                               name  \\\n",
       "0                   Vita's Hideaway   \n",
       "1  Historic Rowhouse Near Monuments   \n",
       "2   Bedroom in DC 2 blocks to Metro   \n",
       "\n",
       "                                         description  \\\n",
       "0  IMPORTANT NOTES<br />* Carefully read and be s...   \n",
       "1  Please contact us before booking to make sure ...   \n",
       "2  This is the middle bedroom upstairs in a resto...   \n",
       "\n",
       "                               neighborhood_overview  \\\n",
       "0  We love that our neighborhood is up and coming...   \n",
       "1  Our rowhouse is centrally located in the heart...   \n",
       "2  Our area, the Eastern Market neighborhood of C...   \n",
       "\n",
       "                                         picture_url  host_id  \\\n",
       "0  https://a0.muscache.com/pictures/61e02c7e-3d66...     4645   \n",
       "1  https://a0.muscache.com/pictures/432713/fab7dd...     5059   \n",
       "2  https://a0.muscache.com/pictures/5e2bd169-b14f...     5061   \n",
       "\n",
       "                                 host_url host_name  host_since  \\\n",
       "0  https://www.airbnb.com/users/show/4645      Vita  2008-11-26   \n",
       "1  https://www.airbnb.com/users/show/5059      Vasa  2008-12-12   \n",
       "2  https://www.airbnb.com/users/show/5061    Sandra  2008-12-12   \n",
       "\n",
       "                                       host_location  \\\n",
       "0  Washington D.C., District of Columbia, United ...   \n",
       "1    Washington, District of Columbia, United States   \n",
       "2  Washington D.C., District of Columbia, United ...   \n",
       "\n",
       "                                          host_about  host_response_time  \\\n",
       "0  I am a literary scholar, teacher, poet, vegan ...        within a day   \n",
       "1  We are a married couple in our 30's, living an...  within a few hours   \n",
       "2  I’m a California native who came to work for t...                 NaN   \n",
       "\n",
       "  host_response_rate host_acceptance_rate host_is_superhost  \\\n",
       "0                67%                 100%                 f   \n",
       "1               100%                  33%                 f   \n",
       "2                NaN                  96%                 t   \n",
       "\n",
       "                                  host_thumbnail_url  \\\n",
       "0  https://a0.muscache.com/im/users/4645/profile_...   \n",
       "1  https://a0.muscache.com/im/users/5059/profile_...   \n",
       "2  https://a0.muscache.com/im/pictures/user/ddd27...   \n",
       "\n",
       "                                    host_picture_url host_neighbourhood  \\\n",
       "0  https://a0.muscache.com/im/users/4645/profile_...          Anacostia   \n",
       "1  https://a0.muscache.com/im/users/5059/profile_...          Eckington   \n",
       "2  https://a0.muscache.com/im/pictures/user/ddd27...       Capitol Hill   \n",
       "\n",
       "   host_listings_count  host_total_listings_count  \\\n",
       "0                    2                          2   \n",
       "1                    0                          0   \n",
       "2                    2                          2   \n",
       "\n",
       "                                  host_verifications host_has_profile_pic  \\\n",
       "0  ['email', 'phone', 'reviews', 'jumio', 'offlin...                    t   \n",
       "1               ['email', 'phone', 'reviews', 'kba']                    t   \n",
       "2   ['email', 'phone', 'facebook', 'reviews', 'kba']                    t   \n",
       "\n",
       "  host_identity_verified                                    neighbourhood  \\\n",
       "0                      t  Washington, District of Columbia, United States   \n",
       "1                      t  Washington, District of Columbia, United States   \n",
       "2                      t  Washington, District of Columbia, United States   \n",
       "\n",
       "                              neighbourhood_cleansed  \\\n",
       "0                                 Historic Anacostia   \n",
       "1  Edgewood, Bloomingdale, Truxton Circle, Eckington   \n",
       "2                         Capitol Hill, Lincoln Park   \n",
       "\n",
       "   neighbourhood_group_cleansed  latitude  longitude  \\\n",
       "0                           NaN  38.86314  -76.98836   \n",
       "1                           NaN  38.91066  -77.00438   \n",
       "2                           NaN  38.88791  -76.99668   \n",
       "\n",
       "               property_type     room_type  accommodates  bathrooms  \\\n",
       "0      Private room in house  Private room             1        NaN   \n",
       "1  Private room in townhouse  Private room             2        NaN   \n",
       "2      Private room in house  Private room             2        NaN   \n",
       "\n",
       "     bathrooms_text  bedrooms  beds  \\\n",
       "0    1 private bath       1.0   1.0   \n",
       "1     1 shared bath       1.0   1.0   \n",
       "2  1.5 shared baths       1.0   1.0   \n",
       "\n",
       "                                           amenities   price  minimum_nights  \\\n",
       "0  [\"Carbon monoxide alarm\", \"Heating\", \"Bed line...  $55.00               2   \n",
       "1  [\"Carbon monoxide alarm\", \"Heating\", \"Bed line...  $80.00              27   \n",
       "2  [\"Carbon monoxide alarm\", \"Heating\", \"Bed line...  $76.00              28   \n",
       "\n",
       "   maximum_nights  minimum_minimum_nights  maximum_minimum_nights  \\\n",
       "0             365                       2                       2   \n",
       "1            1125                      27                      27   \n",
       "2             365                      28                      28   \n",
       "\n",
       "   minimum_maximum_nights  maximum_maximum_nights  minimum_nights_avg_ntm  \\\n",
       "0                     365                     365                     2.0   \n",
       "1                    1125                    1125                    27.0   \n",
       "2                    1125                    1125                    28.0   \n",
       "\n",
       "   maximum_nights_avg_ntm  calendar_updated has_availability  availability_30  \\\n",
       "0                   365.0               NaN                t               30   \n",
       "1                  1125.0               NaN                t               28   \n",
       "2                  1125.0               NaN                t                0   \n",
       "\n",
       "   availability_60  availability_90  availability_365 calendar_last_scraped  \\\n",
       "0               60               90               365            2020-09-22   \n",
       "1               58               88               101            2020-09-21   \n",
       "2               19               49               324            2020-09-21   \n",
       "\n",
       "   number_of_reviews  number_of_reviews_ltm  number_of_reviews_l30d  \\\n",
       "0                 72                      1                       0   \n",
       "1                429                      0                       0   \n",
       "2                 45                      3                       0   \n",
       "\n",
       "  first_review last_review  review_scores_rating  review_scores_accuracy  \\\n",
       "0   2010-11-01  2020-04-01                  92.0                     9.0   \n",
       "1   2009-05-10  2018-08-07                  96.0                    10.0   \n",
       "2   2009-05-14  2020-03-14                  97.0                    10.0   \n",
       "\n",
       "   review_scores_cleanliness  review_scores_checkin  \\\n",
       "0                        9.0                   10.0   \n",
       "1                       10.0                   10.0   \n",
       "2                       10.0                   10.0   \n",
       "\n",
       "   review_scores_communication  review_scores_location  review_scores_value  \\\n",
       "0                         10.0                     8.0                  9.0   \n",
       "1                         10.0                     9.0                  9.0   \n",
       "2                         10.0                    10.0                 10.0   \n",
       "\n",
       "  license instant_bookable  calculated_host_listings_count  \\\n",
       "0     NaN                f                               2   \n",
       "1     NaN                f                               2   \n",
       "2     NaN                f                               2   \n",
       "\n",
       "   calculated_host_listings_count_entire_homes  \\\n",
       "0                                            0   \n",
       "1                                            0   \n",
       "2                                            0   \n",
       "\n",
       "   calculated_host_listings_count_private_rooms  \\\n",
       "0                                             2   \n",
       "1                                             2   \n",
       "2                                             2   \n",
       "\n",
       "   calculated_host_listings_count_shared_rooms  reviews_per_month  \n",
       "0                                            0               0.60  \n",
       "1                                            0               3.10  \n",
       "2                                            0               0.33  "
      ]
     },
     "execution_count": 2,
     "metadata": {},
     "output_type": "execute_result"
    }
   ],
   "source": [
    "raw_df = pd.read_csv('DC_2020Sep21/listings.csv')\n",
    "print(f\"The dataset contains {len(raw_df)} Airbnb listings\")\n",
    "pd.set_option('display.max_columns', len(raw_df.columns)) # To view all columns\n",
    "pd.set_option('display.max_rows', 100)\n",
    "raw_df.head(3)"
   ]
  },
  {
   "cell_type": "code",
   "execution_count": 3,
   "metadata": {},
   "outputs": [
    {
     "name": "stdout",
     "output_type": "stream",
     "text": [
      "The dataset contains 9189 Airbnb listings\n"
     ]
    },
    {
     "name": "stderr",
     "output_type": "stream",
     "text": [
      "/Users/yingli/opt/anaconda3/lib/python3.8/site-packages/IPython/core/interactiveshell.py:3071: DtypeWarning: Columns (61,62) have mixed types.Specify dtype option on import or set low_memory=False.\n",
      "  has_raised = await self.run_ast_nodes(code_ast.body, cell_name,\n"
     ]
    },
    {
     "data": {
      "text/html": [
       "<div>\n",
       "<style scoped>\n",
       "    .dataframe tbody tr th:only-of-type {\n",
       "        vertical-align: middle;\n",
       "    }\n",
       "\n",
       "    .dataframe tbody tr th {\n",
       "        vertical-align: top;\n",
       "    }\n",
       "\n",
       "    .dataframe thead th {\n",
       "        text-align: right;\n",
       "    }\n",
       "</style>\n",
       "<table border=\"1\" class=\"dataframe\">\n",
       "  <thead>\n",
       "    <tr style=\"text-align: right;\">\n",
       "      <th></th>\n",
       "      <th>id</th>\n",
       "      <th>listing_url</th>\n",
       "      <th>scrape_id</th>\n",
       "      <th>last_scraped</th>\n",
       "      <th>name</th>\n",
       "      <th>summary</th>\n",
       "      <th>space</th>\n",
       "      <th>description</th>\n",
       "      <th>experiences_offered</th>\n",
       "      <th>neighborhood_overview</th>\n",
       "      <th>notes</th>\n",
       "      <th>transit</th>\n",
       "      <th>access</th>\n",
       "      <th>interaction</th>\n",
       "      <th>house_rules</th>\n",
       "      <th>thumbnail_url</th>\n",
       "      <th>medium_url</th>\n",
       "      <th>picture_url</th>\n",
       "      <th>xl_picture_url</th>\n",
       "      <th>host_id</th>\n",
       "      <th>host_url</th>\n",
       "      <th>host_name</th>\n",
       "      <th>host_since</th>\n",
       "      <th>host_location</th>\n",
       "      <th>host_about</th>\n",
       "      <th>host_response_time</th>\n",
       "      <th>host_response_rate</th>\n",
       "      <th>host_acceptance_rate</th>\n",
       "      <th>host_is_superhost</th>\n",
       "      <th>host_thumbnail_url</th>\n",
       "      <th>host_picture_url</th>\n",
       "      <th>host_neighbourhood</th>\n",
       "      <th>host_listings_count</th>\n",
       "      <th>host_total_listings_count</th>\n",
       "      <th>host_verifications</th>\n",
       "      <th>host_has_profile_pic</th>\n",
       "      <th>host_identity_verified</th>\n",
       "      <th>street</th>\n",
       "      <th>neighbourhood</th>\n",
       "      <th>neighbourhood_cleansed</th>\n",
       "      <th>neighbourhood_group_cleansed</th>\n",
       "      <th>city</th>\n",
       "      <th>state</th>\n",
       "      <th>zipcode</th>\n",
       "      <th>market</th>\n",
       "      <th>smart_location</th>\n",
       "      <th>country_code</th>\n",
       "      <th>country</th>\n",
       "      <th>latitude</th>\n",
       "      <th>longitude</th>\n",
       "      <th>is_location_exact</th>\n",
       "      <th>property_type</th>\n",
       "      <th>room_type</th>\n",
       "      <th>accommodates</th>\n",
       "      <th>bathrooms</th>\n",
       "      <th>bedrooms</th>\n",
       "      <th>beds</th>\n",
       "      <th>bed_type</th>\n",
       "      <th>amenities</th>\n",
       "      <th>square_feet</th>\n",
       "      <th>price</th>\n",
       "      <th>weekly_price</th>\n",
       "      <th>monthly_price</th>\n",
       "      <th>security_deposit</th>\n",
       "      <th>cleaning_fee</th>\n",
       "      <th>guests_included</th>\n",
       "      <th>extra_people</th>\n",
       "      <th>minimum_nights</th>\n",
       "      <th>maximum_nights</th>\n",
       "      <th>minimum_minimum_nights</th>\n",
       "      <th>maximum_minimum_nights</th>\n",
       "      <th>minimum_maximum_nights</th>\n",
       "      <th>maximum_maximum_nights</th>\n",
       "      <th>minimum_nights_avg_ntm</th>\n",
       "      <th>maximum_nights_avg_ntm</th>\n",
       "      <th>calendar_updated</th>\n",
       "      <th>has_availability</th>\n",
       "      <th>availability_30</th>\n",
       "      <th>availability_60</th>\n",
       "      <th>availability_90</th>\n",
       "      <th>availability_365</th>\n",
       "      <th>calendar_last_scraped</th>\n",
       "      <th>number_of_reviews</th>\n",
       "      <th>number_of_reviews_ltm</th>\n",
       "      <th>first_review</th>\n",
       "      <th>last_review</th>\n",
       "      <th>review_scores_rating</th>\n",
       "      <th>review_scores_accuracy</th>\n",
       "      <th>review_scores_cleanliness</th>\n",
       "      <th>review_scores_checkin</th>\n",
       "      <th>review_scores_communication</th>\n",
       "      <th>review_scores_location</th>\n",
       "      <th>review_scores_value</th>\n",
       "      <th>requires_license</th>\n",
       "      <th>license</th>\n",
       "      <th>jurisdiction_names</th>\n",
       "      <th>instant_bookable</th>\n",
       "      <th>is_business_travel_ready</th>\n",
       "      <th>cancellation_policy</th>\n",
       "      <th>require_guest_profile_picture</th>\n",
       "      <th>require_guest_phone_verification</th>\n",
       "      <th>calculated_host_listings_count</th>\n",
       "      <th>calculated_host_listings_count_entire_homes</th>\n",
       "      <th>calculated_host_listings_count_private_rooms</th>\n",
       "      <th>calculated_host_listings_count_shared_rooms</th>\n",
       "      <th>reviews_per_month</th>\n",
       "    </tr>\n",
       "  </thead>\n",
       "  <tbody>\n",
       "    <tr>\n",
       "      <th>0</th>\n",
       "      <td>3344</td>\n",
       "      <td>https://www.airbnb.com/rooms/3344</td>\n",
       "      <td>20190922191721</td>\n",
       "      <td>2019-09-22</td>\n",
       "      <td>White House/Center City, 1 roommate</td>\n",
       "      <td>This listing is for one roommate in a 2BR/2BA ...</td>\n",
       "      <td>You have found The One, but be sure to message...</td>\n",
       "      <td>This listing is for one roommate in a 2BR/2BA ...</td>\n",
       "      <td>none</td>\n",
       "      <td>This is the hottest neighborhood in D.C. at th...</td>\n",
       "      <td>The condo is bright and clean. All friends and...</td>\n",
       "      <td>The Circulator bus to Georgetown and Union sta...</td>\n",
       "      <td>Gym on main floor inside condo building, small...</td>\n",
       "      <td>I am out of state on my job four days out of e...</td>\n",
       "      <td>Please always message me before you book the s...</td>\n",
       "      <td>NaN</td>\n",
       "      <td>NaN</td>\n",
       "      <td>https://a0.muscache.com/im/pictures/18033/45c9...</td>\n",
       "      <td>NaN</td>\n",
       "      <td>4957</td>\n",
       "      <td>https://www.airbnb.com/users/show/4957</td>\n",
       "      <td>A.J.</td>\n",
       "      <td>2008-12-10</td>\n",
       "      <td>Washington, District of Columbia, United States</td>\n",
       "      <td>Cordial, considerate host who keeps out of the...</td>\n",
       "      <td>within a few hours</td>\n",
       "      <td>100%</td>\n",
       "      <td>NaN</td>\n",
       "      <td>f</td>\n",
       "      <td>https://a0.muscache.com/im/pictures/user/17188...</td>\n",
       "      <td>https://a0.muscache.com/im/pictures/user/17188...</td>\n",
       "      <td>Downtown/Penn Quarter</td>\n",
       "      <td>2.0</td>\n",
       "      <td>2.0</td>\n",
       "      <td>['email', 'phone', 'reviews']</td>\n",
       "      <td>t</td>\n",
       "      <td>f</td>\n",
       "      <td>Washington, DC, United States</td>\n",
       "      <td>Downtown/Penn Quarter</td>\n",
       "      <td>Downtown, Chinatown, Penn Quarters, Mount Vern...</td>\n",
       "      <td>NaN</td>\n",
       "      <td>Washington</td>\n",
       "      <td>DC</td>\n",
       "      <td>20005</td>\n",
       "      <td>D.C.</td>\n",
       "      <td>Washington, DC</td>\n",
       "      <td>US</td>\n",
       "      <td>United States</td>\n",
       "      <td>38.90126</td>\n",
       "      <td>-77.02857</td>\n",
       "      <td>t</td>\n",
       "      <td>Condominium</td>\n",
       "      <td>Private room</td>\n",
       "      <td>1</td>\n",
       "      <td>1.0</td>\n",
       "      <td>1.0</td>\n",
       "      <td>1.0</td>\n",
       "      <td>Real Bed</td>\n",
       "      <td>{TV,\"Cable TV\",Internet,Wifi,\"Air conditioning...</td>\n",
       "      <td>NaN</td>\n",
       "      <td>$58.00</td>\n",
       "      <td>$480.00</td>\n",
       "      <td>$1,495.00</td>\n",
       "      <td>$1,500.00</td>\n",
       "      <td>$0.00</td>\n",
       "      <td>1</td>\n",
       "      <td>$25.00</td>\n",
       "      <td>90</td>\n",
       "      <td>720</td>\n",
       "      <td>90</td>\n",
       "      <td>90</td>\n",
       "      <td>720</td>\n",
       "      <td>720</td>\n",
       "      <td>90.0</td>\n",
       "      <td>720.0</td>\n",
       "      <td>5 weeks ago</td>\n",
       "      <td>t</td>\n",
       "      <td>23</td>\n",
       "      <td>53</td>\n",
       "      <td>83</td>\n",
       "      <td>358</td>\n",
       "      <td>2019-09-22</td>\n",
       "      <td>11</td>\n",
       "      <td>0</td>\n",
       "      <td>2009-05-09</td>\n",
       "      <td>2016-08-31</td>\n",
       "      <td>100.0</td>\n",
       "      <td>10.0</td>\n",
       "      <td>10.0</td>\n",
       "      <td>10.0</td>\n",
       "      <td>10.0</td>\n",
       "      <td>10.0</td>\n",
       "      <td>10.0</td>\n",
       "      <td>f</td>\n",
       "      <td>NaN</td>\n",
       "      <td>{\"DISTRICT OF COLUMBIA\",\" WASHINGTON\"}</td>\n",
       "      <td>t</td>\n",
       "      <td>f</td>\n",
       "      <td>moderate</td>\n",
       "      <td>f</td>\n",
       "      <td>f</td>\n",
       "      <td>2</td>\n",
       "      <td>1</td>\n",
       "      <td>1</td>\n",
       "      <td>0</td>\n",
       "      <td>0.09</td>\n",
       "    </tr>\n",
       "    <tr>\n",
       "      <th>1</th>\n",
       "      <td>3362</td>\n",
       "      <td>https://www.airbnb.com/rooms/3362</td>\n",
       "      <td>20190922191721</td>\n",
       "      <td>2019-09-22</td>\n",
       "      <td>Convention Center Rowhouse &amp; In Law: 2 Units, 4BR</td>\n",
       "      <td>An architect-designed rowhouse featuring a lar...</td>\n",
       "      <td>This listing features our 19th century Victori...</td>\n",
       "      <td>An architect-designed rowhouse featuring a lar...</td>\n",
       "      <td>none</td>\n",
       "      <td>NaN</td>\n",
       "      <td>NaN</td>\n",
       "      <td>The best part of living in Shaw is that you're...</td>\n",
       "      <td>Guests will have access to the entire three-le...</td>\n",
       "      <td>We look for responsible, independent guests wh...</td>\n",
       "      <td>- Be respectful of our neighbors (no loud musi...</td>\n",
       "      <td>NaN</td>\n",
       "      <td>NaN</td>\n",
       "      <td>https://a0.muscache.com/im/pictures/18666/06da...</td>\n",
       "      <td>NaN</td>\n",
       "      <td>2798</td>\n",
       "      <td>https://www.airbnb.com/users/show/2798</td>\n",
       "      <td>Ayeh</td>\n",
       "      <td>2008-09-07</td>\n",
       "      <td>Washington, District of Columbia, United States</td>\n",
       "      <td>I love the District and sharing all the local ...</td>\n",
       "      <td>within an hour</td>\n",
       "      <td>100%</td>\n",
       "      <td>NaN</td>\n",
       "      <td>f</td>\n",
       "      <td>https://a0.muscache.com/im/users/2798/profile_...</td>\n",
       "      <td>https://a0.muscache.com/im/users/2798/profile_...</td>\n",
       "      <td>Shaw</td>\n",
       "      <td>5.0</td>\n",
       "      <td>5.0</td>\n",
       "      <td>['email', 'phone', 'facebook', 'reviews', 'kba...</td>\n",
       "      <td>t</td>\n",
       "      <td>t</td>\n",
       "      <td>Washington, DC, United States</td>\n",
       "      <td>Shaw</td>\n",
       "      <td>Shaw, Logan Circle</td>\n",
       "      <td>NaN</td>\n",
       "      <td>Washington</td>\n",
       "      <td>DC</td>\n",
       "      <td>20001</td>\n",
       "      <td>D.C.</td>\n",
       "      <td>Washington, DC</td>\n",
       "      <td>US</td>\n",
       "      <td>United States</td>\n",
       "      <td>38.91046</td>\n",
       "      <td>-77.01933</td>\n",
       "      <td>t</td>\n",
       "      <td>Townhouse</td>\n",
       "      <td>Entire home/apt</td>\n",
       "      <td>16</td>\n",
       "      <td>3.5</td>\n",
       "      <td>4.0</td>\n",
       "      <td>6.0</td>\n",
       "      <td>Real Bed</td>\n",
       "      <td>{TV,Internet,Wifi,\"Air conditioning\",Kitchen,\"...</td>\n",
       "      <td>NaN</td>\n",
       "      <td>$433.00</td>\n",
       "      <td>NaN</td>\n",
       "      <td>NaN</td>\n",
       "      <td>$500.00</td>\n",
       "      <td>$202.00</td>\n",
       "      <td>8</td>\n",
       "      <td>$24.00</td>\n",
       "      <td>2</td>\n",
       "      <td>365</td>\n",
       "      <td>2</td>\n",
       "      <td>2</td>\n",
       "      <td>365</td>\n",
       "      <td>365</td>\n",
       "      <td>2.0</td>\n",
       "      <td>365.0</td>\n",
       "      <td>3 weeks ago</td>\n",
       "      <td>t</td>\n",
       "      <td>7</td>\n",
       "      <td>21</td>\n",
       "      <td>39</td>\n",
       "      <td>307</td>\n",
       "      <td>2019-09-22</td>\n",
       "      <td>171</td>\n",
       "      <td>21</td>\n",
       "      <td>2009-01-21</td>\n",
       "      <td>2019-08-26</td>\n",
       "      <td>95.0</td>\n",
       "      <td>9.0</td>\n",
       "      <td>9.0</td>\n",
       "      <td>10.0</td>\n",
       "      <td>10.0</td>\n",
       "      <td>10.0</td>\n",
       "      <td>9.0</td>\n",
       "      <td>f</td>\n",
       "      <td>NaN</td>\n",
       "      <td>{\"DISTRICT OF COLUMBIA\",\" WASHINGTON\"}</td>\n",
       "      <td>t</td>\n",
       "      <td>f</td>\n",
       "      <td>strict_14_with_grace_period</td>\n",
       "      <td>f</td>\n",
       "      <td>f</td>\n",
       "      <td>5</td>\n",
       "      <td>5</td>\n",
       "      <td>0</td>\n",
       "      <td>0</td>\n",
       "      <td>1.32</td>\n",
       "    </tr>\n",
       "    <tr>\n",
       "      <th>2</th>\n",
       "      <td>3662</td>\n",
       "      <td>https://www.airbnb.com/rooms/3662</td>\n",
       "      <td>20190922191721</td>\n",
       "      <td>2019-09-22</td>\n",
       "      <td>Vita's Hideaway II</td>\n",
       "      <td>IMPORTANT NOTES * Carefully read and be sure t...</td>\n",
       "      <td>IMPORTANT NOTES * Airbnb keeps accurate track ...</td>\n",
       "      <td>IMPORTANT NOTES * Carefully read and be sure t...</td>\n",
       "      <td>none</td>\n",
       "      <td>We love that our neighborhood is up and coming...</td>\n",
       "      <td>We love love love meeting people from around t...</td>\n",
       "      <td>We love that it only takes about 10 minutes to...</td>\n",
       "      <td>Guests have access to their room and common ar...</td>\n",
       "      <td>We allow guests to dictate the level of intera...</td>\n",
       "      <td>*no illegal activity *no smoking *no pets *no ...</td>\n",
       "      <td>NaN</td>\n",
       "      <td>NaN</td>\n",
       "      <td>https://a0.muscache.com/im/pictures/997f0a07-7...</td>\n",
       "      <td>NaN</td>\n",
       "      <td>4645</td>\n",
       "      <td>https://www.airbnb.com/users/show/4645</td>\n",
       "      <td>Vita</td>\n",
       "      <td>2008-11-26</td>\n",
       "      <td>Washington D.C., District of Columbia, United ...</td>\n",
       "      <td>I am a literary scholar, teacher, poet, vegan ...</td>\n",
       "      <td>within a few hours</td>\n",
       "      <td>100%</td>\n",
       "      <td>NaN</td>\n",
       "      <td>f</td>\n",
       "      <td>https://a0.muscache.com/im/users/4645/profile_...</td>\n",
       "      <td>https://a0.muscache.com/im/users/4645/profile_...</td>\n",
       "      <td>Anacostia</td>\n",
       "      <td>3.0</td>\n",
       "      <td>3.0</td>\n",
       "      <td>['email', 'phone', 'reviews', 'jumio', 'offlin...</td>\n",
       "      <td>t</td>\n",
       "      <td>t</td>\n",
       "      <td>Washington, DC, United States</td>\n",
       "      <td>Buena Vista</td>\n",
       "      <td>Historic Anacostia</td>\n",
       "      <td>NaN</td>\n",
       "      <td>Washington</td>\n",
       "      <td>DC</td>\n",
       "      <td>20020</td>\n",
       "      <td>D.C.</td>\n",
       "      <td>Washington, DC</td>\n",
       "      <td>US</td>\n",
       "      <td>United States</td>\n",
       "      <td>38.86193</td>\n",
       "      <td>-76.98963</td>\n",
       "      <td>f</td>\n",
       "      <td>House</td>\n",
       "      <td>Private room</td>\n",
       "      <td>1</td>\n",
       "      <td>1.0</td>\n",
       "      <td>1.0</td>\n",
       "      <td>1.0</td>\n",
       "      <td>Pull-out Sofa</td>\n",
       "      <td>{TV,Internet,Wifi,Kitchen,\"Free parking on pre...</td>\n",
       "      <td>NaN</td>\n",
       "      <td>$65.00</td>\n",
       "      <td>$495.00</td>\n",
       "      <td>$1,175.00</td>\n",
       "      <td>$0.00</td>\n",
       "      <td>$0.00</td>\n",
       "      <td>1</td>\n",
       "      <td>$0.00</td>\n",
       "      <td>2</td>\n",
       "      <td>365</td>\n",
       "      <td>2</td>\n",
       "      <td>2</td>\n",
       "      <td>365</td>\n",
       "      <td>365</td>\n",
       "      <td>2.0</td>\n",
       "      <td>365.0</td>\n",
       "      <td>6 months ago</td>\n",
       "      <td>t</td>\n",
       "      <td>0</td>\n",
       "      <td>0</td>\n",
       "      <td>21</td>\n",
       "      <td>296</td>\n",
       "      <td>2019-09-22</td>\n",
       "      <td>36</td>\n",
       "      <td>1</td>\n",
       "      <td>2011-04-13</td>\n",
       "      <td>2019-04-14</td>\n",
       "      <td>94.0</td>\n",
       "      <td>10.0</td>\n",
       "      <td>9.0</td>\n",
       "      <td>10.0</td>\n",
       "      <td>10.0</td>\n",
       "      <td>8.0</td>\n",
       "      <td>9.0</td>\n",
       "      <td>f</td>\n",
       "      <td>NaN</td>\n",
       "      <td>{\"DISTRICT OF COLUMBIA\",\" WASHINGTON\"}</td>\n",
       "      <td>f</td>\n",
       "      <td>f</td>\n",
       "      <td>moderate</td>\n",
       "      <td>f</td>\n",
       "      <td>f</td>\n",
       "      <td>3</td>\n",
       "      <td>0</td>\n",
       "      <td>3</td>\n",
       "      <td>0</td>\n",
       "      <td>0.35</td>\n",
       "    </tr>\n",
       "  </tbody>\n",
       "</table>\n",
       "</div>"
      ],
      "text/plain": [
       "     id                        listing_url       scrape_id last_scraped  \\\n",
       "0  3344  https://www.airbnb.com/rooms/3344  20190922191721   2019-09-22   \n",
       "1  3362  https://www.airbnb.com/rooms/3362  20190922191721   2019-09-22   \n",
       "2  3662  https://www.airbnb.com/rooms/3662  20190922191721   2019-09-22   \n",
       "\n",
       "                                                name  \\\n",
       "0                White House/Center City, 1 roommate   \n",
       "1  Convention Center Rowhouse & In Law: 2 Units, 4BR   \n",
       "2                                 Vita's Hideaway II   \n",
       "\n",
       "                                             summary  \\\n",
       "0  This listing is for one roommate in a 2BR/2BA ...   \n",
       "1  An architect-designed rowhouse featuring a lar...   \n",
       "2  IMPORTANT NOTES * Carefully read and be sure t...   \n",
       "\n",
       "                                               space  \\\n",
       "0  You have found The One, but be sure to message...   \n",
       "1  This listing features our 19th century Victori...   \n",
       "2  IMPORTANT NOTES * Airbnb keeps accurate track ...   \n",
       "\n",
       "                                         description experiences_offered  \\\n",
       "0  This listing is for one roommate in a 2BR/2BA ...                none   \n",
       "1  An architect-designed rowhouse featuring a lar...                none   \n",
       "2  IMPORTANT NOTES * Carefully read and be sure t...                none   \n",
       "\n",
       "                               neighborhood_overview  \\\n",
       "0  This is the hottest neighborhood in D.C. at th...   \n",
       "1                                                NaN   \n",
       "2  We love that our neighborhood is up and coming...   \n",
       "\n",
       "                                               notes  \\\n",
       "0  The condo is bright and clean. All friends and...   \n",
       "1                                                NaN   \n",
       "2  We love love love meeting people from around t...   \n",
       "\n",
       "                                             transit  \\\n",
       "0  The Circulator bus to Georgetown and Union sta...   \n",
       "1  The best part of living in Shaw is that you're...   \n",
       "2  We love that it only takes about 10 minutes to...   \n",
       "\n",
       "                                              access  \\\n",
       "0  Gym on main floor inside condo building, small...   \n",
       "1  Guests will have access to the entire three-le...   \n",
       "2  Guests have access to their room and common ar...   \n",
       "\n",
       "                                         interaction  \\\n",
       "0  I am out of state on my job four days out of e...   \n",
       "1  We look for responsible, independent guests wh...   \n",
       "2  We allow guests to dictate the level of intera...   \n",
       "\n",
       "                                         house_rules  thumbnail_url  \\\n",
       "0  Please always message me before you book the s...            NaN   \n",
       "1  - Be respectful of our neighbors (no loud musi...            NaN   \n",
       "2  *no illegal activity *no smoking *no pets *no ...            NaN   \n",
       "\n",
       "   medium_url                                        picture_url  \\\n",
       "0         NaN  https://a0.muscache.com/im/pictures/18033/45c9...   \n",
       "1         NaN  https://a0.muscache.com/im/pictures/18666/06da...   \n",
       "2         NaN  https://a0.muscache.com/im/pictures/997f0a07-7...   \n",
       "\n",
       "   xl_picture_url  host_id                                host_url host_name  \\\n",
       "0             NaN     4957  https://www.airbnb.com/users/show/4957      A.J.   \n",
       "1             NaN     2798  https://www.airbnb.com/users/show/2798      Ayeh   \n",
       "2             NaN     4645  https://www.airbnb.com/users/show/4645      Vita   \n",
       "\n",
       "   host_since                                      host_location  \\\n",
       "0  2008-12-10    Washington, District of Columbia, United States   \n",
       "1  2008-09-07    Washington, District of Columbia, United States   \n",
       "2  2008-11-26  Washington D.C., District of Columbia, United ...   \n",
       "\n",
       "                                          host_about  host_response_time  \\\n",
       "0  Cordial, considerate host who keeps out of the...  within a few hours   \n",
       "1  I love the District and sharing all the local ...      within an hour   \n",
       "2  I am a literary scholar, teacher, poet, vegan ...  within a few hours   \n",
       "\n",
       "  host_response_rate  host_acceptance_rate host_is_superhost  \\\n",
       "0               100%                   NaN                 f   \n",
       "1               100%                   NaN                 f   \n",
       "2               100%                   NaN                 f   \n",
       "\n",
       "                                  host_thumbnail_url  \\\n",
       "0  https://a0.muscache.com/im/pictures/user/17188...   \n",
       "1  https://a0.muscache.com/im/users/2798/profile_...   \n",
       "2  https://a0.muscache.com/im/users/4645/profile_...   \n",
       "\n",
       "                                    host_picture_url     host_neighbourhood  \\\n",
       "0  https://a0.muscache.com/im/pictures/user/17188...  Downtown/Penn Quarter   \n",
       "1  https://a0.muscache.com/im/users/2798/profile_...                   Shaw   \n",
       "2  https://a0.muscache.com/im/users/4645/profile_...              Anacostia   \n",
       "\n",
       "   host_listings_count  host_total_listings_count  \\\n",
       "0                  2.0                        2.0   \n",
       "1                  5.0                        5.0   \n",
       "2                  3.0                        3.0   \n",
       "\n",
       "                                  host_verifications host_has_profile_pic  \\\n",
       "0                      ['email', 'phone', 'reviews']                    t   \n",
       "1  ['email', 'phone', 'facebook', 'reviews', 'kba...                    t   \n",
       "2  ['email', 'phone', 'reviews', 'jumio', 'offlin...                    t   \n",
       "\n",
       "  host_identity_verified                         street  \\\n",
       "0                      f  Washington, DC, United States   \n",
       "1                      t  Washington, DC, United States   \n",
       "2                      t  Washington, DC, United States   \n",
       "\n",
       "           neighbourhood                             neighbourhood_cleansed  \\\n",
       "0  Downtown/Penn Quarter  Downtown, Chinatown, Penn Quarters, Mount Vern...   \n",
       "1                   Shaw                                 Shaw, Logan Circle   \n",
       "2            Buena Vista                                 Historic Anacostia   \n",
       "\n",
       "   neighbourhood_group_cleansed        city state zipcode market  \\\n",
       "0                           NaN  Washington    DC   20005   D.C.   \n",
       "1                           NaN  Washington    DC   20001   D.C.   \n",
       "2                           NaN  Washington    DC   20020   D.C.   \n",
       "\n",
       "   smart_location country_code        country  latitude  longitude  \\\n",
       "0  Washington, DC           US  United States  38.90126  -77.02857   \n",
       "1  Washington, DC           US  United States  38.91046  -77.01933   \n",
       "2  Washington, DC           US  United States  38.86193  -76.98963   \n",
       "\n",
       "  is_location_exact property_type        room_type  accommodates  bathrooms  \\\n",
       "0                 t   Condominium     Private room             1        1.0   \n",
       "1                 t     Townhouse  Entire home/apt            16        3.5   \n",
       "2                 f         House     Private room             1        1.0   \n",
       "\n",
       "   bedrooms  beds       bed_type  \\\n",
       "0       1.0   1.0       Real Bed   \n",
       "1       4.0   6.0       Real Bed   \n",
       "2       1.0   1.0  Pull-out Sofa   \n",
       "\n",
       "                                           amenities  square_feet    price  \\\n",
       "0  {TV,\"Cable TV\",Internet,Wifi,\"Air conditioning...          NaN   $58.00   \n",
       "1  {TV,Internet,Wifi,\"Air conditioning\",Kitchen,\"...          NaN  $433.00   \n",
       "2  {TV,Internet,Wifi,Kitchen,\"Free parking on pre...          NaN   $65.00   \n",
       "\n",
       "  weekly_price monthly_price security_deposit cleaning_fee  guests_included  \\\n",
       "0      $480.00     $1,495.00        $1,500.00        $0.00                1   \n",
       "1          NaN           NaN          $500.00      $202.00                8   \n",
       "2      $495.00     $1,175.00            $0.00        $0.00                1   \n",
       "\n",
       "  extra_people  minimum_nights  maximum_nights  minimum_minimum_nights  \\\n",
       "0       $25.00              90             720                      90   \n",
       "1       $24.00               2             365                       2   \n",
       "2        $0.00               2             365                       2   \n",
       "\n",
       "   maximum_minimum_nights  minimum_maximum_nights  maximum_maximum_nights  \\\n",
       "0                      90                     720                     720   \n",
       "1                       2                     365                     365   \n",
       "2                       2                     365                     365   \n",
       "\n",
       "   minimum_nights_avg_ntm  maximum_nights_avg_ntm calendar_updated  \\\n",
       "0                    90.0                   720.0      5 weeks ago   \n",
       "1                     2.0                   365.0      3 weeks ago   \n",
       "2                     2.0                   365.0     6 months ago   \n",
       "\n",
       "  has_availability  availability_30  availability_60  availability_90  \\\n",
       "0                t               23               53               83   \n",
       "1                t                7               21               39   \n",
       "2                t                0                0               21   \n",
       "\n",
       "   availability_365 calendar_last_scraped  number_of_reviews  \\\n",
       "0               358            2019-09-22                 11   \n",
       "1               307            2019-09-22                171   \n",
       "2               296            2019-09-22                 36   \n",
       "\n",
       "   number_of_reviews_ltm first_review last_review  review_scores_rating  \\\n",
       "0                      0   2009-05-09  2016-08-31                 100.0   \n",
       "1                     21   2009-01-21  2019-08-26                  95.0   \n",
       "2                      1   2011-04-13  2019-04-14                  94.0   \n",
       "\n",
       "   review_scores_accuracy  review_scores_cleanliness  review_scores_checkin  \\\n",
       "0                    10.0                       10.0                   10.0   \n",
       "1                     9.0                        9.0                   10.0   \n",
       "2                    10.0                        9.0                   10.0   \n",
       "\n",
       "   review_scores_communication  review_scores_location  review_scores_value  \\\n",
       "0                         10.0                    10.0                 10.0   \n",
       "1                         10.0                    10.0                  9.0   \n",
       "2                         10.0                     8.0                  9.0   \n",
       "\n",
       "  requires_license  license                      jurisdiction_names  \\\n",
       "0                f      NaN  {\"DISTRICT OF COLUMBIA\",\" WASHINGTON\"}   \n",
       "1                f      NaN  {\"DISTRICT OF COLUMBIA\",\" WASHINGTON\"}   \n",
       "2                f      NaN  {\"DISTRICT OF COLUMBIA\",\" WASHINGTON\"}   \n",
       "\n",
       "  instant_bookable is_business_travel_ready          cancellation_policy  \\\n",
       "0                t                        f                     moderate   \n",
       "1                t                        f  strict_14_with_grace_period   \n",
       "2                f                        f                     moderate   \n",
       "\n",
       "  require_guest_profile_picture require_guest_phone_verification  \\\n",
       "0                             f                                f   \n",
       "1                             f                                f   \n",
       "2                             f                                f   \n",
       "\n",
       "   calculated_host_listings_count  \\\n",
       "0                               2   \n",
       "1                               5   \n",
       "2                               3   \n",
       "\n",
       "   calculated_host_listings_count_entire_homes  \\\n",
       "0                                            1   \n",
       "1                                            5   \n",
       "2                                            0   \n",
       "\n",
       "   calculated_host_listings_count_private_rooms  \\\n",
       "0                                             1   \n",
       "1                                             0   \n",
       "2                                             3   \n",
       "\n",
       "   calculated_host_listings_count_shared_rooms  reviews_per_month  \n",
       "0                                            0               0.09  \n",
       "1                                            0               1.32  \n",
       "2                                            0               0.35  "
      ]
     },
     "execution_count": 3,
     "metadata": {},
     "output_type": "execute_result"
    }
   ],
   "source": [
    "raw_df_2019 = pd.read_csv('DC_2019Sep22/listings.csv')\n",
    "print(f\"The dataset contains {len(raw_df_2019)} Airbnb listings\")\n",
    "pd.set_option('display.max_columns', len(raw_df_2019.columns)) # To view all columns\n",
    "pd.set_option('display.max_rows', 100)\n",
    "raw_df_2019.head(3)"
   ]
  },
  {
   "cell_type": "code",
   "execution_count": 4,
   "metadata": {},
   "outputs": [
    {
     "data": {
      "text/plain": [
       "0                                         Vita's Hideaway\n",
       "1                        Historic Rowhouse Near Monuments\n",
       "2                         Bedroom in DC 2 blocks to Metro\n",
       "3                                          DC, Near Metro\n",
       "4                                Cozy apt in Adams Morgan\n",
       "                              ...                        \n",
       "7345                            DC Hidden In Plain \"Site\"\n",
       "7346    DC 3 BR w/ screen porch 3 blck to metro w/ par...\n",
       "7347    Charming Penthouse Apt w/ Rooftop Terrace in L...\n",
       "7348                  Adams Morgan/Nat'l Zoo 1 BR Apt #32\n",
       "7349      Beautiful large one-bedroom w/ washer and dryer\n",
       "Name: name, Length: 7350, dtype: object"
      ]
     },
     "execution_count": 4,
     "metadata": {},
     "output_type": "execute_result"
    }
   ],
   "source": [
    "raw_df.name"
   ]
  },
  {
   "cell_type": "code",
   "execution_count": 5,
   "metadata": {},
   "outputs": [],
   "source": [
    "raw_df_sum = pd.read_csv('DC_2020Sep21/listings_summary.csv')\n",
    "#print(f\"The dataset contains {len(raw_df_sum)} Airbnb listings\")\n",
    "#pd.set_option('display.max_columns', len(raw_df_sum.columns)) # To view all columns\n",
    "#pd.set_option('display.max_rows', 100)\n",
    "#raw_df.head(3)"
   ]
  },
  {
   "cell_type": "code",
   "execution_count": 6,
   "metadata": {},
   "outputs": [
    {
     "data": {
      "text/html": [
       "<div>\n",
       "<style scoped>\n",
       "    .dataframe tbody tr th:only-of-type {\n",
       "        vertical-align: middle;\n",
       "    }\n",
       "\n",
       "    .dataframe tbody tr th {\n",
       "        vertical-align: top;\n",
       "    }\n",
       "\n",
       "    .dataframe thead th {\n",
       "        text-align: right;\n",
       "    }\n",
       "</style>\n",
       "<table border=\"1\" class=\"dataframe\">\n",
       "  <thead>\n",
       "    <tr style=\"text-align: right;\">\n",
       "      <th></th>\n",
       "      <th>id</th>\n",
       "      <th>name</th>\n",
       "      <th>host_id</th>\n",
       "      <th>host_name</th>\n",
       "      <th>neighbourhood_group</th>\n",
       "      <th>neighbourhood</th>\n",
       "      <th>latitude</th>\n",
       "      <th>longitude</th>\n",
       "      <th>room_type</th>\n",
       "      <th>price</th>\n",
       "      <th>minimum_nights</th>\n",
       "      <th>number_of_reviews</th>\n",
       "      <th>last_review</th>\n",
       "      <th>reviews_per_month</th>\n",
       "      <th>calculated_host_listings_count</th>\n",
       "      <th>availability_365</th>\n",
       "    </tr>\n",
       "  </thead>\n",
       "  <tbody>\n",
       "    <tr>\n",
       "      <th>0</th>\n",
       "      <td>3686</td>\n",
       "      <td>Vita's Hideaway</td>\n",
       "      <td>4645</td>\n",
       "      <td>Vita</td>\n",
       "      <td>NaN</td>\n",
       "      <td>Historic Anacostia</td>\n",
       "      <td>38.86314</td>\n",
       "      <td>-76.98836</td>\n",
       "      <td>Private room</td>\n",
       "      <td>55</td>\n",
       "      <td>2</td>\n",
       "      <td>72</td>\n",
       "      <td>2020-04-01</td>\n",
       "      <td>0.60</td>\n",
       "      <td>2</td>\n",
       "      <td>365</td>\n",
       "    </tr>\n",
       "    <tr>\n",
       "      <th>1</th>\n",
       "      <td>3943</td>\n",
       "      <td>Historic Rowhouse Near Monuments</td>\n",
       "      <td>5059</td>\n",
       "      <td>Vasa</td>\n",
       "      <td>NaN</td>\n",
       "      <td>Edgewood, Bloomingdale, Truxton Circle, Eckington</td>\n",
       "      <td>38.91066</td>\n",
       "      <td>-77.00438</td>\n",
       "      <td>Private room</td>\n",
       "      <td>80</td>\n",
       "      <td>27</td>\n",
       "      <td>429</td>\n",
       "      <td>2018-08-07</td>\n",
       "      <td>3.10</td>\n",
       "      <td>2</td>\n",
       "      <td>101</td>\n",
       "    </tr>\n",
       "    <tr>\n",
       "      <th>2</th>\n",
       "      <td>4197</td>\n",
       "      <td>Bedroom in DC 2 blocks to Metro</td>\n",
       "      <td>5061</td>\n",
       "      <td>Sandra</td>\n",
       "      <td>NaN</td>\n",
       "      <td>Capitol Hill, Lincoln Park</td>\n",
       "      <td>38.88791</td>\n",
       "      <td>-76.99668</td>\n",
       "      <td>Private room</td>\n",
       "      <td>76</td>\n",
       "      <td>28</td>\n",
       "      <td>45</td>\n",
       "      <td>2020-03-14</td>\n",
       "      <td>0.33</td>\n",
       "      <td>2</td>\n",
       "      <td>324</td>\n",
       "    </tr>\n",
       "    <tr>\n",
       "      <th>3</th>\n",
       "      <td>4967</td>\n",
       "      <td>DC, Near Metro</td>\n",
       "      <td>7086</td>\n",
       "      <td>Seveer</td>\n",
       "      <td>NaN</td>\n",
       "      <td>Ivy City, Arboretum, Trinidad, Carver Langston</td>\n",
       "      <td>38.91263</td>\n",
       "      <td>-76.99221</td>\n",
       "      <td>Private room</td>\n",
       "      <td>99</td>\n",
       "      <td>2</td>\n",
       "      <td>31</td>\n",
       "      <td>2016-09-22</td>\n",
       "      <td>0.26</td>\n",
       "      <td>3</td>\n",
       "      <td>83</td>\n",
       "    </tr>\n",
       "    <tr>\n",
       "      <th>4</th>\n",
       "      <td>5589</td>\n",
       "      <td>Cozy apt in Adams Morgan</td>\n",
       "      <td>6527</td>\n",
       "      <td>Ami</td>\n",
       "      <td>NaN</td>\n",
       "      <td>Kalorama Heights, Adams Morgan, Lanier Heights</td>\n",
       "      <td>38.91933</td>\n",
       "      <td>-77.04124</td>\n",
       "      <td>Entire home/apt</td>\n",
       "      <td>76</td>\n",
       "      <td>7</td>\n",
       "      <td>95</td>\n",
       "      <td>2020-03-05</td>\n",
       "      <td>0.71</td>\n",
       "      <td>2</td>\n",
       "      <td>109</td>\n",
       "    </tr>\n",
       "  </tbody>\n",
       "</table>\n",
       "</div>"
      ],
      "text/plain": [
       "     id                              name  host_id host_name  \\\n",
       "0  3686                   Vita's Hideaway     4645      Vita   \n",
       "1  3943  Historic Rowhouse Near Monuments     5059      Vasa   \n",
       "2  4197   Bedroom in DC 2 blocks to Metro     5061    Sandra   \n",
       "3  4967                    DC, Near Metro     7086    Seveer   \n",
       "4  5589          Cozy apt in Adams Morgan     6527       Ami   \n",
       "\n",
       "   neighbourhood_group                                      neighbourhood  \\\n",
       "0                  NaN                                 Historic Anacostia   \n",
       "1                  NaN  Edgewood, Bloomingdale, Truxton Circle, Eckington   \n",
       "2                  NaN                         Capitol Hill, Lincoln Park   \n",
       "3                  NaN     Ivy City, Arboretum, Trinidad, Carver Langston   \n",
       "4                  NaN     Kalorama Heights, Adams Morgan, Lanier Heights   \n",
       "\n",
       "   latitude  longitude        room_type  price  minimum_nights  \\\n",
       "0  38.86314  -76.98836     Private room     55               2   \n",
       "1  38.91066  -77.00438     Private room     80              27   \n",
       "2  38.88791  -76.99668     Private room     76              28   \n",
       "3  38.91263  -76.99221     Private room     99               2   \n",
       "4  38.91933  -77.04124  Entire home/apt     76               7   \n",
       "\n",
       "   number_of_reviews last_review  reviews_per_month  \\\n",
       "0                 72  2020-04-01               0.60   \n",
       "1                429  2018-08-07               3.10   \n",
       "2                 45  2020-03-14               0.33   \n",
       "3                 31  2016-09-22               0.26   \n",
       "4                 95  2020-03-05               0.71   \n",
       "\n",
       "   calculated_host_listings_count  availability_365  \n",
       "0                               2               365  \n",
       "1                               2               101  \n",
       "2                               2               324  \n",
       "3                               3                83  \n",
       "4                               2               109  "
      ]
     },
     "execution_count": 6,
     "metadata": {},
     "output_type": "execute_result"
    }
   ],
   "source": [
    "raw_df_sum.head()"
   ]
  },
  {
   "cell_type": "markdown",
   "metadata": {},
   "source": [
    "## Cleaning and preprocessing "
   ]
  },
  {
   "cell_type": "markdown",
   "metadata": {},
   "source": [
    "#### Dropping initial columns"
   ]
  },
  {
   "cell_type": "markdown",
   "metadata": {},
   "source": [
    "NLP will not be used in the creation of an initial model (although they could be used to augment the model later, e.g. through sentiment analysis). Therefore, free text columns will be dropped for now, as will other columns which are not useful for predicting price (e.g. url, host name and other host-related features that are unrelated to the property).\n",
    "\n"
   ]
  },
  {
   "cell_type": "code",
   "execution_count": 7,
   "metadata": {},
   "outputs": [],
   "source": [
    "cols_to_drop = ['listing_url', 'scrape_id', 'last_scraped', 'name', 'description', 'neighborhood_overview', 'host_id', 'host_url', 'host_name', 'host_location', 'host_about', 'host_thumbnail_url', 'host_picture_url', 'picture_url', 'host_neighbourhood', 'host_verifications', 'calendar_last_scraped']\n",
    "df = raw_df.drop(cols_to_drop, axis=1)"
   ]
  },
  {
   "cell_type": "code",
   "execution_count": 8,
   "metadata": {},
   "outputs": [
    {
     "data": {
      "text/plain": [
       "id                                                 0\n",
       "host_since                                         0\n",
       "host_response_time                              2554\n",
       "host_response_rate                              2554\n",
       "host_acceptance_rate                            1866\n",
       "host_is_superhost                                  0\n",
       "host_listings_count                                0\n",
       "host_total_listings_count                          0\n",
       "host_has_profile_pic                               0\n",
       "host_identity_verified                             0\n",
       "neighbourhood                                   2472\n",
       "neighbourhood_cleansed                             0\n",
       "neighbourhood_group_cleansed                    7350\n",
       "latitude                                           0\n",
       "longitude                                          0\n",
       "property_type                                      0\n",
       "room_type                                          0\n",
       "accommodates                                       0\n",
       "bathrooms                                       7350\n",
       "bathrooms_text                                     7\n",
       "bedrooms                                         731\n",
       "beds                                              35\n",
       "amenities                                          0\n",
       "price                                              0\n",
       "minimum_nights                                     0\n",
       "maximum_nights                                     0\n",
       "minimum_minimum_nights                             0\n",
       "maximum_minimum_nights                             0\n",
       "minimum_maximum_nights                             0\n",
       "maximum_maximum_nights                             0\n",
       "minimum_nights_avg_ntm                             0\n",
       "maximum_nights_avg_ntm                             0\n",
       "calendar_updated                                7350\n",
       "has_availability                                   0\n",
       "availability_30                                    0\n",
       "availability_60                                    0\n",
       "availability_90                                    0\n",
       "availability_365                                   0\n",
       "number_of_reviews                                  0\n",
       "number_of_reviews_ltm                              0\n",
       "number_of_reviews_l30d                             0\n",
       "first_review                                    1804\n",
       "last_review                                     1804\n",
       "review_scores_rating                            1906\n",
       "review_scores_accuracy                          1923\n",
       "review_scores_cleanliness                       1923\n",
       "review_scores_checkin                           1927\n",
       "review_scores_communication                     1923\n",
       "review_scores_location                          1927\n",
       "review_scores_value                             1930\n",
       "license                                         7349\n",
       "instant_bookable                                   0\n",
       "calculated_host_listings_count                     0\n",
       "calculated_host_listings_count_entire_homes        0\n",
       "calculated_host_listings_count_private_rooms       0\n",
       "calculated_host_listings_count_shared_rooms        0\n",
       "reviews_per_month                               1804\n",
       "dtype: int64"
      ]
     },
     "execution_count": 8,
     "metadata": {},
     "output_type": "execute_result"
    }
   ],
   "source": [
    "df.isna().sum()"
   ]
  },
  {
   "cell_type": "markdown",
   "metadata": {},
   "source": [
    "Base on the null entries, other columns can be dropped because they contain a majority of null entries."
   ]
  },
  {
   "cell_type": "code",
   "execution_count": 9,
   "metadata": {},
   "outputs": [],
   "source": [
    "df.drop(['neighbourhood_group_cleansed', 'bathrooms', 'calendar_updated', 'license'], axis=1, inplace=True)\n",
    "\n",
    "df.set_index('id', inplace=True) # The id will be used as the index, as this could be useful in future e.g. if a separate dataset containing reviews for each property is linked to this one\n"
   ]
  },
  {
   "cell_type": "markdown",
   "metadata": {},
   "source": [
    "host_listings_count and host_total_listings_count are the same. Therefore one of these columns can be dropped."
   ]
  },
  {
   "cell_type": "code",
   "execution_count": 10,
   "metadata": {},
   "outputs": [
    {
     "name": "stdout",
     "output_type": "stream",
     "text": [
      "0\n"
     ]
    },
    {
     "data": {
      "text/html": [
       "<div>\n",
       "<style scoped>\n",
       "    .dataframe tbody tr th:only-of-type {\n",
       "        vertical-align: middle;\n",
       "    }\n",
       "\n",
       "    .dataframe tbody tr th {\n",
       "        vertical-align: top;\n",
       "    }\n",
       "\n",
       "    .dataframe thead th {\n",
       "        text-align: right;\n",
       "    }\n",
       "</style>\n",
       "<table border=\"1\" class=\"dataframe\">\n",
       "  <thead>\n",
       "    <tr style=\"text-align: right;\">\n",
       "      <th></th>\n",
       "      <th>host_since</th>\n",
       "      <th>host_response_time</th>\n",
       "      <th>host_response_rate</th>\n",
       "      <th>host_acceptance_rate</th>\n",
       "      <th>host_is_superhost</th>\n",
       "      <th>host_listings_count</th>\n",
       "      <th>host_total_listings_count</th>\n",
       "      <th>host_has_profile_pic</th>\n",
       "      <th>host_identity_verified</th>\n",
       "      <th>neighbourhood</th>\n",
       "      <th>neighbourhood_cleansed</th>\n",
       "      <th>latitude</th>\n",
       "      <th>longitude</th>\n",
       "      <th>property_type</th>\n",
       "      <th>room_type</th>\n",
       "      <th>accommodates</th>\n",
       "      <th>bathrooms_text</th>\n",
       "      <th>bedrooms</th>\n",
       "      <th>beds</th>\n",
       "      <th>amenities</th>\n",
       "      <th>price</th>\n",
       "      <th>minimum_nights</th>\n",
       "      <th>maximum_nights</th>\n",
       "      <th>minimum_minimum_nights</th>\n",
       "      <th>maximum_minimum_nights</th>\n",
       "      <th>minimum_maximum_nights</th>\n",
       "      <th>maximum_maximum_nights</th>\n",
       "      <th>minimum_nights_avg_ntm</th>\n",
       "      <th>maximum_nights_avg_ntm</th>\n",
       "      <th>has_availability</th>\n",
       "      <th>availability_30</th>\n",
       "      <th>availability_60</th>\n",
       "      <th>availability_90</th>\n",
       "      <th>availability_365</th>\n",
       "      <th>number_of_reviews</th>\n",
       "      <th>number_of_reviews_ltm</th>\n",
       "      <th>number_of_reviews_l30d</th>\n",
       "      <th>first_review</th>\n",
       "      <th>last_review</th>\n",
       "      <th>review_scores_rating</th>\n",
       "      <th>review_scores_accuracy</th>\n",
       "      <th>review_scores_cleanliness</th>\n",
       "      <th>review_scores_checkin</th>\n",
       "      <th>review_scores_communication</th>\n",
       "      <th>review_scores_location</th>\n",
       "      <th>review_scores_value</th>\n",
       "      <th>instant_bookable</th>\n",
       "      <th>calculated_host_listings_count</th>\n",
       "      <th>calculated_host_listings_count_entire_homes</th>\n",
       "      <th>calculated_host_listings_count_private_rooms</th>\n",
       "      <th>calculated_host_listings_count_shared_rooms</th>\n",
       "      <th>reviews_per_month</th>\n",
       "    </tr>\n",
       "    <tr>\n",
       "      <th>id</th>\n",
       "      <th></th>\n",
       "      <th></th>\n",
       "      <th></th>\n",
       "      <th></th>\n",
       "      <th></th>\n",
       "      <th></th>\n",
       "      <th></th>\n",
       "      <th></th>\n",
       "      <th></th>\n",
       "      <th></th>\n",
       "      <th></th>\n",
       "      <th></th>\n",
       "      <th></th>\n",
       "      <th></th>\n",
       "      <th></th>\n",
       "      <th></th>\n",
       "      <th></th>\n",
       "      <th></th>\n",
       "      <th></th>\n",
       "      <th></th>\n",
       "      <th></th>\n",
       "      <th></th>\n",
       "      <th></th>\n",
       "      <th></th>\n",
       "      <th></th>\n",
       "      <th></th>\n",
       "      <th></th>\n",
       "      <th></th>\n",
       "      <th></th>\n",
       "      <th></th>\n",
       "      <th></th>\n",
       "      <th></th>\n",
       "      <th></th>\n",
       "      <th></th>\n",
       "      <th></th>\n",
       "      <th></th>\n",
       "      <th></th>\n",
       "      <th></th>\n",
       "      <th></th>\n",
       "      <th></th>\n",
       "      <th></th>\n",
       "      <th></th>\n",
       "      <th></th>\n",
       "      <th></th>\n",
       "      <th></th>\n",
       "      <th></th>\n",
       "      <th></th>\n",
       "      <th></th>\n",
       "      <th></th>\n",
       "      <th></th>\n",
       "      <th></th>\n",
       "      <th></th>\n",
       "    </tr>\n",
       "  </thead>\n",
       "  <tbody>\n",
       "  </tbody>\n",
       "</table>\n",
       "</div>"
      ],
      "text/plain": [
       "Empty DataFrame\n",
       "Columns: [host_since, host_response_time, host_response_rate, host_acceptance_rate, host_is_superhost, host_listings_count, host_total_listings_count, host_has_profile_pic, host_identity_verified, neighbourhood, neighbourhood_cleansed, latitude, longitude, property_type, room_type, accommodates, bathrooms_text, bedrooms, beds, amenities, price, minimum_nights, maximum_nights, minimum_minimum_nights, maximum_minimum_nights, minimum_maximum_nights, maximum_maximum_nights, minimum_nights_avg_ntm, maximum_nights_avg_ntm, has_availability, availability_30, availability_60, availability_90, availability_365, number_of_reviews, number_of_reviews_ltm, number_of_reviews_l30d, first_review, last_review, review_scores_rating, review_scores_accuracy, review_scores_cleanliness, review_scores_checkin, review_scores_communication, review_scores_location, review_scores_value, instant_bookable, calculated_host_listings_count, calculated_host_listings_count_entire_homes, calculated_host_listings_count_private_rooms, calculated_host_listings_count_shared_rooms, reviews_per_month]\n",
       "Index: []"
      ]
     },
     "execution_count": 10,
     "metadata": {},
     "output_type": "execute_result"
    }
   ],
   "source": [
    "print(sum((df.host_listings_count == df.host_total_listings_count) == False))\n",
    "df.loc[((df.host_listings_count == df.host_total_listings_count) == False)][:5]"
   ]
  },
  {
   "cell_type": "code",
   "execution_count": 11,
   "metadata": {},
   "outputs": [],
   "source": [
    "df.drop(['host_total_listings_count', 'calculated_host_listings_count', 'calculated_host_listings_count_entire_homes', 'calculated_host_listings_count_private_rooms', 'calculated_host_listings_count_shared_rooms'], axis=1, inplace=True)"
   ]
  },
  {
   "cell_type": "markdown",
   "metadata": {},
   "source": [
    "There are multiple columns for property location, including an attempt by the site that originally scraped the data to clean up the neighbourhood locations. Some of these columns can be dropped. Because all of the listings are in DC, columns relating to city and country can be dropped. \n",
    "* Latitude and longitude will be saved in a dataframe for later use (see modelling section below).\n",
    "* One columns for area will be kept - 'neighboorhood_cleansed', ''neighboorhood' will be dropped "
   ]
  },
  {
   "cell_type": "code",
   "execution_count": 12,
   "metadata": {},
   "outputs": [],
   "source": [
    "lat_long = df[['latitude', 'longitude']]"
   ]
  },
  {
   "cell_type": "code",
   "execution_count": 13,
   "metadata": {},
   "outputs": [],
   "source": [
    "df.drop(['latitude', 'longitude',  'neighbourhood'], axis=1, inplace=True)"
   ]
  },
  {
   "cell_type": "markdown",
   "metadata": {},
   "source": [
    "There are multiple columns for minimum and maximum night stays, but the two main ones will be used as there are few differences between e.g. minimum_nights and minimum_minimum_nights. The latter presumably refers to the fact that min/max night stays can vary over the year. The default (i.e. most frequently applied) min/max night stay values will be used instead."
   ]
  },
  {
   "cell_type": "code",
   "execution_count": 14,
   "metadata": {},
   "outputs": [
    {
     "data": {
      "text/plain": [
       "380"
      ]
     },
     "execution_count": 14,
     "metadata": {},
     "output_type": "execute_result"
    }
   ],
   "source": [
    "sum((df.minimum_nights == df.minimum_minimum_nights) == False)"
   ]
  },
  {
   "cell_type": "code",
   "execution_count": 15,
   "metadata": {},
   "outputs": [],
   "source": [
    "df.drop(['minimum_minimum_nights', 'maximum_minimum_nights', 'minimum_maximum_nights', 'maximum_maximum_nights', 'minimum_nights_avg_ntm', 'maximum_nights_avg_ntm'], axis=1, inplace=True)"
   ]
  },
  {
   "cell_type": "markdown",
   "metadata": {},
   "source": [
    "Checking whether boolean and categorical features contain sufficient numbers of instances in each category to make them worth including:"
   ]
  },
  {
   "cell_type": "code",
   "execution_count": 16,
   "metadata": {},
   "outputs": [
    {
     "data": {
      "image/png": "[encoded data removed]",
      "text/plain": [
       "<Figure size 1440x1440 with 30 Axes>"
      ]
     },
     "metadata": {
      "needs_background": "light"
     },
     "output_type": "display_data"
    }
   ],
   "source": [
    "# Replacing columns with f/t with 0/1\n",
    "df.replace({'f': 0, 't': 1}, inplace=True)\n",
    "\n",
    "# Plotting the distribution of numerical and boolean categories\n",
    "df.hist(figsize=(20,20));"
   ]
  },
  {
   "cell_type": "markdown",
   "metadata": {},
   "source": [
    "From the above, it can be seen that several columns only contain one category and can be dropped:"
   ]
  },
  {
   "cell_type": "code",
   "execution_count": 17,
   "metadata": {},
   "outputs": [],
   "source": [
    "df.drop(['has_availability', 'host_has_profile_pic'], axis=1, inplace=True)"
   ]
  },
  {
   "cell_type": "code",
   "execution_count": 18,
   "metadata": {},
   "outputs": [
    {
     "name": "stdout",
     "output_type": "stream",
     "text": [
      "<class 'pandas.core.frame.DataFrame'>\n",
      "Int64Index: 7350 entries, 3686 to 45517735\n",
      "Data columns (total 36 columns):\n",
      " #   Column                       Non-Null Count  Dtype  \n",
      "---  ------                       --------------  -----  \n",
      " 0   host_since                   7350 non-null   object \n",
      " 1   host_response_time           4796 non-null   object \n",
      " 2   host_response_rate           4796 non-null   object \n",
      " 3   host_acceptance_rate         5484 non-null   object \n",
      " 4   host_is_superhost            7350 non-null   int64  \n",
      " 5   host_listings_count          7350 non-null   int64  \n",
      " 6   host_identity_verified       7350 non-null   int64  \n",
      " 7   neighbourhood_cleansed       7350 non-null   object \n",
      " 8   property_type                7350 non-null   object \n",
      " 9   room_type                    7350 non-null   object \n",
      " 10  accommodates                 7350 non-null   int64  \n",
      " 11  bathrooms_text               7343 non-null   object \n",
      " 12  bedrooms                     6619 non-null   float64\n",
      " 13  beds                         7315 non-null   float64\n",
      " 14  amenities                    7350 non-null   object \n",
      " 15  price                        7350 non-null   object \n",
      " 16  minimum_nights               7350 non-null   int64  \n",
      " 17  maximum_nights               7350 non-null   int64  \n",
      " 18  availability_30              7350 non-null   int64  \n",
      " 19  availability_60              7350 non-null   int64  \n",
      " 20  availability_90              7350 non-null   int64  \n",
      " 21  availability_365             7350 non-null   int64  \n",
      " 22  number_of_reviews            7350 non-null   int64  \n",
      " 23  number_of_reviews_ltm        7350 non-null   int64  \n",
      " 24  number_of_reviews_l30d       7350 non-null   int64  \n",
      " 25  first_review                 5546 non-null   object \n",
      " 26  last_review                  5546 non-null   object \n",
      " 27  review_scores_rating         5444 non-null   float64\n",
      " 28  review_scores_accuracy       5427 non-null   float64\n",
      " 29  review_scores_cleanliness    5427 non-null   float64\n",
      " 30  review_scores_checkin        5423 non-null   float64\n",
      " 31  review_scores_communication  5427 non-null   float64\n",
      " 32  review_scores_location       5423 non-null   float64\n",
      " 33  review_scores_value          5420 non-null   float64\n",
      " 34  instant_bookable             7350 non-null   int64  \n",
      " 35  reviews_per_month            5546 non-null   float64\n",
      "dtypes: float64(10), int64(14), object(12)\n",
      "memory usage: 2.1+ MB\n"
     ]
    }
   ],
   "source": [
    "df.info()"
   ]
  },
  {
   "cell_type": "markdown",
   "metadata": {},
   "source": [
    "### Description of each column:\n",
    "* host_since - date that the host first joined Airbnb\n",
    "* host_response_time - average amount of time the host takes to reply to messages\n",
    "* host_response_rate - proportion of messages that the host replies to\n",
    "* host_acceptance_rate - proportion of the booking requests accepted \n",
    "* host_is_superhost - whether or not the host is a superhost, which is a mark of quality for the top-rated and most * * host_listings_count - how many listings the host has in total\n",
    "* host_identity_verified - whether or not the host has been verified with id\n",
    "* neighbourhood_cleansed - the London borough the property is in\n",
    "* property_type - type of property, e.g. house or flat\n",
    "* room_type - type of listing, e.g. entire home, private room or shared room\n",
    "* accommodates - how many people the property accommodates\n",
    "# * bathrooms_text - number of bathrooms  (text)\n",
    "* bedrooms - number of bedrooms\n",
    "* beds - number of beds\n",
    "* bed_type - type of bed, e.g. real bed or sofa-bed\n",
    "* amenities - list of amenities\n",
    "* price - nightly advertised price (the target variable)\n",
    "* minimum_nights - the minimum length of stay\n",
    "* maximum_nights - the maximum length of stay\n",
    "* calendar_updated - when the host last updated the calendar\n",
    "* availability_30 - how many nights are available to be booked in the next 30 days\n",
    "* availability_60 - how many nights are available to be booked in the next 60 days\n",
    "* availability_90 - how many nights are available to be booked in the next 90 days\n",
    "* availability_365 - how many nights are available to be booked in the next 365 days\n",
    "* number_of_reviews - the number of reviews left for the property\n",
    "* number_of_reviews_ltm - the number of reviews left for the property in the last twelve months\n",
    "* first_review - the date of the first review\n",
    "* last_review - the date of the most recent review\n",
    "* review_scores_rating - guests can score properties overall from 1 to 5 stars\n",
    "* review_scores_accuracy - guests can score the accuracy of a property's description from 1 to 5 stars\n",
    "* review_scores_cleanliness - guests can score a property's cleanliness from 1 to 5 stars\n",
    "* review_scores_checkin - guests can score their check-in from 1 to 5 stars\n",
    "* review_scores_communication - guests can score a host's communication from 1 to 5 stars\n",
    "* review_scores_location - guests can score a property's location from 1 to 5 stars\n",
    "* review_scores_value - guests can score a booking's value for money from 1 to 5 stars\n",
    "* instant_bookable - whether or not the property can be instant booked (i.e. booked straight away, without having to * * reviews_per_month - calculated field of the average number of reviews left by guest each month"
   ]
  },
  {
   "cell_type": "markdown",
   "metadata": {},
   "source": [
    "### Cleaning individual columns"
   ]
  },
  {
   "cell_type": "markdown",
   "metadata": {},
   "source": [
    "### host_since"
   ]
  },
  {
   "cell_type": "markdown",
   "metadata": {},
   "source": [
    "This is a datetime column, and will be converted into a measure of the number of days that a host has been on the platform, measured from the date that the data was scraped (9 April 2019). The original column will be left in initially for EDA, and dropped later."
   ]
  },
  {
   "cell_type": "code",
   "execution_count": 19,
   "metadata": {},
   "outputs": [
    {
     "name": "stdout",
     "output_type": "stream",
     "text": [
      "Mean days as host: 1858.0\n",
      "Median days as host: 1828.0\n"
     ]
    }
   ],
   "source": [
    "# Converting to datetime\n",
    "df.host_since = pd.to_datetime(df.host_since) \n",
    "\n",
    "# Calculating the number of days\n",
    "df['host_days_active'] = (datetime(2020, 9, 21) - df.host_since).astype('timedelta64[D]')\n",
    "\n",
    "# Printing mean and median\n",
    "print(\"Mean days as host:\", round(df['host_days_active'].mean(),0))\n",
    "print(\"Median days as host:\", df['host_days_active'].median())\n",
    "\n",
    "# Replacing null values with the median\n",
    "df.host_days_active.fillna(df.host_days_active.median(), inplace=True)"
   ]
  },
  {
   "cell_type": "markdown",
   "metadata": {},
   "source": [
    "### host_response_time"
   ]
  },
  {
   "cell_type": "markdown",
   "metadata": {},
   "source": [
    "About a third of rows don't have a value for host_response_time, and the majority of these have also not yet been reviewed. Therefore this section of the dataset consists primarily of properties which have not yet had a completed stay (most likely properties which have not yet had a booking, although may also include properties that have a booking currently occuring). Although this is a considerable proportion of the dataset, these listings will be retained in the data because they are still legitimate properties with advertised prices, and are still part of the comparative market when considering the price for which to advertise your Airbnb listing. However, if the dataset being used had the actual average price paid as its target, it would be necessary to drop these rows because they would not have a value, as they have not yet been booked.\n",
    "\n",
    "It is worth noting, however, that this group of listings probably also contains a large number of 'inactive' listings. These are properties which have been speculatively listed on Airbnb but either have their calendars closed (so no stays can be booked), or have prices which are notably higher than other properties in their area. The latter occurs in some cases when people who regularly live in a property put their property on Airbnb at a high price just to see if anyone is willing to book at that price (some Airbnb listings are indeed booked at very high prices). Then if their property is booked, they will decamp to a cheaper hotel for those dates, and pocket the difference in price.\n",
    "\n",
    "Because host_response_time is unknown for so many listings, it will be retained as its own category, 'unknown'."
   ]
  },
  {
   "cell_type": "code",
   "execution_count": 20,
   "metadata": {},
   "outputs": [
    {
     "name": "stdout",
     "output_type": "stream",
     "text": [
      "Null values: 2554\n",
      "Proportion: 34.7%\n"
     ]
    }
   ],
   "source": [
    "print(\"Null values:\", df.host_response_time.isna().sum())\n",
    "print(f\"Proportion: {round((df.host_response_time.isna().sum()/len(df))*100, 1)}%\")"
   ]
  },
  {
   "cell_type": "code",
   "execution_count": 21,
   "metadata": {},
   "outputs": [
    {
     "data": {
      "text/plain": [
       "849"
      ]
     },
     "execution_count": 21,
     "metadata": {},
     "output_type": "execute_result"
    }
   ],
   "source": [
    "# Number of rows without a value for host_response_time which have also not yet had a review\n",
    "len(df[df[['host_response_time', 'first_review']].isnull().all(axis=1)])"
   ]
  },
  {
   "cell_type": "code",
   "execution_count": 22,
   "metadata": {},
   "outputs": [
    {
     "data": {
      "text/plain": [
       "within an hour        0.394830\n",
       "unknown               0.347483\n",
       "within a few hours    0.144354\n",
       "within a day          0.089932\n",
       "a few days or more    0.023401\n",
       "Name: host_response_time, dtype: float64"
      ]
     },
     "execution_count": 22,
     "metadata": {},
     "output_type": "execute_result"
    }
   ],
   "source": [
    "df.host_response_time.fillna(\"unknown\", inplace=True)\n",
    "df.host_response_time.value_counts(normalize=True)"
   ]
  },
  {
   "cell_type": "code",
   "execution_count": 23,
   "metadata": {},
   "outputs": [
    {
     "data": {
      "text/plain": [
       "within an hour        0.394830\n",
       "unknown               0.347483\n",
       "within a few hours    0.144354\n",
       "within a day          0.089932\n",
       "a few days or more    0.023401\n",
       "Name: host_response_time, dtype: float64"
      ]
     },
     "execution_count": 23,
     "metadata": {},
     "output_type": "execute_result"
    }
   ],
   "source": [
    "df.host_response_time.value_counts(normalize=True)"
   ]
  },
  {
   "cell_type": "markdown",
   "metadata": {},
   "source": [
    "### host_response_rate"
   ]
  },
  {
   "cell_type": "markdown",
   "metadata": {},
   "source": [
    "A similar story is true for host_response_rate, with about a third of values being null. This will also be kept as its own category, after grouping other values into meaningful groups (i.e. transforming this into a categorical feature, rather than a numerical one). Because about 70% of hosts respond 100% of the time, this will be kept as its own category, and other values will be grouped into bins."
   ]
  },
  {
   "cell_type": "code",
   "execution_count": 24,
   "metadata": {},
   "outputs": [
    {
     "name": "stdout",
     "output_type": "stream",
     "text": [
      "Null values: 2554\n",
      "Proportion: 34.7%\n"
     ]
    }
   ],
   "source": [
    "print(\"Null values:\", df.host_response_rate.isna().sum())\n",
    "print(f\"Proportion: {round((df.host_response_rate.isna().sum()/len(df))*100, 1)}%\")"
   ]
  },
  {
   "cell_type": "code",
   "execution_count": 25,
   "metadata": {},
   "outputs": [
    {
     "name": "stdout",
     "output_type": "stream",
     "text": [
      "Mean host response rate: 93.0\n",
      "Median host response rate: 100.0\n",
      "Proportion of 100% host response rates: 68.3%\n"
     ]
    }
   ],
   "source": [
    "# Removing the % sign from the host_response_rate string and converting to an integer\n",
    "df.host_response_rate = df.host_response_rate.str[:-1].astype('float64')\n",
    "\n",
    "print(\"Mean host response rate:\", round(df['host_response_rate'].mean(),0))\n",
    "print(\"Median host response rate:\", df['host_response_rate'].median())\n",
    "print(f\"Proportion of 100% host response rates: {round(((df.host_response_rate == 100.0).sum()/df.host_response_rate.count())*100,1)}%\")"
   ]
  },
  {
   "cell_type": "code",
   "execution_count": 26,
   "metadata": {},
   "outputs": [
    {
     "data": {
      "text/plain": [
       "100%       3276\n",
       "unknown    2554\n",
       "90-99%      742\n",
       "50-89%      563\n",
       "0-49%       215\n",
       "Name: host_response_rate, dtype: int64"
      ]
     },
     "execution_count": 26,
     "metadata": {},
     "output_type": "execute_result"
    }
   ],
   "source": [
    "# Bin into four categories\n",
    "df.host_response_rate = pd.cut(df.host_response_rate, bins=[0, 50, 90, 99, 100], labels=['0-49%', '50-89%', '90-99%', '100%'], include_lowest=True)\n",
    "\n",
    "# Converting to string\n",
    "df.host_response_rate = df.host_response_rate.astype('str')\n",
    "\n",
    "# Replace nulls with 'unknown'\n",
    "df.host_response_rate.replace('nan', 'unknown', inplace=True)\n",
    "\n",
    "# Category counts\n",
    "df.host_response_rate.value_counts()"
   ]
  },
  {
   "cell_type": "markdown",
   "metadata": {},
   "source": [
    "### host_acceptance_rate"
   ]
  },
  {
   "cell_type": "code",
   "execution_count": 27,
   "metadata": {},
   "outputs": [
    {
     "name": "stdout",
     "output_type": "stream",
     "text": [
      "Null values: 1866\n",
      "Proportion: 25.4%\n"
     ]
    }
   ],
   "source": [
    "print(\"Null values:\", df.host_acceptance_rate.isna().sum())\n",
    "print(f\"Proportion: {round((df.host_acceptance_rate.isna().sum()/len(df))*100, 1)}%\")"
   ]
  },
  {
   "cell_type": "code",
   "execution_count": 28,
   "metadata": {},
   "outputs": [
    {
     "name": "stdout",
     "output_type": "stream",
     "text": [
      "Mean host acceptance rate: 87.0\n",
      "Median host acceptance rate: 98.0\n",
      "Proportion of 100% host acceptance rates: 33.4%\n"
     ]
    }
   ],
   "source": [
    "# Removing the % sign from the host_response_rate string and converting to an integer\n",
    "df.host_acceptance_rate = df.host_acceptance_rate.str[:-1].astype('float64')\n",
    "\n",
    "print(\"Mean host acceptance rate:\", round(df['host_acceptance_rate'].mean(),0))\n",
    "print(\"Median host acceptance rate:\", df['host_acceptance_rate'].median())\n",
    "print(f\"Proportion of 100% host acceptance rates: {round(((df.host_acceptance_rate == 100.0).sum()/df.host_acceptance_rate.count())*100,1)}%\")"
   ]
  },
  {
   "cell_type": "code",
   "execution_count": 29,
   "metadata": {},
   "outputs": [
    {
     "data": {
      "text/plain": [
       "90-99%     1913\n",
       "unknown    1866\n",
       "100%       1834\n",
       "50-89%     1317\n",
       "0-49%       420\n",
       "Name: host_acceptance_rate, dtype: int64"
      ]
     },
     "execution_count": 29,
     "metadata": {},
     "output_type": "execute_result"
    }
   ],
   "source": [
    "# Bin into four categories\n",
    "df.host_acceptance_rate = pd.cut(df.host_acceptance_rate, bins=[0, 50, 90, 99, 100], labels=['0-49%', '50-89%', '90-99%', '100%'], include_lowest=True)\n",
    "\n",
    "# Converting to string\n",
    "df.host_acceptance_rate = df.host_acceptance_rate.astype('str')\n",
    "\n",
    "# Replace nulls with 'unknown'\n",
    "df.host_acceptance_rate.replace('nan', 'unknown', inplace=True)\n",
    "\n",
    "# Category counts\n",
    "df.host_acceptance_rate.value_counts()"
   ]
  },
  {
   "cell_type": "markdown",
   "metadata": {},
   "source": [
    "### host_is_superhost"
   ]
  },
  {
   "cell_type": "markdown",
   "metadata": {},
   "source": [
    "five different host-related features have the same number of nan values. "
   ]
  },
  {
   "cell_type": "code",
   "execution_count": 30,
   "metadata": {},
   "outputs": [
    {
     "data": {
      "text/plain": [
       "0"
      ]
     },
     "execution_count": 30,
     "metadata": {},
     "output_type": "execute_result"
    }
   ],
   "source": [
    "# Number of rows without a value for multiple host-related columns\n",
    "len(df[df[['host_since', 'host_is_superhost', 'host_listings_count', 'host_identity_verified']].isnull().all(axis=1)])"
   ]
  },
  {
   "cell_type": "markdown",
   "metadata": {},
   "source": [
    "### property_type"
   ]
  },
  {
   "cell_type": "markdown",
   "metadata": {},
   "source": [
    "Some cleaning of property types is required as there are a large number of categories with only a few listings. The categories 'apartment', 'house' and 'other' will be used, as most properties can be classified as either apartments or houses."
   ]
  },
  {
   "cell_type": "code",
   "execution_count": 31,
   "metadata": {},
   "outputs": [
    {
     "data": {
      "text/plain": [
       "Entire apartment                     2588\n",
       "Private room in house                 724\n",
       "Entire house                          711\n",
       "Entire townhouse                      554\n",
       "Private room in townhouse             501\n",
       "Entire condominium                    442\n",
       "Entire serviced apartment             406\n",
       "Entire guest suite                    404\n",
       "Private room in apartment             360\n",
       "Private room in condominium           146\n",
       "Shared room in apartment               92\n",
       "Room in boutique hotel                 72\n",
       "Entire loft                            41\n",
       "Entire guesthouse                      35\n",
       "Private room in guest suite            29\n",
       "Shared room in townhouse               27\n",
       "Private room in bed and breakfast      25\n",
       "Shared room in house                   22\n",
       "Shared room in hostel                  16\n",
       "Room in hotel                          16\n",
       "Entire place                           15\n",
       "Room in serviced apartment             15\n",
       "Shared room in condominium             12\n",
       "Private room in loft                   10\n",
       "Shared room in guesthouse              10\n",
       "Room in bed and breakfast              10\n",
       "Room in hostel                         10\n",
       "Private room in guesthouse              9\n",
       "Entire bungalow                         7\n",
       "Private room in bungalow                6\n",
       "Entire villa                            5\n",
       "Private room                            5\n",
       "Tiny house                              4\n",
       "Entire cottage                          3\n",
       "Private room in villa                   2\n",
       "Shared room in loft                     2\n",
       "Barn                                    2\n",
       "Private room in resort                  2\n",
       "Camper/RV                               2\n",
       "Shared room in hotel                    2\n",
       "Shared room in guest suite              1\n",
       "Room in aparthotel                      1\n",
       "Boat                                    1\n",
       "Entire floor                            1\n",
       "Entire in-law                           1\n",
       "Shared room in boutique hotel           1\n",
       "Name: property_type, dtype: int64"
      ]
     },
     "execution_count": 31,
     "metadata": {},
     "output_type": "execute_result"
    }
   ],
   "source": [
    "df.property_type.value_counts()"
   ]
  },
  {
   "cell_type": "code",
   "execution_count": 32,
   "metadata": {},
   "outputs": [],
   "source": [
    "# Replacing categories that are types of houses or apartments\n",
    "df.property_type.replace({\n",
    "    'Entire townhouse': 'House',\n",
    "    'Entire apartment': 'Apartment',\n",
    "    'Entire serviced apartment': 'Apartment',\n",
    "    'Entire loft': 'Apartment',\n",
    "    'Entire guesthouse': 'Apartment',\n",
    "    'Entire guest suite': 'Apartment',\n",
    "    'Entire condominium': 'Apartment',\n",
    "    'Entire house': 'House',\n",
    "    'Entire place': 'House',\n",
    "    'Entire Villa': 'House',\n",
    "    'Tiny house': 'House',\n",
    "    'Entire bungalow': 'House',\n",
    "    }, inplace=True)\n",
    "\n",
    "# Replacing other categories with 'other'\n",
    "df.loc[~df.property_type.isin(['House', 'Apartment']), 'property_type'] = 'Other'"
   ]
  },
  {
   "cell_type": "markdown",
   "metadata": {},
   "source": [
    "### bedrooms and beds"
   ]
  },
  {
   "cell_type": "markdown",
   "metadata": {},
   "source": [
    "Missing values will be replaced with the median (to avoid strange fractions)."
   ]
  },
  {
   "cell_type": "code",
   "execution_count": 33,
   "metadata": {},
   "outputs": [],
   "source": [
    "for col in ['bedrooms', 'beds']:\n",
    "    df[col].fillna(df[col].median(), inplace=True)"
   ]
  },
  {
   "cell_type": "markdown",
   "metadata": {},
   "source": [
    "### bathrooms"
   ]
  },
  {
   "cell_type": "markdown",
   "metadata": {},
   "source": [
    "Bathrooms are text format,and is very messy"
   ]
  },
  {
   "cell_type": "code",
   "execution_count": 34,
   "metadata": {},
   "outputs": [
    {
     "data": {
      "text/plain": [
       "1 bath               3912\n",
       "1 shared bath         732\n",
       "2 baths               671\n",
       "1 private bath        589\n",
       "1.5 baths             423\n",
       "2.5 baths             369\n",
       "1.5 shared baths      185\n",
       "3.5 baths             117\n",
       "3 baths                97\n",
       "2 shared baths         97\n",
       "2.5 shared baths       40\n",
       "4 baths                27\n",
       "4.5 baths              21\n",
       "3 shared baths         13\n",
       "4.5 shared baths        9\n",
       "5.5 baths               6\n",
       "0 shared baths          6\n",
       "3.5 shared baths        4\n",
       "5 baths                 4\n",
       "Half-bath               3\n",
       "0 baths                 3\n",
       "Shared half-bath        2\n",
       "5.5 shared baths        2\n",
       "8 shared baths          2\n",
       "6.5 baths               2\n",
       "50 shared baths         1\n",
       "11 shared baths         1\n",
       "10 shared baths         1\n",
       "Private half-bath       1\n",
       "10.5 baths              1\n",
       "6 baths                 1\n",
       "6 shared baths          1\n",
       "Name: bathrooms_text, dtype: int64"
      ]
     },
     "execution_count": 34,
     "metadata": {},
     "output_type": "execute_result"
    }
   ],
   "source": [
    "df.bathrooms_text.value_counts()"
   ]
  },
  {
   "cell_type": "code",
   "execution_count": 35,
   "metadata": {},
   "outputs": [
    {
     "data": {
      "text/plain": [
       "7"
      ]
     },
     "execution_count": 35,
     "metadata": {},
     "output_type": "execute_result"
    }
   ],
   "source": [
    "df.bathrooms_text.isnull().sum()"
   ]
  },
  {
   "cell_type": "code",
   "execution_count": 36,
   "metadata": {},
   "outputs": [],
   "source": [
    "df.loc[:, \"bathrooms_text_1\"] = df[\"bathrooms_text\"].astype(str).str.replace(\"Half\",\"0.5\").str.replace(\"half\",\"0.5\")\n",
    "df.loc[:, \"bathrooms_text_1\"] = df[\"bathrooms_text_1\"].astype(str).str.replace(\"Private 0.5-bath\",\"0.5 private bath\")\n",
    "df.loc[:, \"bathrooms_text_1\"] = df[\"bathrooms_text_1\"].astype(str).str.replace(\"Shared 0.5-bath\",\"0.5 shared bath\")\n",
    "df.loc[:, \"bathrooms_text_1\"] = df[\"bathrooms_text_1\"].astype(str).str.replace(\"0.5-bath\",\"0.5 bath\")\n",
    "df.loc[:, \"bathrooms_text_1\"] = df[\"bathrooms_text_1\"].astype(str).str.replace(\"-\",\" \")\n",
    "df.loc[:, \"bathrooms_text_1\"] = df[\"bathrooms_text_1\"].astype(str).str.replace(\"nan\",\"1\")"
   ]
  },
  {
   "cell_type": "code",
   "execution_count": 37,
   "metadata": {},
   "outputs": [
    {
     "data": {
      "text/plain": [
       "1 bath              3912\n",
       "1 shared bath        732\n",
       "2 baths              671\n",
       "1 private bath       589\n",
       "1.5 baths            423\n",
       "2.5 baths            369\n",
       "1.5 shared baths     185\n",
       "3.5 baths            117\n",
       "3 baths               97\n",
       "2 shared baths        97\n",
       "2.5 shared baths      40\n",
       "4 baths               27\n",
       "4.5 baths             21\n",
       "3 shared baths        13\n",
       "4.5 shared baths       9\n",
       "1                      7\n",
       "0 shared baths         6\n",
       "5.5 baths              6\n",
       "3.5 shared baths       4\n",
       "5 baths                4\n",
       "0.5 bath               3\n",
       "0 baths                3\n",
       "0.5 shared bath        2\n",
       "5.5 shared baths       2\n",
       "8 shared baths         2\n",
       "6.5 baths              2\n",
       "50 shared baths        1\n",
       "10 shared baths        1\n",
       "11 shared baths        1\n",
       "0.5 private bath       1\n",
       "10.5 baths             1\n",
       "6 baths                1\n",
       "6 shared baths         1\n",
       "Name: bathrooms_text_1, dtype: int64"
      ]
     },
     "execution_count": 37,
     "metadata": {},
     "output_type": "execute_result"
    }
   ],
   "source": [
    "df.bathrooms_text_1.value_counts()"
   ]
  },
  {
   "cell_type": "code",
   "execution_count": 38,
   "metadata": {},
   "outputs": [],
   "source": [
    "df.loc[:, \"bathrooms\"] = pd.to_numeric(df.bathrooms_text_1.str.split(\" \", n = 0, expand = True)[0])"
   ]
  },
  {
   "cell_type": "code",
   "execution_count": 39,
   "metadata": {},
   "outputs": [
    {
     "data": {
      "text/plain": [
       "1.0     5240\n",
       "2.0      768\n",
       "1.5      608\n",
       "2.5      409\n",
       "3.5      121\n",
       "3.0      110\n",
       "4.5       30\n",
       "4.0       27\n",
       "0.0        9\n",
       "5.5        8\n",
       "0.5        6\n",
       "5.0        4\n",
       "8.0        2\n",
       "6.0        2\n",
       "6.5        2\n",
       "10.5       1\n",
       "10.0       1\n",
       "11.0       1\n",
       "50.0       1\n",
       "Name: bathrooms, dtype: int64"
      ]
     },
     "execution_count": 39,
     "metadata": {},
     "output_type": "execute_result"
    }
   ],
   "source": [
    "df.bathrooms.value_counts()"
   ]
  },
  {
   "cell_type": "code",
   "execution_count": 40,
   "metadata": {},
   "outputs": [],
   "source": [
    "df.drop(['bathrooms_text', 'bathrooms_text_1'], axis=1, inplace=True)"
   ]
  },
  {
   "cell_type": "markdown",
   "metadata": {},
   "source": [
    "### Price"
   ]
  },
  {
   "cell_type": "markdown",
   "metadata": {},
   "source": [
    "Price will be converted to an integer - currently it is a string because there is a currency sign."
   ]
  },
  {
   "cell_type": "code",
   "execution_count": 41,
   "metadata": {},
   "outputs": [],
   "source": [
    "df.price = df.price.str[1:-3]\n",
    "df.price = df.price.str.replace(\",\", \"\")\n",
    "df.price = df.price.astype('int64')"
   ]
  },
  {
   "cell_type": "markdown",
   "metadata": {},
   "source": [
    "### first_review and last_review"
   ]
  },
  {
   "cell_type": "markdown",
   "metadata": {},
   "source": [
    "About a quarter of listings have not had a review written for them. This is too large a proportion of the dataset to drop, and dropping the columns would lose a lot of useful information - reviews are very important in people's decisions to book, and therefore price.\n",
    "\n",
    "This is also too large a proportion of the dataset to simply replace with median/mean values, as this would skew the distribution substantially. Also, the missing values here are not really missing values, as the fact that they are NaNs is meaningful - it tells us that these are new or previously unbooked listings that have not had reviews yet. In order to make the resulting model work able to predict prices for any Airbnb listing, including brand new listings, is is actually beneficial to keep them in. Therefore, these will be kept as an 'unknown' category, and the feature will have to be treated as categorical (and therefore one-hot encoded) rather than numerical."
   ]
  },
  {
   "cell_type": "code",
   "execution_count": 42,
   "metadata": {},
   "outputs": [
    {
     "name": "stdout",
     "output_type": "stream",
     "text": [
      "Null values in 'first_review': 24.5%\n",
      "Null values in 'review_scores_rating': 25.9%\n"
     ]
    }
   ],
   "source": [
    "print(f\"Null values in 'first_review': {round(100*df.first_review.isna().sum()/len(df),1)}%\")\n",
    "print(f\"Null values in 'review_scores_rating': {round(100*df.review_scores_rating .isna().sum()/len(df),1)}%\")"
   ]
  },
  {
   "cell_type": "code",
   "execution_count": 43,
   "metadata": {},
   "outputs": [],
   "source": [
    "df.first_review = pd.to_datetime(df.first_review) # Converting to datetime\n",
    "\n",
    "# Calculating the number of days between the first review and the date the data was scraped\n",
    "df['time_since_first_review'] = (datetime(2020, 9, 21) - df.first_review).astype('timedelta64[D]')"
   ]
  },
  {
   "cell_type": "code",
   "execution_count": 44,
   "metadata": {},
   "outputs": [
    {
     "data": {
      "image/png": "[encoded data removed]",
      "text/plain": [
       "<Figure size 1080x360 with 1 Axes>"
      ]
     },
     "metadata": {
      "needs_background": "light"
     },
     "output_type": "display_data"
    }
   ],
   "source": [
    "# Distribution of the number of days since first review\n",
    "df.time_since_first_review.hist(figsize=(15,5), bins=30);"
   ]
  },
  {
   "cell_type": "code",
   "execution_count": 45,
   "metadata": {},
   "outputs": [],
   "source": [
    "def bin_column(col, bins, labels, na_label='unknown'):\n",
    "    \"\"\"\n",
    "    Takes in a column name, bin cut points and labels, replaces the original column with a\n",
    "    binned version, and replaces nulls (with 'unknown' if unspecified).\n",
    "    \"\"\"   \n",
    "    df[col] = pd.cut(df[col], bins=bins, labels=labels, include_lowest=True)\n",
    "    df[col] = df[col].astype('str')\n",
    "    df[col] = df[col].str.replace(\"nan\",na_label)\n",
    "#    df[col].fillna(na_label, inplace=True)"
   ]
  },
  {
   "cell_type": "code",
   "execution_count": 46,
   "metadata": {},
   "outputs": [],
   "source": [
    "# Binning time since first review\n",
    "bin_column('time_since_first_review',\n",
    "           bins=[0, 182, 365, 730, 1460, max(df.time_since_first_review)],\n",
    "           labels=['0-6 months',\n",
    "                   '6-12 months',\n",
    "                   '1-2 years',\n",
    "                   '2-3 years',\n",
    "                   '4+ years'],\n",
    "           na_label='no reviews')"
   ]
  },
  {
   "cell_type": "markdown",
   "metadata": {},
   "source": [
    "The same process will be followed for last_review:"
   ]
  },
  {
   "cell_type": "code",
   "execution_count": 47,
   "metadata": {},
   "outputs": [],
   "source": [
    "df.last_review = pd.to_datetime(df.last_review) # Converting to datetime\n",
    "\n",
    "# Calculating the number of days between the most recent review and the date the data was scraped\n",
    "df['time_since_last_review'] = (datetime(2020, 9, 21) - df.last_review).astype('timedelta64[D]')"
   ]
  },
  {
   "cell_type": "code",
   "execution_count": 48,
   "metadata": {},
   "outputs": [
    {
     "data": {
      "image/png": "[encoded data removed]",
      "text/plain": [
       "<Figure size 1080x360 with 1 Axes>"
      ]
     },
     "metadata": {
      "needs_background": "light"
     },
     "output_type": "display_data"
    }
   ],
   "source": [
    "# Distribution of the number of days since last review\n",
    "df.time_since_last_review.hist(figsize=(15,5), bins=30);"
   ]
  },
  {
   "cell_type": "code",
   "execution_count": 49,
   "metadata": {},
   "outputs": [],
   "source": [
    "# Binning time since last review\n",
    "bin_column('time_since_last_review',\n",
    "           bins=[0, 14, 60, 182, 365, max(df.time_since_last_review)],\n",
    "           labels=['0-2 weeks',\n",
    "                   '2-8 weeks',\n",
    "                   '2-6 months',\n",
    "                   '6-12 months',\n",
    "                   '1+ year'],\n",
    "           na_label='no reviews')"
   ]
  },
  {
   "cell_type": "code",
   "execution_count": 50,
   "metadata": {},
   "outputs": [],
   "source": [
    "# Dropping last_review - first_review will be kept for EDA and dropped later\n",
    "df.drop('last_review', axis=1, inplace=True)"
   ]
  },
  {
   "cell_type": "markdown",
   "metadata": {},
   "source": [
    "### review ratings columns"
   ]
  },
  {
   "cell_type": "markdown",
   "metadata": {},
   "source": [
    "As above, listings without reviews will be kept and replaced with 'unknown'. Other ratings will be grouped into bins. The histograms below were produced in order to decide on useful bins. The majority of ratings are 9 or 10 out of 10, as also seen in the value count below. Therefore for these columns, 9/10 and 10/10 will be kept as separate groups, and 1-8/10 will be binned together (as this is, by Airbnb standards, a 'low' rating)."
   ]
  },
  {
   "cell_type": "code",
   "execution_count": 51,
   "metadata": {},
   "outputs": [
    {
     "data": {
      "image/png": "[encoded data removed]",
      "text/plain": [
       "<Figure size 864x576 with 7 Axes>"
      ]
     },
     "metadata": {
      "needs_background": "light"
     },
     "output_type": "display_data"
    }
   ],
   "source": [
    "# Checking the distributions of the review ratings columns\n",
    "variables_to_plot = list(df.columns[df.columns.str.startswith(\"review_scores\") == True])\n",
    "fig = plt.figure(figsize=(12,8))\n",
    "for i, var_name in enumerate(variables_to_plot):\n",
    "    ax = fig.add_subplot(3,3,i+1)\n",
    "    df[var_name].hist(bins=10,ax=ax)\n",
    "    ax.set_title(var_name)\n",
    "fig.tight_layout()\n",
    "plt.show()"
   ]
  },
  {
   "cell_type": "code",
   "execution_count": 52,
   "metadata": {},
   "outputs": [
    {
     "data": {
      "text/plain": [
       "'review_scores_rating'"
      ]
     },
     "execution_count": 52,
     "metadata": {},
     "output_type": "execute_result"
    }
   ],
   "source": [
    "# Creating a list of all review columns that are scored out of 10\n",
    "variables_to_plot.pop(0)"
   ]
  },
  {
   "cell_type": "code",
   "execution_count": 53,
   "metadata": {},
   "outputs": [],
   "source": [
    "# Binning for all columns scored out of 10\n",
    "for col in variables_to_plot:\n",
    "    bin_column(col,\n",
    "               bins=[0, 8, 9, 10],\n",
    "               labels=['0-8/10', '9/10', '10/10'],\n",
    "               na_label='no reviews')"
   ]
  },
  {
   "cell_type": "code",
   "execution_count": 54,
   "metadata": {},
   "outputs": [],
   "source": [
    "# Binning column scored out of 100\n",
    "bin_column('review_scores_rating',\n",
    "           bins=[0, 80, 95, 100],\n",
    "           labels=['0-79/100', '80-94/100', '95-100/100'],\n",
    "           na_label='no reviews')"
   ]
  },
  {
   "cell_type": "markdown",
   "metadata": {},
   "source": [
    "### number_of_reviews_ltm and reviews_per_month"
   ]
  },
  {
   "cell_type": "markdown",
   "metadata": {},
   "source": [
    "These will be highly correlated with number_of_reviews and so will be dropped."
   ]
  },
  {
   "cell_type": "code",
   "execution_count": 55,
   "metadata": {},
   "outputs": [],
   "source": [
    "df.drop(['number_of_reviews_ltm', 'reviews_per_month'], axis=1, inplace=True)"
   ]
  },
  {
   "cell_type": "markdown",
   "metadata": {},
   "source": [
    "## EDA"
   ]
  },
  {
   "cell_type": "markdown",
   "metadata": {},
   "source": [
    "### Time series"
   ]
  },
  {
   "cell_type": "markdown",
   "metadata": {},
   "source": [
    "Question: how long have hosts been listing properties on Airbnb in London?\n",
    "\n",
    "- The number of new hosts started to increase since 2011.\n",
    "\n",
    "- There is a big peak in the number of hosts joining Airbnb in 2016 and 2017.\n",
    "\n",
    "- There is a big decreas in the beginning of 2020, due to COVID19. \n",
    "\n",
    "- The decreaes in 2019 could be a response to the geovernment legislation. The new law is designed to impose some of the tightest limits in the nation on short-term rentals. It prevents D.C. property owners from renting out second homes on a short-term basis, and it bars the renting out of spare rooms or the basement in a host’s primary residence for more than 90 days per year when the host is away. (<a href=\"https://www.washingtonpost.com/local/dc-politics/frustrated-airbnb-hosts-wait-for-dc-to-explain-new-regulations/2019/10/31/88293190-fa83-11e9-8190-6be4deb56e01_story.html\">news link</a>) \n",
    "\n",
    "- A high level of seasonality is evident, with notable peaks in the summer break and winter holidays."
   ]
  },
  {
   "cell_type": "code",
   "execution_count": 56,
   "metadata": {},
   "outputs": [
    {
     "name": "stdout",
     "output_type": "stream",
     "text": [
      "Of the Airbnb hosts that are still listing on the site, the first joined on 27 September 2008, and the most recent joined on 17 September 2020.\n"
     ]
    }
   ],
   "source": [
    "print(f\"Of the Airbnb hosts that are still listing on the site, the first joined on {min(df.host_since).strftime('%d %B %Y')}, and the most recent joined on {max(df.host_since).strftime('%d %B %Y')}.\")"
   ]
  },
  {
   "cell_type": "code",
   "execution_count": 57,
   "metadata": {},
   "outputs": [
    {
     "data": {
      "image/png": "[encoded data removed]",
      "text/plain": [
       "<Figure size 1080x360 with 1 Axes>"
      ]
     },
     "metadata": {
      "needs_background": "light"
     },
     "output_type": "display_data"
    }
   ],
   "source": [
    "plt.figure(figsize=(15,5))\n",
    "df.set_index('host_since').resample('MS').size().plot(label='Hosts joining Airbnb', color='orange')\n",
    "df.set_index('first_review').resample('MS').size().plot(label='Listings getting their first review', color='green')\n",
    "plt.title('DC hosts joining Airbnb and listings getting their first review in each month')\n",
    "plt.legend()\n",
    "plt.xlim('2008-08-01', '2020-9-21') # Limiting to whole months\n",
    "plt.xlabel('')\n",
    "plt.ylabel('')\n",
    "plt.show()"
   ]
  },
  {
   "cell_type": "code",
   "execution_count": 58,
   "metadata": {},
   "outputs": [],
   "source": [
    "# Creating dataframes for time series analysis\n",
    "ts_host_since = pd.DataFrame(df.set_index('host_since').resample('MS').size())\n",
    "ts_first_review = pd.DataFrame(df.set_index('first_review').resample('MS').size())\n",
    "\n",
    "# Renaming columns\n",
    "ts_host_since = ts_host_since.rename(columns={0: 'hosts'})\n",
    "ts_host_since.index.rename('month', inplace=True)\n",
    "ts_first_review = ts_first_review.rename(columns={0: 'reviews'})\n",
    "ts_first_review.index.rename('month', inplace=True)"
   ]
  },
  {
   "cell_type": "code",
   "execution_count": 59,
   "metadata": {},
   "outputs": [],
   "source": [
    "def decompose_time_series(df, title=''):\n",
    "    \"\"\"\n",
    "    Plots the original time series and its decomposition into trend, seasonal and residual.\n",
    "    \"\"\"\n",
    "    # Decomposing the time series\n",
    "    decomposition = seasonal_decompose(df)\n",
    "    \n",
    "    # Getting the trend, seasonality and noise\n",
    "    trend = decomposition.trend\n",
    "    seasonal = decomposition.seasonal\n",
    "    residual = decomposition.resid\n",
    "    \n",
    "    # Plotting the original time series and the decomposition\n",
    "    plt.figure(figsize=(12,8))\n",
    "    plt.suptitle(title, fontsize=14, y=1)\n",
    "    plt.subplots_adjust(top=0.80)\n",
    "    plt.subplot(411)\n",
    "    plt.plot(df, label='Original')\n",
    "    plt.legend(loc='upper left')\n",
    "    plt.subplot(412)\n",
    "    plt.plot(trend, label='Trend')\n",
    "    plt.legend(loc='upper left')\n",
    "    plt.subplot(413)\n",
    "    plt.plot(seasonal,label='Seasonality')\n",
    "    plt.legend(loc='upper left')\n",
    "    plt.subplot(414)\n",
    "    plt.plot(residual, label='Residuals')\n",
    "    plt.legend(loc='upper left')\n",
    "    plt.tight_layout()"
   ]
  },
  {
   "cell_type": "code",
   "execution_count": 60,
   "metadata": {},
   "outputs": [
    {
     "data": {
      "image/png": "[encoded data removed]",
      "text/plain": [
       "<Figure size 864x576 with 4 Axes>"
      ]
     },
     "metadata": {
      "needs_background": "light"
     },
     "output_type": "display_data"
    }
   ],
   "source": [
    "decompose_time_series(ts_host_since, title='Number of hosts joining Airbnb each month')"
   ]
  },
  {
   "cell_type": "markdown",
   "metadata": {},
   "source": [
    "Question: are the different patterns in the growth in the number of hosts and the number of listings due to hosts increasingly owning multiple properties?\n",
    "\n",
    "Answer: there are a number of professional Airbnb management companies which host a large number of listings under a single host profile, particularly from 2013 onwards. The largest manages 1636 listings and is xxxx company based in xxx.\n",
    "\n",
    "However, there is no consistent upwards trend in the average number of properties managed by each host."
   ]
  },
  {
   "cell_type": "code",
   "execution_count": 61,
   "metadata": {},
   "outputs": [
    {
     "name": "stderr",
     "output_type": "stream",
     "text": [
      "/Users/yingli/opt/anaconda3/lib/python3.8/site-packages/pandas/core/series.py:679: RuntimeWarning: divide by zero encountered in log\n",
      "  result = getattr(ufunc, method)(*inputs, **kwargs)\n",
      "/Users/yingli/opt/anaconda3/lib/python3.8/site-packages/numpy/lib/function_base.py:3942: RuntimeWarning: invalid value encountered in multiply\n",
      "  x2 = take(ap, indices_above, axis=axis) * weights_above\n",
      "/Users/yingli/opt/anaconda3/lib/python3.8/site-packages/matplotlib/cbook/__init__.py:1239: RuntimeWarning: invalid value encountered in less_equal\n",
      "  wiskhi = x[x <= hival]\n",
      "/Users/yingli/opt/anaconda3/lib/python3.8/site-packages/matplotlib/cbook/__init__.py:1246: RuntimeWarning: invalid value encountered in greater_equal\n",
      "  wisklo = x[x >= loval]\n",
      "/Users/yingli/opt/anaconda3/lib/python3.8/site-packages/matplotlib/cbook/__init__.py:1254: RuntimeWarning: invalid value encountered in less\n",
      "  x[x < stats['whislo']],\n"
     ]
    },
    {
     "data": {
      "image/png": "[encoded data removed]",
      "text/plain": [
       "<Figure size 1152x432 with 1 Axes>"
      ]
     },
     "metadata": {
      "needs_background": "light"
     },
     "output_type": "display_data"
    }
   ],
   "source": [
    "plt.figure(figsize=(16,6))\n",
    "sns.boxplot(df.host_since.dt.year, np.log(df.host_listings_count))\n",
    "plt.xlabel('Year that the host joined Airbnb', fontsize=12)\n",
    "plt.ylabel('Number of listings per host (log-transformed)', fontsize=12)\n",
    "plt.title('Change per year in the number of listings per host on Airbnb in DC', fontsize=16)\n",
    "plt.show()"
   ]
  },
  {
   "cell_type": "code",
   "execution_count": 62,
   "metadata": {},
   "outputs": [
    {
     "data": {
      "text/plain": [
       "1636"
      ]
     },
     "execution_count": 62,
     "metadata": {},
     "output_type": "execute_result"
    }
   ],
   "source": [
    "df.host_listings_count.max()"
   ]
  },
  {
   "cell_type": "markdown",
   "metadata": {},
   "source": [
    "There are a number of professional Airbnb management companies which host a large number of listings under a single host profile, "
   ]
  },
  {
   "cell_type": "code",
   "execution_count": 63,
   "metadata": {},
   "outputs": [
    {
     "name": "stdout",
     "output_type": "stream",
     "text": [
      "Average number of listings per host per year on Airbnb in DC:\n",
      "host_since\n",
      "2008-01-01      2.76\n",
      "2009-01-01     30.39\n",
      "2010-01-01     16.98\n",
      "2011-01-01      6.01\n",
      "2012-01-01      3.96\n",
      "2013-01-01     11.00\n",
      "2014-01-01      5.33\n",
      "2015-01-01    271.24\n",
      "2016-01-01    119.50\n",
      "2017-01-01     14.42\n",
      "2018-01-01      3.13\n",
      "2019-01-01      5.60\n",
      "2020-01-01    445.65\n",
      "Freq: AS-JAN, Name: host_listings_count, dtype: float64\n"
     ]
    }
   ],
   "source": [
    "print(\"Average number of listings per host per year on Airbnb in DC:\")\n",
    "print(round(df.set_index('host_since').host_listings_count.resample('YS').mean(),2))"
   ]
  },
  {
   "cell_type": "markdown",
   "metadata": {},
   "source": [
    "## What happened in 2020 data? check the superhost joined in 2020-07-29, who has 1000 of listing around the US, not only in DC"
   ]
  },
  {
   "cell_type": "code",
   "execution_count": 64,
   "metadata": {},
   "outputs": [
    {
     "data": {
      "text/html": [
       "<div>\n",
       "<style scoped>\n",
       "    .dataframe tbody tr th:only-of-type {\n",
       "        vertical-align: middle;\n",
       "    }\n",
       "\n",
       "    .dataframe tbody tr th {\n",
       "        vertical-align: top;\n",
       "    }\n",
       "\n",
       "    .dataframe thead th {\n",
       "        text-align: right;\n",
       "    }\n",
       "</style>\n",
       "<table border=\"1\" class=\"dataframe\">\n",
       "  <thead>\n",
       "    <tr style=\"text-align: right;\">\n",
       "      <th></th>\n",
       "      <th>host_since</th>\n",
       "      <th>host_listings_count</th>\n",
       "    </tr>\n",
       "    <tr>\n",
       "      <th>id</th>\n",
       "      <th></th>\n",
       "      <th></th>\n",
       "    </tr>\n",
       "  </thead>\n",
       "  <tbody>\n",
       "    <tr>\n",
       "      <th>30503216</th>\n",
       "      <td>2017-08-16</td>\n",
       "      <td>108</td>\n",
       "    </tr>\n",
       "    <tr>\n",
       "      <th>38062300</th>\n",
       "      <td>2014-05-31</td>\n",
       "      <td>141</td>\n",
       "    </tr>\n",
       "    <tr>\n",
       "      <th>44262387</th>\n",
       "      <td>2016-09-16</td>\n",
       "      <td>277</td>\n",
       "    </tr>\n",
       "    <tr>\n",
       "      <th>19292454</th>\n",
       "      <td>2017-03-24</td>\n",
       "      <td>383</td>\n",
       "    </tr>\n",
       "    <tr>\n",
       "      <th>22653398</th>\n",
       "      <td>2013-10-14</td>\n",
       "      <td>404</td>\n",
       "    </tr>\n",
       "    <tr>\n",
       "      <th>18668105</th>\n",
       "      <td>2015-03-30</td>\n",
       "      <td>464</td>\n",
       "    </tr>\n",
       "    <tr>\n",
       "      <th>45439799</th>\n",
       "      <td>2020-07-29</td>\n",
       "      <td>852</td>\n",
       "    </tr>\n",
       "    <tr>\n",
       "      <th>37700932</th>\n",
       "      <td>2016-12-16</td>\n",
       "      <td>1158</td>\n",
       "    </tr>\n",
       "    <tr>\n",
       "      <th>45255939</th>\n",
       "      <td>2020-07-29</td>\n",
       "      <td>1477</td>\n",
       "    </tr>\n",
       "    <tr>\n",
       "      <th>34602332</th>\n",
       "      <td>2015-11-02</td>\n",
       "      <td>1636</td>\n",
       "    </tr>\n",
       "  </tbody>\n",
       "</table>\n",
       "</div>"
      ],
      "text/plain": [
       "         host_since  host_listings_count\n",
       "id                                      \n",
       "30503216 2017-08-16                  108\n",
       "38062300 2014-05-31                  141\n",
       "44262387 2016-09-16                  277\n",
       "19292454 2017-03-24                  383\n",
       "22653398 2013-10-14                  404\n",
       "18668105 2015-03-30                  464\n",
       "45439799 2020-07-29                  852\n",
       "37700932 2016-12-16                 1158\n",
       "45255939 2020-07-29                 1477\n",
       "34602332 2015-11-02                 1636"
      ]
     },
     "execution_count": 64,
     "metadata": {},
     "output_type": "execute_result"
    }
   ],
   "source": [
    "# List of the largest host_listings_count and the year the host joined Airbnb\n",
    "df.sort_values('host_listings_count').drop_duplicates('host_listings_count',keep='last').tail(10)[['host_since', 'host_listings_count']]"
   ]
  },
  {
   "cell_type": "markdown",
   "metadata": {},
   "source": [
    "Question: how have prices changed over time?\n",
    "\n",
    "Answer: the average price per night for Airbnb listings in DC has increased slightly and peaks in 2015 and 2016, and decreased a little bit since then."
   ]
  },
  {
   "cell_type": "code",
   "execution_count": 65,
   "metadata": {},
   "outputs": [
    {
     "name": "stderr",
     "output_type": "stream",
     "text": [
      "/Users/yingli/opt/anaconda3/lib/python3.8/site-packages/pandas/core/series.py:679: RuntimeWarning: divide by zero encountered in log\n",
      "  result = getattr(ufunc, method)(*inputs, **kwargs)\n"
     ]
    },
    {
     "data": {
      "image/png": "[encoded data removed]",
      "text/plain": [
       "<Figure size 1152x432 with 1 Axes>"
      ]
     },
     "metadata": {
      "needs_background": "light"
     },
     "output_type": "display_data"
    }
   ],
   "source": [
    "plt.figure(figsize=(16,6))\n",
    "sns.boxplot(df.first_review.dt.year, np.log(df.price))\n",
    "plt.xlabel('Year that the listing had its first review', fontsize=12)\n",
    "plt.ylabel('Nightly price (log-transformed)', fontsize=12)\n",
    "plt.title('Change per year in the nightly price of Airbnb listings in DC', fontsize=16)\n",
    "plt.show()"
   ]
  },
  {
   "cell_type": "code",
   "execution_count": 66,
   "metadata": {},
   "outputs": [
    {
     "name": "stdout",
     "output_type": "stream",
     "text": [
      "Mean nightly price of listings in each year on Airbnb in DC:\n",
      "first_review\n",
      "2009-01-01     70.80\n",
      "2010-01-01    138.54\n",
      "2011-01-01    108.50\n",
      "2012-01-01    134.00\n",
      "2013-01-01    117.87\n",
      "2014-01-01    148.34\n",
      "2015-01-01    149.79\n",
      "2016-01-01    150.47\n",
      "2017-01-01    146.17\n",
      "2018-01-01    122.59\n",
      "2019-01-01    126.49\n",
      "2020-01-01    126.67\n",
      "Name: price, dtype: float64\n"
     ]
    }
   ],
   "source": [
    "print(\"Mean nightly price of listings in each year on Airbnb in DC:\")\n",
    "print(round(df.set_index('first_review').price.resample('YS').mean(),2))"
   ]
  },
  {
   "cell_type": "markdown",
   "metadata": {},
   "source": [
    "## I haven't dropped yet, in case I need to use them "
   ]
  },
  {
   "cell_type": "code",
   "execution_count": 67,
   "metadata": {},
   "outputs": [],
   "source": [
    "# Dropping host_since and first_review as they are no longer needed\n",
    "#df.drop(['host_since', 'first_review'], axis=1, inplace=True)"
   ]
  },
  {
   "cell_type": "markdown",
   "metadata": {},
   "source": [
    "## Numerical features"
   ]
  },
  {
   "cell_type": "code",
   "execution_count": 68,
   "metadata": {},
   "outputs": [
    {
     "data": {
      "text/html": [
       "<div>\n",
       "<style scoped>\n",
       "    .dataframe tbody tr th:only-of-type {\n",
       "        vertical-align: middle;\n",
       "    }\n",
       "\n",
       "    .dataframe tbody tr th {\n",
       "        vertical-align: top;\n",
       "    }\n",
       "\n",
       "    .dataframe thead th {\n",
       "        text-align: right;\n",
       "    }\n",
       "</style>\n",
       "<table border=\"1\" class=\"dataframe\">\n",
       "  <thead>\n",
       "    <tr style=\"text-align: right;\">\n",
       "      <th></th>\n",
       "      <th>host_is_superhost</th>\n",
       "      <th>host_listings_count</th>\n",
       "      <th>host_identity_verified</th>\n",
       "      <th>accommodates</th>\n",
       "      <th>bedrooms</th>\n",
       "      <th>beds</th>\n",
       "      <th>price</th>\n",
       "      <th>minimum_nights</th>\n",
       "      <th>maximum_nights</th>\n",
       "      <th>availability_30</th>\n",
       "      <th>availability_60</th>\n",
       "      <th>availability_90</th>\n",
       "      <th>availability_365</th>\n",
       "      <th>number_of_reviews</th>\n",
       "      <th>number_of_reviews_l30d</th>\n",
       "      <th>instant_bookable</th>\n",
       "      <th>host_days_active</th>\n",
       "      <th>bathrooms</th>\n",
       "    </tr>\n",
       "  </thead>\n",
       "  <tbody>\n",
       "    <tr>\n",
       "      <th>count</th>\n",
       "      <td>7350.000000</td>\n",
       "      <td>7350.000000</td>\n",
       "      <td>7350.000000</td>\n",
       "      <td>7350.000000</td>\n",
       "      <td>7350.000000</td>\n",
       "      <td>7350.000000</td>\n",
       "      <td>7350.000000</td>\n",
       "      <td>7350.000000</td>\n",
       "      <td>7.350000e+03</td>\n",
       "      <td>7350.000000</td>\n",
       "      <td>7350.000000</td>\n",
       "      <td>7350.000000</td>\n",
       "      <td>7350.000000</td>\n",
       "      <td>7350.000000</td>\n",
       "      <td>7350.000000</td>\n",
       "      <td>7350.000000</td>\n",
       "      <td>7350.000000</td>\n",
       "      <td>7350.000000</td>\n",
       "    </tr>\n",
       "    <tr>\n",
       "      <th>mean</th>\n",
       "      <td>0.377143</td>\n",
       "      <td>100.404626</td>\n",
       "      <td>0.788980</td>\n",
       "      <td>3.559864</td>\n",
       "      <td>1.455646</td>\n",
       "      <td>1.858367</td>\n",
       "      <td>176.833197</td>\n",
       "      <td>9.223401</td>\n",
       "      <td>1.424328e+04</td>\n",
       "      <td>10.754830</td>\n",
       "      <td>24.448299</td>\n",
       "      <td>39.768163</td>\n",
       "      <td>140.210204</td>\n",
       "      <td>39.059048</td>\n",
       "      <td>0.510340</td>\n",
       "      <td>0.477007</td>\n",
       "      <td>1857.814286</td>\n",
       "      <td>1.346463</td>\n",
       "    </tr>\n",
       "    <tr>\n",
       "      <th>std</th>\n",
       "      <td>0.484704</td>\n",
       "      <td>341.231480</td>\n",
       "      <td>0.408061</td>\n",
       "      <td>2.292502</td>\n",
       "      <td>0.907404</td>\n",
       "      <td>1.622218</td>\n",
       "      <td>313.737740</td>\n",
       "      <td>25.572240</td>\n",
       "      <td>1.166417e+06</td>\n",
       "      <td>12.473034</td>\n",
       "      <td>25.667547</td>\n",
       "      <td>38.558071</td>\n",
       "      <td>140.364185</td>\n",
       "      <td>69.600300</td>\n",
       "      <td>1.249341</td>\n",
       "      <td>0.499505</td>\n",
       "      <td>857.189638</td>\n",
       "      <td>0.894639</td>\n",
       "    </tr>\n",
       "    <tr>\n",
       "      <th>min</th>\n",
       "      <td>0.000000</td>\n",
       "      <td>0.000000</td>\n",
       "      <td>0.000000</td>\n",
       "      <td>0.000000</td>\n",
       "      <td>1.000000</td>\n",
       "      <td>0.000000</td>\n",
       "      <td>0.000000</td>\n",
       "      <td>1.000000</td>\n",
       "      <td>1.000000e+00</td>\n",
       "      <td>0.000000</td>\n",
       "      <td>0.000000</td>\n",
       "      <td>0.000000</td>\n",
       "      <td>0.000000</td>\n",
       "      <td>0.000000</td>\n",
       "      <td>0.000000</td>\n",
       "      <td>0.000000</td>\n",
       "      <td>4.000000</td>\n",
       "      <td>0.000000</td>\n",
       "    </tr>\n",
       "    <tr>\n",
       "      <th>25%</th>\n",
       "      <td>0.000000</td>\n",
       "      <td>1.000000</td>\n",
       "      <td>1.000000</td>\n",
       "      <td>2.000000</td>\n",
       "      <td>1.000000</td>\n",
       "      <td>1.000000</td>\n",
       "      <td>72.000000</td>\n",
       "      <td>1.000000</td>\n",
       "      <td>3.000000e+01</td>\n",
       "      <td>0.000000</td>\n",
       "      <td>0.000000</td>\n",
       "      <td>0.000000</td>\n",
       "      <td>0.000000</td>\n",
       "      <td>1.000000</td>\n",
       "      <td>0.000000</td>\n",
       "      <td>0.000000</td>\n",
       "      <td>1375.000000</td>\n",
       "      <td>1.000000</td>\n",
       "    </tr>\n",
       "    <tr>\n",
       "      <th>50%</th>\n",
       "      <td>0.000000</td>\n",
       "      <td>1.500000</td>\n",
       "      <td>1.000000</td>\n",
       "      <td>3.000000</td>\n",
       "      <td>1.000000</td>\n",
       "      <td>1.000000</td>\n",
       "      <td>103.000000</td>\n",
       "      <td>2.000000</td>\n",
       "      <td>1.000000e+03</td>\n",
       "      <td>1.000000</td>\n",
       "      <td>14.000000</td>\n",
       "      <td>32.000000</td>\n",
       "      <td>90.000000</td>\n",
       "      <td>8.000000</td>\n",
       "      <td>0.000000</td>\n",
       "      <td>0.000000</td>\n",
       "      <td>1828.000000</td>\n",
       "      <td>1.000000</td>\n",
       "    </tr>\n",
       "    <tr>\n",
       "      <th>75%</th>\n",
       "      <td>1.000000</td>\n",
       "      <td>5.000000</td>\n",
       "      <td>1.000000</td>\n",
       "      <td>4.000000</td>\n",
       "      <td>2.000000</td>\n",
       "      <td>2.000000</td>\n",
       "      <td>167.000000</td>\n",
       "      <td>4.000000</td>\n",
       "      <td>1.125000e+03</td>\n",
       "      <td>25.000000</td>\n",
       "      <td>54.000000</td>\n",
       "      <td>83.000000</td>\n",
       "      <td>284.000000</td>\n",
       "      <td>47.000000</td>\n",
       "      <td>0.000000</td>\n",
       "      <td>1.000000</td>\n",
       "      <td>2385.000000</td>\n",
       "      <td>1.500000</td>\n",
       "    </tr>\n",
       "    <tr>\n",
       "      <th>max</th>\n",
       "      <td>1.000000</td>\n",
       "      <td>1636.000000</td>\n",
       "      <td>1.000000</td>\n",
       "      <td>16.000000</td>\n",
       "      <td>27.000000</td>\n",
       "      <td>51.000000</td>\n",
       "      <td>10000.000000</td>\n",
       "      <td>600.000000</td>\n",
       "      <td>1.000000e+08</td>\n",
       "      <td>30.000000</td>\n",
       "      <td>60.000000</td>\n",
       "      <td>90.000000</td>\n",
       "      <td>365.000000</td>\n",
       "      <td>830.000000</td>\n",
       "      <td>13.000000</td>\n",
       "      <td>1.000000</td>\n",
       "      <td>4377.000000</td>\n",
       "      <td>50.000000</td>\n",
       "    </tr>\n",
       "  </tbody>\n",
       "</table>\n",
       "</div>"
      ],
      "text/plain": [
       "       host_is_superhost  host_listings_count  host_identity_verified  \\\n",
       "count        7350.000000          7350.000000             7350.000000   \n",
       "mean            0.377143           100.404626                0.788980   \n",
       "std             0.484704           341.231480                0.408061   \n",
       "min             0.000000             0.000000                0.000000   \n",
       "25%             0.000000             1.000000                1.000000   \n",
       "50%             0.000000             1.500000                1.000000   \n",
       "75%             1.000000             5.000000                1.000000   \n",
       "max             1.000000          1636.000000                1.000000   \n",
       "\n",
       "       accommodates     bedrooms         beds         price  minimum_nights  \\\n",
       "count   7350.000000  7350.000000  7350.000000   7350.000000     7350.000000   \n",
       "mean       3.559864     1.455646     1.858367    176.833197        9.223401   \n",
       "std        2.292502     0.907404     1.622218    313.737740       25.572240   \n",
       "min        0.000000     1.000000     0.000000      0.000000        1.000000   \n",
       "25%        2.000000     1.000000     1.000000     72.000000        1.000000   \n",
       "50%        3.000000     1.000000     1.000000    103.000000        2.000000   \n",
       "75%        4.000000     2.000000     2.000000    167.000000        4.000000   \n",
       "max       16.000000    27.000000    51.000000  10000.000000      600.000000   \n",
       "\n",
       "       maximum_nights  availability_30  availability_60  availability_90  \\\n",
       "count    7.350000e+03      7350.000000      7350.000000      7350.000000   \n",
       "mean     1.424328e+04        10.754830        24.448299        39.768163   \n",
       "std      1.166417e+06        12.473034        25.667547        38.558071   \n",
       "min      1.000000e+00         0.000000         0.000000         0.000000   \n",
       "25%      3.000000e+01         0.000000         0.000000         0.000000   \n",
       "50%      1.000000e+03         1.000000        14.000000        32.000000   \n",
       "75%      1.125000e+03        25.000000        54.000000        83.000000   \n",
       "max      1.000000e+08        30.000000        60.000000        90.000000   \n",
       "\n",
       "       availability_365  number_of_reviews  number_of_reviews_l30d  \\\n",
       "count       7350.000000        7350.000000             7350.000000   \n",
       "mean         140.210204          39.059048                0.510340   \n",
       "std          140.364185          69.600300                1.249341   \n",
       "min            0.000000           0.000000                0.000000   \n",
       "25%            0.000000           1.000000                0.000000   \n",
       "50%           90.000000           8.000000                0.000000   \n",
       "75%          284.000000          47.000000                0.000000   \n",
       "max          365.000000         830.000000               13.000000   \n",
       "\n",
       "       instant_bookable  host_days_active    bathrooms  \n",
       "count       7350.000000       7350.000000  7350.000000  \n",
       "mean           0.477007       1857.814286     1.346463  \n",
       "std            0.499505        857.189638     0.894639  \n",
       "min            0.000000          4.000000     0.000000  \n",
       "25%            0.000000       1375.000000     1.000000  \n",
       "50%            0.000000       1828.000000     1.000000  \n",
       "75%            1.000000       2385.000000     1.500000  \n",
       "max            1.000000       4377.000000    50.000000  "
      ]
     },
     "execution_count": 68,
     "metadata": {},
     "output_type": "execute_result"
    }
   ],
   "source": [
    "df.describe()"
   ]
  },
  {
   "cell_type": "markdown",
   "metadata": {},
   "source": [
    "### Price"
   ]
  },
  {
   "cell_type": "markdown",
   "metadata": {},
   "source": [
    "Question: what is the overall distribution of prices?\n",
    "\n",
    "Answer: nightly advertised prices range from $\\$$0 to $\\$$10,000. The extreme ends of the range are due to hosts not understanding how to use Airbnb advertised prices (sometimes called 'sticker' prices) correctly. The advertised prices can be set to any arbitrary amount, and these are the prices that show when dates are not entered on the site.\n",
    "\n",
    "A model is only as good as its data, and unfortunately this model will be predicting advertised prices rather than the prices actually paid. Nevertheless, some cleaning of the particularly unhelpful values will be done. Very small values under $\\$$10 will be increased to $\\$$10.\n",
    "\n",
    "There are notable drop-offs in nightly prices at $\\$$250 (first graph, orange line), $\\$$1000 (second graph, orange line) and $\\$$2,000 (second graph, red line). Values above $\\$$2,000 will be reduced to $\\$$2,000."
   ]
  },
  {
   "cell_type": "code",
   "execution_count": 69,
   "metadata": {},
   "outputs": [
    {
     "name": "stdout",
     "output_type": "stream",
     "text": [
      "Nightly advertised prices range from $0 to $10000.\n"
     ]
    }
   ],
   "source": [
    "print(f\"Nightly advertised prices range from ${min(df.price)} to ${max(df.price)}.\")"
   ]
  },
  {
   "cell_type": "code",
   "execution_count": 70,
   "metadata": {},
   "outputs": [
    {
     "data": {
      "image/png": "[encoded data removed]",
      "text/plain": [
       "<Figure size 1440x288 with 1 Axes>"
      ]
     },
     "metadata": {
      "needs_background": "light"
     },
     "output_type": "display_data"
    }
   ],
   "source": [
    "# Distribution of prices from $0 to $2000\n",
    "plt.figure(figsize=(20,4))\n",
    "df.price.hist(bins=100, range=(0,2000))\n",
    "plt.margins(x=0)\n",
    "plt.axvline(250, color='orange', linestyle='--')\n",
    "plt.title(\"Airbnb advertised nightly prices in DC up to $1000\", fontsize=16)\n",
    "plt.xlabel(\"Price ($)\")\n",
    "plt.ylabel(\"Number of listings\")\n",
    "plt.show()"
   ]
  },
  {
   "cell_type": "code",
   "execution_count": 71,
   "metadata": {},
   "outputs": [
    {
     "data": {
      "image/png": "[encoded data removed]",
      "text/plain": [
       "<Figure size 1440x288 with 1 Axes>"
      ]
     },
     "metadata": {
      "needs_background": "light"
     },
     "output_type": "display_data"
    }
   ],
   "source": [
    "# Distribution of prices from $200 upwards\n",
    "plt.figure(figsize=(20,4))\n",
    "df.price.hist(bins=100, range=(200, max(df.price)))\n",
    "plt.margins(x=0)\n",
    "plt.axvline(1000, color='orange', linestyle='--')\n",
    "plt.axvline(2000, color='red', linestyle='--')\n",
    "plt.title(\"Airbnb advertised nightly prices in DC up to $1000\", fontsize=16)\n",
    "plt.xlabel(\"Price ($)\")\n",
    "plt.ylabel(\"Number of listings\")\n",
    "plt.show()"
   ]
  },
  {
   "cell_type": "code",
   "execution_count": 72,
   "metadata": {},
   "outputs": [],
   "source": [
    "# Replacing values under $10 with $10\n",
    "df.loc[df.price <= 10, 'price'] = 10\n",
    "\n",
    "# Replacing values over $000 with $1000\n",
    "df.loc[df.price >= 2000, 'price'] = 2000"
   ]
  },
  {
   "cell_type": "code",
   "execution_count": 73,
   "metadata": {},
   "outputs": [
    {
     "name": "stdout",
     "output_type": "stream",
     "text": [
      "Median number of listings per host: 1\n",
      "Mean number of listings per host: 100\n",
      "42% of listings are from hosts with one listing.\n"
     ]
    }
   ],
   "source": [
    "print(\"Median number of listings per host:\", int(df.host_listings_count.median()))\n",
    "print(\"Mean number of listings per host:\", int(round(df.host_listings_count.mean())))\n",
    "print(f\"{int(round(100*len(df[df.host_listings_count == 1])/len(df)))}% of listings are from hosts with one listing.\")"
   ]
  },
  {
   "cell_type": "markdown",
   "metadata": {},
   "source": [
    "### Host listings count"
   ]
  },
  {
   "cell_type": "markdown",
   "metadata": {},
   "source": [
    "Question: how many listings do hosts have on average? How many multi-listing hosts are there?\n",
    "\n",
    "Answer: the median number of listings that the host of each listing has is 1, i.e. on average (median) each listing is hosted by a host who also manages one other listing. The mean is much higher (100 in total) due to some hosts managing large numbers of listings (as discussed above in the Time Series section). About half of listings are from hosts with one listing, and half are from multi-listing hosts.\n",
    "\n",
    "Two difficulties in discerning how many listings hosts have on average are:\n",
    "\n",
    "this number is only known on the level of the listing, so hosts with more listings are represented more frequently (e.g a host with 10 listings may be represented up to 10 times in the dataset)\n",
    "a host's other listings may not be in DC, so some multi-listing hosts may appear multiple times in the dataset, and others may appear only once"
   ]
  },
  {
   "cell_type": "markdown",
   "metadata": {},
   "source": [
    "### Number of people accommodated, bathrooms, bedrooms and beds"
   ]
  },
  {
   "cell_type": "markdown",
   "metadata": {},
   "source": [
    "\n",
    "Question: what are the average number of people accommodated, bathrooms, bedrooms and beds in Airbnb listings in DC, and how do prices differ?\n",
    "\n",
    "Answer: the most common property setup sleeps two people in one bed in one bedroom, with one bathroom. Unsurprisingly, properties that accommodate more people achieve noticeably higher nightly rates, with diminishing returns coming after about 10 people."
   ]
  },
  {
   "cell_type": "code",
   "execution_count": 74,
   "metadata": {},
   "outputs": [
    {
     "data": {
      "image/png": "[encoded data removed]",
      "text/plain": [
       "<Figure size 720x360 with 1 Axes>"
      ]
     },
     "metadata": {
      "needs_background": "light"
     },
     "output_type": "display_data"
    }
   ],
   "source": [
    "plt.figure(figsize=(10,5))\n",
    "df.groupby('accommodates').price.median().plot(kind='bar')\n",
    "plt.title('Median price of Airbnbs accommodating different number of guests', fontsize=14)\n",
    "plt.xlabel('Number of guests accommodated', fontsize=13)\n",
    "plt.ylabel('Median price ($)', fontsize=13)\n",
    "plt.xticks(rotation=0)\n",
    "plt.xlim(left=0.5)\n",
    "plt.show()"
   ]
  },
  {
   "cell_type": "code",
   "execution_count": 75,
   "metadata": {},
   "outputs": [
    {
     "data": {
      "image/png": "[encoded data removed]",
      "text/plain": [
       "<Figure size 576x432 with 4 Axes>"
      ]
     },
     "metadata": {
      "needs_background": "light"
     },
     "output_type": "display_data"
    }
   ],
   "source": [
    "df[['accommodates', 'bathrooms', 'bedrooms', 'beds']].hist(figsize=(8,6));"
   ]
  },
  {
   "cell_type": "code",
   "execution_count": 76,
   "metadata": {},
   "outputs": [
    {
     "data": {
      "text/html": [
       "<div>\n",
       "<style scoped>\n",
       "    .dataframe tbody tr th:only-of-type {\n",
       "        vertical-align: middle;\n",
       "    }\n",
       "\n",
       "    .dataframe tbody tr th {\n",
       "        vertical-align: top;\n",
       "    }\n",
       "\n",
       "    .dataframe thead th {\n",
       "        text-align: right;\n",
       "    }\n",
       "</style>\n",
       "<table border=\"1\" class=\"dataframe\">\n",
       "  <thead>\n",
       "    <tr style=\"text-align: right;\">\n",
       "      <th></th>\n",
       "      <th>accommodates</th>\n",
       "      <th>bathrooms</th>\n",
       "      <th>bedrooms</th>\n",
       "      <th>beds</th>\n",
       "    </tr>\n",
       "    <tr>\n",
       "      <th>id</th>\n",
       "      <th></th>\n",
       "      <th></th>\n",
       "      <th></th>\n",
       "      <th></th>\n",
       "    </tr>\n",
       "  </thead>\n",
       "  <tbody>\n",
       "    <tr>\n",
       "      <th>30787199</th>\n",
       "      <td>16</td>\n",
       "      <td>50.0</td>\n",
       "      <td>1.0</td>\n",
       "      <td>50.0</td>\n",
       "    </tr>\n",
       "  </tbody>\n",
       "</table>\n",
       "</div>"
      ],
      "text/plain": [
       "          accommodates  bathrooms  bedrooms  beds\n",
       "id                                               \n",
       "30787199            16       50.0       1.0  50.0"
      ]
     },
     "execution_count": 76,
     "metadata": {},
     "output_type": "execute_result"
    }
   ],
   "source": [
    "df[df.bathrooms==50][['accommodates', 'bathrooms', 'bedrooms', 'beds']]"
   ]
  },
  {
   "cell_type": "code",
   "execution_count": 77,
   "metadata": {},
   "outputs": [],
   "source": [
    "df = df[df.bathrooms != 50]"
   ]
  },
  {
   "cell_type": "markdown",
   "metadata": {},
   "source": [
    "one property claims to have 50 shared bathrooms, 50 beds, but only 1 bedroom), this property is dropped. <a href=\"https://www.airbnb.com/rooms/30787199\">link url</a> "
   ]
  },
  {
   "cell_type": "code",
   "execution_count": 78,
   "metadata": {},
   "outputs": [
    {
     "data": {
      "text/html": [
       "<div>\n",
       "<style scoped>\n",
       "    .dataframe tbody tr th:only-of-type {\n",
       "        vertical-align: middle;\n",
       "    }\n",
       "\n",
       "    .dataframe tbody tr th {\n",
       "        vertical-align: top;\n",
       "    }\n",
       "\n",
       "    .dataframe thead th {\n",
       "        text-align: right;\n",
       "    }\n",
       "</style>\n",
       "<table border=\"1\" class=\"dataframe\">\n",
       "  <thead>\n",
       "    <tr style=\"text-align: right;\">\n",
       "      <th></th>\n",
       "      <th>accommodates</th>\n",
       "      <th>bathrooms</th>\n",
       "      <th>bedrooms</th>\n",
       "      <th>beds</th>\n",
       "    </tr>\n",
       "    <tr>\n",
       "      <th>id</th>\n",
       "      <th></th>\n",
       "      <th></th>\n",
       "      <th></th>\n",
       "      <th></th>\n",
       "    </tr>\n",
       "  </thead>\n",
       "  <tbody>\n",
       "    <tr>\n",
       "      <th>43212927</th>\n",
       "      <td>16</td>\n",
       "      <td>6.0</td>\n",
       "      <td>27.0</td>\n",
       "      <td>51.0</td>\n",
       "    </tr>\n",
       "  </tbody>\n",
       "</table>\n",
       "</div>"
      ],
      "text/plain": [
       "          accommodates  bathrooms  bedrooms  beds\n",
       "id                                               \n",
       "43212927            16        6.0      27.0  51.0"
      ]
     },
     "execution_count": 78,
     "metadata": {},
     "output_type": "execute_result"
    }
   ],
   "source": [
    "df[df.beds==51][['accommodates', 'bathrooms', 'bedrooms', 'beds']]"
   ]
  },
  {
   "cell_type": "markdown",
   "metadata": {},
   "source": [
    "one property claims to have 6 shared bathrooms, 51 beds, 27 bedrooms), this property is a historical Inn, and is dropped. <a href=\"https://www.airbnb.com/rooms/30787199\">link url</a> "
   ]
  },
  {
   "cell_type": "code",
   "execution_count": 79,
   "metadata": {},
   "outputs": [],
   "source": [
    "df = df[df.beds != 51]"
   ]
  },
  {
   "cell_type": "code",
   "execution_count": 80,
   "metadata": {},
   "outputs": [
    {
     "data": {
      "image/png": "[encoded data removed]",
      "text/plain": [
       "<Figure size 576x432 with 4 Axes>"
      ]
     },
     "metadata": {
      "needs_background": "light"
     },
     "output_type": "display_data"
    }
   ],
   "source": [
    "df[['accommodates', 'bathrooms', 'bedrooms', 'beds']].hist(figsize=(8,6));"
   ]
  },
  {
   "cell_type": "markdown",
   "metadata": {},
   "source": [
    "## Categorical features"
   ]
  },
  {
   "cell_type": "markdown",
   "metadata": {},
   "source": [
    "Categorical features will be explored and plotted, to gain insights and to determine whether or not they should be included in the final model."
   ]
  },
  {
   "cell_type": "code",
   "execution_count": 81,
   "metadata": {},
   "outputs": [
    {
     "data": {
      "text/plain": [
       "Capitol Hill, Lincoln Park                                                                           683\n",
       "Union Station, Stanton Park, Kingman Park                                                            679\n",
       "Columbia Heights, Mt. Pleasant, Pleasant Plains, Park View                                           622\n",
       "Dupont Circle, Connecticut Avenue/K Street                                                           560\n",
       "Edgewood, Bloomingdale, Truxton Circle, Eckington                                                    556\n",
       "Shaw, Logan Circle                                                                                   487\n",
       "Brightwood Park, Crestwood, Petworth                                                                 400\n",
       "Downtown, Chinatown, Penn Quarters, Mount Vernon Square, North Capitol Street                        336\n",
       "Kalorama Heights, Adams Morgan, Lanier Heights                                                       305\n",
       "Howard University, Le Droit Park, Cardozo/Shaw                                                       261\n",
       "West End, Foggy Bottom, GWU                                                                          234\n",
       "Georgetown, Burleith/Hillandale                                                                      215\n",
       "Ivy City, Arboretum, Trinidad, Carver Langston                                                       211\n",
       "Takoma, Brightwood, Manor Park                                                                       175\n",
       "Southwest Employment Area, Southwest/Waterfront, Fort McNair, Buzzard Point                          161\n",
       "Brookland, Brentwood, Langdon                                                                        119\n",
       "Lamont Riggs, Queens Chapel, Fort Totten, Pleasant Hill                                              114\n",
       "Cathedral Heights, McLean Gardens, Glover Park                                                       100\n",
       "Near Southeast, Navy Yard                                                                             85\n",
       "Twining, Fairlawn, Randle Highlands, Penn Branch, Fort Davis Park, Fort Dupont                        84\n",
       "Congress Heights, Bellevue, Washington Highlands                                                      83\n",
       "Cleveland Park, Woodley Park, Massachusetts Avenue Heights, Woodland-Normanstone Terrace              80\n",
       "Capitol View, Marshall Heights, Benning Heights                                                       78\n",
       "Spring Valley, Palisades, Wesley Heights, Foxhall Crescent, Foxhall Village, Georgetown Reservoir     76\n",
       "Friendship Heights, American University Park, Tenleytown                                              73\n",
       "North Michigan Park, Michigan Park, University Heights                                                68\n",
       "Historic Anacostia                                                                                    58\n",
       "North Cleveland Park, Forest Hills, Van Ness                                                          57\n",
       "River Terrace, Benning, Greenway, Dupont Park                                                         50\n",
       "Hawthorne, Barnaby Woods, Chevy Chase                                                                 50\n",
       "Deanwood, Burrville, Grant Park, Lincoln Heights, Fairmont Heights                                    48\n",
       "Woodridge, Fort Lincoln, Gateway                                                                      47\n",
       "Mayfair, Hillbrook, Mahaning Heights                                                                  43\n",
       "Colonial Village, Shepherd Park, North Portal Estates                                                 37\n",
       "Sheridan, Barry Farm, Buena Vista                                                                     33\n",
       "Fairfax Village, Naylor Gardens, Hillcrest, Summit Park                                               28\n",
       "Douglas, Shipley Terrace                                                                              27\n",
       "Eastland Gardens, Kenilworth                                                                          16\n",
       "Woodland/Fort Stanton, Garfield Heights, Knox Hill                                                     9\n",
       "Name: neighbourhood_cleansed, dtype: int64"
      ]
     },
     "execution_count": 81,
     "metadata": {},
     "output_type": "execute_result"
    }
   ],
   "source": [
    "df.neighbourhood_cleansed.value_counts()"
   ]
  },
  {
   "cell_type": "code",
   "execution_count": 82,
   "metadata": {},
   "outputs": [
    {
     "data": {
      "text/html": [
       "<div>\n",
       "<style scoped>\n",
       "    .dataframe tbody tr th:only-of-type {\n",
       "        vertical-align: middle;\n",
       "    }\n",
       "\n",
       "    .dataframe tbody tr th {\n",
       "        vertical-align: top;\n",
       "    }\n",
       "\n",
       "    .dataframe thead th {\n",
       "        text-align: right;\n",
       "    }\n",
       "</style>\n",
       "<table border=\"1\" class=\"dataframe\">\n",
       "  <thead>\n",
       "    <tr style=\"text-align: right;\">\n",
       "      <th></th>\n",
       "      <th>neighbourhood</th>\n",
       "      <th>neighbourhood_group</th>\n",
       "      <th>geometry</th>\n",
       "    </tr>\n",
       "  </thead>\n",
       "  <tbody>\n",
       "    <tr>\n",
       "      <th>0</th>\n",
       "      <td>Congress Heights, Bellevue, Washington Highlands</td>\n",
       "      <td>None</td>\n",
       "      <td>MULTIPOLYGON (((-77.01389 38.82865, -77.01386 ...</td>\n",
       "    </tr>\n",
       "    <tr>\n",
       "      <th>1</th>\n",
       "      <td>Douglas, Shipley Terrace</td>\n",
       "      <td>None</td>\n",
       "      <td>MULTIPOLYGON (((-76.99291 38.85391, -76.99231 ...</td>\n",
       "    </tr>\n",
       "    <tr>\n",
       "      <th>2</th>\n",
       "      <td>Woodland/Fort Stanton, Garfield Heights, Knox ...</td>\n",
       "      <td>None</td>\n",
       "      <td>MULTIPOLYGON (((-76.97714 38.85728, -76.97721 ...</td>\n",
       "    </tr>\n",
       "    <tr>\n",
       "      <th>3</th>\n",
       "      <td>Near Southeast, Navy Yard</td>\n",
       "      <td>None</td>\n",
       "      <td>MULTIPOLYGON (((-76.97936 38.87756, -76.97937 ...</td>\n",
       "    </tr>\n",
       "    <tr>\n",
       "      <th>4</th>\n",
       "      <td>River Terrace, Benning, Greenway, Dupont Park</td>\n",
       "      <td>None</td>\n",
       "      <td>MULTIPOLYGON (((-76.93760 38.88996, -76.93752 ...</td>\n",
       "    </tr>\n",
       "  </tbody>\n",
       "</table>\n",
       "</div>"
      ],
      "text/plain": [
       "                                       neighbourhood neighbourhood_group  \\\n",
       "0   Congress Heights, Bellevue, Washington Highlands                None   \n",
       "1                           Douglas, Shipley Terrace                None   \n",
       "2  Woodland/Fort Stanton, Garfield Heights, Knox ...                None   \n",
       "3                          Near Southeast, Navy Yard                None   \n",
       "4      River Terrace, Benning, Greenway, Dupont Park                None   \n",
       "\n",
       "                                            geometry  \n",
       "0  MULTIPOLYGON (((-77.01389 38.82865, -77.01386 ...  \n",
       "1  MULTIPOLYGON (((-76.99291 38.85391, -76.99231 ...  \n",
       "2  MULTIPOLYGON (((-76.97714 38.85728, -76.97721 ...  \n",
       "3  MULTIPOLYGON (((-76.97936 38.87756, -76.97937 ...  \n",
       "4  MULTIPOLYGON (((-76.93760 38.88996, -76.93752 ...  "
      ]
     },
     "execution_count": 82,
     "metadata": {},
     "output_type": "execute_result"
    }
   ],
   "source": [
    "# Renaming the neighbourhood column\n",
    "df.rename(columns={'neighbourhood_cleansed': 'neighbourhood'}, inplace=True)\n",
    "\n",
    "# Importing the London borough boundary GeoJSON file as a dataframe in geopandas\n",
    "map_df = gpd.read_file('data/neighbourhoods.geojson')\n",
    "map_df.head()"
   ]
  },
  {
   "cell_type": "code",
   "execution_count": 107,
   "metadata": {},
   "outputs": [],
   "source": [
    "# Dropping the empty column\n",
    "map_df.drop('neighbourhood_group', axis=1, inplace=True)\n",
    "\n",
    "# Creating a dataframe of listing counts and median price by borough\n",
    "borough_df = pd.DataFrame(df.groupby('neighbourhood').size())\n",
    "borough_df.rename(columns={0: 'number_of_listings'}, inplace=True)\n",
    "borough_df['median_price'] = df.groupby('neighbourhood').price.median().values\n",
    "borough_df['review_number'] = df.groupby('neighbourhood').number_of_reviews.sum().values\n",
    "\n",
    "# Joining the dataframes\n",
    "borough_map_df = map_df.set_index('neighbourhood').join(borough_df)"
   ]
  },
  {
   "cell_type": "code",
   "execution_count": 109,
   "metadata": {},
   "outputs": [
    {
     "data": {
      "image/png": "[encoded data removed]",
      "text/plain": [
       "<Figure size 1080x432 with 2 Axes>"
      ]
     },
     "metadata": {
      "needs_background": "light"
     },
     "output_type": "display_data"
    },
    {
     "data": {
      "image/png": "[encoded data removed]",
      "text/plain": [
       "<Figure size 1080x432 with 2 Axes>"
      ]
     },
     "metadata": {
      "needs_background": "light"
     },
     "output_type": "display_data"
    },
    {
     "data": {
      "image/png": "[encoded data removed]",
      "text/plain": [
       "<Figure size 1080x432 with 2 Axes>"
      ]
     },
     "metadata": {
      "needs_background": "light"
     },
     "output_type": "display_data"
    }
   ],
   "source": [
    "from descartes import PolygonPatch\n",
    "# Plotting the number of listings in each borough\n",
    "fig1, ax1 = plt.subplots(1, figsize=(15, 6))\n",
    "borough_map_df.plot(column='number_of_listings', cmap='Blues', ax=ax1)\n",
    "ax1.axis('off')\n",
    "ax1.set_title('Number of Airbnb listings in each DC neighbourhood', fontsize=14)\n",
    "sm = plt.cm.ScalarMappable(cmap='Blues', norm=plt.Normalize(vmin=0, vmax=9000))\n",
    "sm._A = [] # Creates an empty array for the data range\n",
    "cbar = fig1.colorbar(sm)\n",
    "plt.show()\n",
    "\n",
    "# Plotting the median price of listings in each borough\n",
    "fig2, ax2 = plt.subplots(1, figsize=(15, 6))\n",
    "borough_map_df.plot(column='median_price', cmap='Blues', ax=ax2)\n",
    "ax2.axis('off')\n",
    "ax2.set_title('Median price of Airbnb listings in each DC neighbourhood', fontsize=14)\n",
    "sm = plt.cm.ScalarMappable(cmap='Blues', norm=plt.Normalize(vmin=min(borough_map_df.median_price), vmax=max(borough_map_df.median_price)))\n",
    "sm._A = [] # Creates an empty array for the data range\n",
    "cbar = fig2.colorbar(sm)\n",
    "plt.show()\n",
    "\n",
    "# Plotting the median price of listings in each borough\n",
    "fig3, ax3 = plt.subplots(1, figsize=(15, 6))\n",
    "borough_map_df.plot(column='review_number', cmap='Blues', ax=ax3)\n",
    "ax3.axis('off')\n",
    "ax3.set_title('total number of reviews in each DC neighbourhood', fontsize=14)\n",
    "sm = plt.cm.ScalarMappable(cmap='Blues', norm=plt.Normalize(vmin=min(borough_map_df.review_number), vmax=max(borough_map_df.review_number)))\n",
    "sm._A = [] # Creates an empty array for the data range\n",
    "cbar = fig3.colorbar(sm)\n",
    "plt.show()\n"
   ]
  },
  {
   "cell_type": "markdown",
   "metadata": {},
   "source": [
    "### Property and room types"
   ]
  },
  {
   "cell_type": "code",
   "execution_count": 105,
   "metadata": {},
   "outputs": [
    {
     "data": {
      "text/plain": [
       "id\n",
       "3686                                       Historic Anacostia\n",
       "3943        Edgewood, Bloomingdale, Truxton Circle, Eckington\n",
       "4197                               Capitol Hill, Lincoln Park\n",
       "4967           Ivy City, Arboretum, Trinidad, Carver Langston\n",
       "5589           Kalorama Heights, Adams Morgan, Lanier Heights\n",
       "                                  ...                        \n",
       "45506143    Downtown, Chinatown, Penn Quarters, Mount Vern...\n",
       "45511428                        Brookland, Brentwood, Langdon\n",
       "45514685                                   Shaw, Logan Circle\n",
       "45516412       Kalorama Heights, Adams Morgan, Lanier Heights\n",
       "45517735    Edgewood, Bloomingdale, Truxton Circle, Eckington\n",
       "Name: neighbourhood, Length: 7348, dtype: object"
      ]
     },
     "execution_count": 105,
     "metadata": {},
     "output_type": "execute_result"
    }
   ],
   "source": [
    "df.neighbourhood"
   ]
  },
  {
   "cell_type": "code",
   "execution_count": 104,
   "metadata": {},
   "outputs": [
    {
     "data": {
      "text/html": [
       "<div>\n",
       "<style scoped>\n",
       "    .dataframe tbody tr th:only-of-type {\n",
       "        vertical-align: middle;\n",
       "    }\n",
       "\n",
       "    .dataframe tbody tr th {\n",
       "        vertical-align: top;\n",
       "    }\n",
       "\n",
       "    .dataframe thead th {\n",
       "        text-align: right;\n",
       "    }\n",
       "</style>\n",
       "<table border=\"1\" class=\"dataframe\">\n",
       "  <thead>\n",
       "    <tr style=\"text-align: right;\">\n",
       "      <th></th>\n",
       "      <th>host_since</th>\n",
       "      <th>host_response_time</th>\n",
       "      <th>host_response_rate</th>\n",
       "      <th>host_acceptance_rate</th>\n",
       "      <th>host_is_superhost</th>\n",
       "      <th>host_listings_count</th>\n",
       "      <th>host_identity_verified</th>\n",
       "      <th>neighbourhood</th>\n",
       "      <th>property_type</th>\n",
       "      <th>room_type</th>\n",
       "      <th>accommodates</th>\n",
       "      <th>bedrooms</th>\n",
       "      <th>beds</th>\n",
       "      <th>amenities</th>\n",
       "      <th>price</th>\n",
       "      <th>minimum_nights</th>\n",
       "      <th>maximum_nights</th>\n",
       "      <th>availability_30</th>\n",
       "      <th>availability_60</th>\n",
       "      <th>availability_90</th>\n",
       "      <th>availability_365</th>\n",
       "      <th>number_of_reviews</th>\n",
       "      <th>number_of_reviews_l30d</th>\n",
       "      <th>first_review</th>\n",
       "      <th>review_scores_rating</th>\n",
       "      <th>review_scores_accuracy</th>\n",
       "      <th>review_scores_cleanliness</th>\n",
       "      <th>review_scores_checkin</th>\n",
       "      <th>review_scores_communication</th>\n",
       "      <th>review_scores_location</th>\n",
       "      <th>review_scores_value</th>\n",
       "      <th>instant_bookable</th>\n",
       "      <th>host_days_active</th>\n",
       "      <th>bathrooms</th>\n",
       "      <th>time_since_first_review</th>\n",
       "      <th>time_since_last_review</th>\n",
       "    </tr>\n",
       "    <tr>\n",
       "      <th>id</th>\n",
       "      <th></th>\n",
       "      <th></th>\n",
       "      <th></th>\n",
       "      <th></th>\n",
       "      <th></th>\n",
       "      <th></th>\n",
       "      <th></th>\n",
       "      <th></th>\n",
       "      <th></th>\n",
       "      <th></th>\n",
       "      <th></th>\n",
       "      <th></th>\n",
       "      <th></th>\n",
       "      <th></th>\n",
       "      <th></th>\n",
       "      <th></th>\n",
       "      <th></th>\n",
       "      <th></th>\n",
       "      <th></th>\n",
       "      <th></th>\n",
       "      <th></th>\n",
       "      <th></th>\n",
       "      <th></th>\n",
       "      <th></th>\n",
       "      <th></th>\n",
       "      <th></th>\n",
       "      <th></th>\n",
       "      <th></th>\n",
       "      <th></th>\n",
       "      <th></th>\n",
       "      <th></th>\n",
       "      <th></th>\n",
       "      <th></th>\n",
       "      <th></th>\n",
       "      <th></th>\n",
       "      <th></th>\n",
       "    </tr>\n",
       "  </thead>\n",
       "  <tbody>\n",
       "    <tr>\n",
       "      <th>3686</th>\n",
       "      <td>2008-11-26</td>\n",
       "      <td>within a day</td>\n",
       "      <td>50-89%</td>\n",
       "      <td>100%</td>\n",
       "      <td>0</td>\n",
       "      <td>2</td>\n",
       "      <td>1</td>\n",
       "      <td>Historic Anacostia</td>\n",
       "      <td>Other</td>\n",
       "      <td>Private room</td>\n",
       "      <td>1</td>\n",
       "      <td>1.0</td>\n",
       "      <td>1.0</td>\n",
       "      <td>[\"Carbon monoxide alarm\", \"Heating\", \"Bed line...</td>\n",
       "      <td>55</td>\n",
       "      <td>2</td>\n",
       "      <td>365</td>\n",
       "      <td>30</td>\n",
       "      <td>60</td>\n",
       "      <td>90</td>\n",
       "      <td>365</td>\n",
       "      <td>72</td>\n",
       "      <td>0</td>\n",
       "      <td>2010-11-01</td>\n",
       "      <td>80-94/100</td>\n",
       "      <td>9/10</td>\n",
       "      <td>9/10</td>\n",
       "      <td>10/10</td>\n",
       "      <td>10/10</td>\n",
       "      <td>0-8/10</td>\n",
       "      <td>9/10</td>\n",
       "      <td>0</td>\n",
       "      <td>4317.0</td>\n",
       "      <td>1.0</td>\n",
       "      <td>4+ years</td>\n",
       "      <td>2-6 months</td>\n",
       "    </tr>\n",
       "    <tr>\n",
       "      <th>3943</th>\n",
       "      <td>2008-12-12</td>\n",
       "      <td>within a few hours</td>\n",
       "      <td>100%</td>\n",
       "      <td>0-49%</td>\n",
       "      <td>0</td>\n",
       "      <td>0</td>\n",
       "      <td>1</td>\n",
       "      <td>Edgewood, Bloomingdale, Truxton Circle, Eckington</td>\n",
       "      <td>Other</td>\n",
       "      <td>Private room</td>\n",
       "      <td>2</td>\n",
       "      <td>1.0</td>\n",
       "      <td>1.0</td>\n",
       "      <td>[\"Carbon monoxide alarm\", \"Heating\", \"Bed line...</td>\n",
       "      <td>80</td>\n",
       "      <td>27</td>\n",
       "      <td>1125</td>\n",
       "      <td>28</td>\n",
       "      <td>58</td>\n",
       "      <td>88</td>\n",
       "      <td>101</td>\n",
       "      <td>429</td>\n",
       "      <td>0</td>\n",
       "      <td>2009-05-10</td>\n",
       "      <td>95-100/100</td>\n",
       "      <td>10/10</td>\n",
       "      <td>10/10</td>\n",
       "      <td>10/10</td>\n",
       "      <td>10/10</td>\n",
       "      <td>9/10</td>\n",
       "      <td>9/10</td>\n",
       "      <td>0</td>\n",
       "      <td>4301.0</td>\n",
       "      <td>1.0</td>\n",
       "      <td>4+ years</td>\n",
       "      <td>1+ year</td>\n",
       "    </tr>\n",
       "    <tr>\n",
       "      <th>4197</th>\n",
       "      <td>2008-12-12</td>\n",
       "      <td>unknown</td>\n",
       "      <td>unknown</td>\n",
       "      <td>90-99%</td>\n",
       "      <td>1</td>\n",
       "      <td>2</td>\n",
       "      <td>1</td>\n",
       "      <td>Capitol Hill, Lincoln Park</td>\n",
       "      <td>Other</td>\n",
       "      <td>Private room</td>\n",
       "      <td>2</td>\n",
       "      <td>1.0</td>\n",
       "      <td>1.0</td>\n",
       "      <td>[\"Carbon monoxide alarm\", \"Heating\", \"Bed line...</td>\n",
       "      <td>76</td>\n",
       "      <td>28</td>\n",
       "      <td>365</td>\n",
       "      <td>0</td>\n",
       "      <td>19</td>\n",
       "      <td>49</td>\n",
       "      <td>324</td>\n",
       "      <td>45</td>\n",
       "      <td>0</td>\n",
       "      <td>2009-05-14</td>\n",
       "      <td>95-100/100</td>\n",
       "      <td>10/10</td>\n",
       "      <td>10/10</td>\n",
       "      <td>10/10</td>\n",
       "      <td>10/10</td>\n",
       "      <td>10/10</td>\n",
       "      <td>10/10</td>\n",
       "      <td>0</td>\n",
       "      <td>4301.0</td>\n",
       "      <td>1.5</td>\n",
       "      <td>4+ years</td>\n",
       "      <td>6-12 months</td>\n",
       "    </tr>\n",
       "    <tr>\n",
       "      <th>4967</th>\n",
       "      <td>2009-01-26</td>\n",
       "      <td>within an hour</td>\n",
       "      <td>100%</td>\n",
       "      <td>0-49%</td>\n",
       "      <td>1</td>\n",
       "      <td>5</td>\n",
       "      <td>1</td>\n",
       "      <td>Ivy City, Arboretum, Trinidad, Carver Langston</td>\n",
       "      <td>Other</td>\n",
       "      <td>Private room</td>\n",
       "      <td>1</td>\n",
       "      <td>1.0</td>\n",
       "      <td>1.0</td>\n",
       "      <td>[\"Smoke alarm\", \"Carbon monoxide alarm\", \"Heat...</td>\n",
       "      <td>99</td>\n",
       "      <td>2</td>\n",
       "      <td>365</td>\n",
       "      <td>0</td>\n",
       "      <td>0</td>\n",
       "      <td>0</td>\n",
       "      <td>83</td>\n",
       "      <td>31</td>\n",
       "      <td>0</td>\n",
       "      <td>2010-11-04</td>\n",
       "      <td>80-94/100</td>\n",
       "      <td>9/10</td>\n",
       "      <td>10/10</td>\n",
       "      <td>10/10</td>\n",
       "      <td>10/10</td>\n",
       "      <td>0-8/10</td>\n",
       "      <td>9/10</td>\n",
       "      <td>0</td>\n",
       "      <td>4256.0</td>\n",
       "      <td>3.0</td>\n",
       "      <td>4+ years</td>\n",
       "      <td>1+ year</td>\n",
       "    </tr>\n",
       "    <tr>\n",
       "      <th>5589</th>\n",
       "      <td>2009-01-13</td>\n",
       "      <td>unknown</td>\n",
       "      <td>unknown</td>\n",
       "      <td>90-99%</td>\n",
       "      <td>1</td>\n",
       "      <td>4</td>\n",
       "      <td>1</td>\n",
       "      <td>Kalorama Heights, Adams Morgan, Lanier Heights</td>\n",
       "      <td>Apartment</td>\n",
       "      <td>Entire home/apt</td>\n",
       "      <td>3</td>\n",
       "      <td>1.0</td>\n",
       "      <td>1.0</td>\n",
       "      <td>[\"Heating\", \"Bed linens\", \"Dishwasher\", \"Air c...</td>\n",
       "      <td>76</td>\n",
       "      <td>7</td>\n",
       "      <td>30</td>\n",
       "      <td>6</td>\n",
       "      <td>36</td>\n",
       "      <td>66</td>\n",
       "      <td>109</td>\n",
       "      <td>95</td>\n",
       "      <td>0</td>\n",
       "      <td>2009-09-22</td>\n",
       "      <td>80-94/100</td>\n",
       "      <td>10/10</td>\n",
       "      <td>0-8/10</td>\n",
       "      <td>10/10</td>\n",
       "      <td>10/10</td>\n",
       "      <td>10/10</td>\n",
       "      <td>9/10</td>\n",
       "      <td>0</td>\n",
       "      <td>4269.0</td>\n",
       "      <td>1.0</td>\n",
       "      <td>4+ years</td>\n",
       "      <td>6-12 months</td>\n",
       "    </tr>\n",
       "    <tr>\n",
       "      <th>...</th>\n",
       "      <td>...</td>\n",
       "      <td>...</td>\n",
       "      <td>...</td>\n",
       "      <td>...</td>\n",
       "      <td>...</td>\n",
       "      <td>...</td>\n",
       "      <td>...</td>\n",
       "      <td>...</td>\n",
       "      <td>...</td>\n",
       "      <td>...</td>\n",
       "      <td>...</td>\n",
       "      <td>...</td>\n",
       "      <td>...</td>\n",
       "      <td>...</td>\n",
       "      <td>...</td>\n",
       "      <td>...</td>\n",
       "      <td>...</td>\n",
       "      <td>...</td>\n",
       "      <td>...</td>\n",
       "      <td>...</td>\n",
       "      <td>...</td>\n",
       "      <td>...</td>\n",
       "      <td>...</td>\n",
       "      <td>...</td>\n",
       "      <td>...</td>\n",
       "      <td>...</td>\n",
       "      <td>...</td>\n",
       "      <td>...</td>\n",
       "      <td>...</td>\n",
       "      <td>...</td>\n",
       "      <td>...</td>\n",
       "      <td>...</td>\n",
       "      <td>...</td>\n",
       "      <td>...</td>\n",
       "      <td>...</td>\n",
       "      <td>...</td>\n",
       "    </tr>\n",
       "    <tr>\n",
       "      <th>45506143</th>\n",
       "      <td>2015-01-11</td>\n",
       "      <td>within an hour</td>\n",
       "      <td>100%</td>\n",
       "      <td>90-99%</td>\n",
       "      <td>0</td>\n",
       "      <td>7</td>\n",
       "      <td>1</td>\n",
       "      <td>Downtown, Chinatown, Penn Quarters, Mount Vern...</td>\n",
       "      <td>Apartment</td>\n",
       "      <td>Entire home/apt</td>\n",
       "      <td>6</td>\n",
       "      <td>1.0</td>\n",
       "      <td>3.0</td>\n",
       "      <td>[\"Heating\", \"Dishwasher\", \"Air conditioning\", ...</td>\n",
       "      <td>104</td>\n",
       "      <td>1</td>\n",
       "      <td>28</td>\n",
       "      <td>28</td>\n",
       "      <td>58</td>\n",
       "      <td>88</td>\n",
       "      <td>99</td>\n",
       "      <td>0</td>\n",
       "      <td>0</td>\n",
       "      <td>NaT</td>\n",
       "      <td>no reviews</td>\n",
       "      <td>no reviews</td>\n",
       "      <td>no reviews</td>\n",
       "      <td>no reviews</td>\n",
       "      <td>no reviews</td>\n",
       "      <td>no reviews</td>\n",
       "      <td>no reviews</td>\n",
       "      <td>0</td>\n",
       "      <td>2080.0</td>\n",
       "      <td>1.0</td>\n",
       "      <td>no reviews</td>\n",
       "      <td>no reviews</td>\n",
       "    </tr>\n",
       "    <tr>\n",
       "      <th>45511428</th>\n",
       "      <td>2018-12-17</td>\n",
       "      <td>within an hour</td>\n",
       "      <td>100%</td>\n",
       "      <td>90-99%</td>\n",
       "      <td>1</td>\n",
       "      <td>1</td>\n",
       "      <td>1</td>\n",
       "      <td>Brookland, Brentwood, Langdon</td>\n",
       "      <td>House</td>\n",
       "      <td>Entire home/apt</td>\n",
       "      <td>7</td>\n",
       "      <td>3.0</td>\n",
       "      <td>4.0</td>\n",
       "      <td>[\"Smoke alarm\", \"Iron\", \"Free parking on premi...</td>\n",
       "      <td>151</td>\n",
       "      <td>2</td>\n",
       "      <td>1125</td>\n",
       "      <td>26</td>\n",
       "      <td>56</td>\n",
       "      <td>86</td>\n",
       "      <td>300</td>\n",
       "      <td>0</td>\n",
       "      <td>0</td>\n",
       "      <td>NaT</td>\n",
       "      <td>no reviews</td>\n",
       "      <td>no reviews</td>\n",
       "      <td>no reviews</td>\n",
       "      <td>no reviews</td>\n",
       "      <td>no reviews</td>\n",
       "      <td>no reviews</td>\n",
       "      <td>no reviews</td>\n",
       "      <td>0</td>\n",
       "      <td>644.0</td>\n",
       "      <td>2.5</td>\n",
       "      <td>no reviews</td>\n",
       "      <td>no reviews</td>\n",
       "    </tr>\n",
       "    <tr>\n",
       "      <th>45514685</th>\n",
       "      <td>2015-05-19</td>\n",
       "      <td>unknown</td>\n",
       "      <td>unknown</td>\n",
       "      <td>unknown</td>\n",
       "      <td>0</td>\n",
       "      <td>1</td>\n",
       "      <td>1</td>\n",
       "      <td>Shaw, Logan Circle</td>\n",
       "      <td>Apartment</td>\n",
       "      <td>Entire home/apt</td>\n",
       "      <td>4</td>\n",
       "      <td>1.0</td>\n",
       "      <td>1.0</td>\n",
       "      <td>[\"Carbon monoxide alarm\", \"Heating\", \"Dishwash...</td>\n",
       "      <td>240</td>\n",
       "      <td>2</td>\n",
       "      <td>30</td>\n",
       "      <td>23</td>\n",
       "      <td>53</td>\n",
       "      <td>83</td>\n",
       "      <td>173</td>\n",
       "      <td>0</td>\n",
       "      <td>0</td>\n",
       "      <td>NaT</td>\n",
       "      <td>no reviews</td>\n",
       "      <td>no reviews</td>\n",
       "      <td>no reviews</td>\n",
       "      <td>no reviews</td>\n",
       "      <td>no reviews</td>\n",
       "      <td>no reviews</td>\n",
       "      <td>no reviews</td>\n",
       "      <td>1</td>\n",
       "      <td>1952.0</td>\n",
       "      <td>2.0</td>\n",
       "      <td>no reviews</td>\n",
       "      <td>no reviews</td>\n",
       "    </tr>\n",
       "    <tr>\n",
       "      <th>45516412</th>\n",
       "      <td>2014-10-31</td>\n",
       "      <td>within an hour</td>\n",
       "      <td>100%</td>\n",
       "      <td>100%</td>\n",
       "      <td>1</td>\n",
       "      <td>3</td>\n",
       "      <td>1</td>\n",
       "      <td>Kalorama Heights, Adams Morgan, Lanier Heights</td>\n",
       "      <td>Apartment</td>\n",
       "      <td>Entire home/apt</td>\n",
       "      <td>1</td>\n",
       "      <td>1.0</td>\n",
       "      <td>1.0</td>\n",
       "      <td>[\"Smoke alarm\", \"Iron\", \"Free parking on premi...</td>\n",
       "      <td>60</td>\n",
       "      <td>21</td>\n",
       "      <td>365</td>\n",
       "      <td>27</td>\n",
       "      <td>57</td>\n",
       "      <td>87</td>\n",
       "      <td>362</td>\n",
       "      <td>0</td>\n",
       "      <td>0</td>\n",
       "      <td>NaT</td>\n",
       "      <td>no reviews</td>\n",
       "      <td>no reviews</td>\n",
       "      <td>no reviews</td>\n",
       "      <td>no reviews</td>\n",
       "      <td>no reviews</td>\n",
       "      <td>no reviews</td>\n",
       "      <td>no reviews</td>\n",
       "      <td>1</td>\n",
       "      <td>2152.0</td>\n",
       "      <td>1.0</td>\n",
       "      <td>no reviews</td>\n",
       "      <td>no reviews</td>\n",
       "    </tr>\n",
       "    <tr>\n",
       "      <th>45517735</th>\n",
       "      <td>2014-07-07</td>\n",
       "      <td>unknown</td>\n",
       "      <td>unknown</td>\n",
       "      <td>100%</td>\n",
       "      <td>1</td>\n",
       "      <td>2</td>\n",
       "      <td>0</td>\n",
       "      <td>Edgewood, Bloomingdale, Truxton Circle, Eckington</td>\n",
       "      <td>Apartment</td>\n",
       "      <td>Entire home/apt</td>\n",
       "      <td>4</td>\n",
       "      <td>1.0</td>\n",
       "      <td>1.0</td>\n",
       "      <td>[\"Smoke alarm\", \"Iron\", \"Free parking on premi...</td>\n",
       "      <td>79</td>\n",
       "      <td>7</td>\n",
       "      <td>1125</td>\n",
       "      <td>24</td>\n",
       "      <td>54</td>\n",
       "      <td>62</td>\n",
       "      <td>62</td>\n",
       "      <td>0</td>\n",
       "      <td>0</td>\n",
       "      <td>NaT</td>\n",
       "      <td>no reviews</td>\n",
       "      <td>no reviews</td>\n",
       "      <td>no reviews</td>\n",
       "      <td>no reviews</td>\n",
       "      <td>no reviews</td>\n",
       "      <td>no reviews</td>\n",
       "      <td>no reviews</td>\n",
       "      <td>0</td>\n",
       "      <td>2268.0</td>\n",
       "      <td>1.5</td>\n",
       "      <td>no reviews</td>\n",
       "      <td>no reviews</td>\n",
       "    </tr>\n",
       "  </tbody>\n",
       "</table>\n",
       "<p>7348 rows × 36 columns</p>\n",
       "</div>"
      ],
      "text/plain": [
       "         host_since  host_response_time host_response_rate  \\\n",
       "id                                                           \n",
       "3686     2008-11-26        within a day             50-89%   \n",
       "3943     2008-12-12  within a few hours               100%   \n",
       "4197     2008-12-12             unknown            unknown   \n",
       "4967     2009-01-26      within an hour               100%   \n",
       "5589     2009-01-13             unknown            unknown   \n",
       "...             ...                 ...                ...   \n",
       "45506143 2015-01-11      within an hour               100%   \n",
       "45511428 2018-12-17      within an hour               100%   \n",
       "45514685 2015-05-19             unknown            unknown   \n",
       "45516412 2014-10-31      within an hour               100%   \n",
       "45517735 2014-07-07             unknown            unknown   \n",
       "\n",
       "         host_acceptance_rate  host_is_superhost  host_listings_count  \\\n",
       "id                                                                      \n",
       "3686                     100%                  0                    2   \n",
       "3943                    0-49%                  0                    0   \n",
       "4197                   90-99%                  1                    2   \n",
       "4967                    0-49%                  1                    5   \n",
       "5589                   90-99%                  1                    4   \n",
       "...                       ...                ...                  ...   \n",
       "45506143               90-99%                  0                    7   \n",
       "45511428               90-99%                  1                    1   \n",
       "45514685              unknown                  0                    1   \n",
       "45516412                 100%                  1                    3   \n",
       "45517735                 100%                  1                    2   \n",
       "\n",
       "          host_identity_verified  \\\n",
       "id                                 \n",
       "3686                           1   \n",
       "3943                           1   \n",
       "4197                           1   \n",
       "4967                           1   \n",
       "5589                           1   \n",
       "...                          ...   \n",
       "45506143                       1   \n",
       "45511428                       1   \n",
       "45514685                       1   \n",
       "45516412                       1   \n",
       "45517735                       0   \n",
       "\n",
       "                                              neighbourhood property_type  \\\n",
       "id                                                                          \n",
       "3686                                     Historic Anacostia         Other   \n",
       "3943      Edgewood, Bloomingdale, Truxton Circle, Eckington         Other   \n",
       "4197                             Capitol Hill, Lincoln Park         Other   \n",
       "4967         Ivy City, Arboretum, Trinidad, Carver Langston         Other   \n",
       "5589         Kalorama Heights, Adams Morgan, Lanier Heights     Apartment   \n",
       "...                                                     ...           ...   \n",
       "45506143  Downtown, Chinatown, Penn Quarters, Mount Vern...     Apartment   \n",
       "45511428                      Brookland, Brentwood, Langdon         House   \n",
       "45514685                                 Shaw, Logan Circle     Apartment   \n",
       "45516412     Kalorama Heights, Adams Morgan, Lanier Heights     Apartment   \n",
       "45517735  Edgewood, Bloomingdale, Truxton Circle, Eckington     Apartment   \n",
       "\n",
       "                room_type  accommodates  bedrooms  beds  \\\n",
       "id                                                        \n",
       "3686         Private room             1       1.0   1.0   \n",
       "3943         Private room             2       1.0   1.0   \n",
       "4197         Private room             2       1.0   1.0   \n",
       "4967         Private room             1       1.0   1.0   \n",
       "5589      Entire home/apt             3       1.0   1.0   \n",
       "...                   ...           ...       ...   ...   \n",
       "45506143  Entire home/apt             6       1.0   3.0   \n",
       "45511428  Entire home/apt             7       3.0   4.0   \n",
       "45514685  Entire home/apt             4       1.0   1.0   \n",
       "45516412  Entire home/apt             1       1.0   1.0   \n",
       "45517735  Entire home/apt             4       1.0   1.0   \n",
       "\n",
       "                                                  amenities  price  \\\n",
       "id                                                                   \n",
       "3686      [\"Carbon monoxide alarm\", \"Heating\", \"Bed line...     55   \n",
       "3943      [\"Carbon monoxide alarm\", \"Heating\", \"Bed line...     80   \n",
       "4197      [\"Carbon monoxide alarm\", \"Heating\", \"Bed line...     76   \n",
       "4967      [\"Smoke alarm\", \"Carbon monoxide alarm\", \"Heat...     99   \n",
       "5589      [\"Heating\", \"Bed linens\", \"Dishwasher\", \"Air c...     76   \n",
       "...                                                     ...    ...   \n",
       "45506143  [\"Heating\", \"Dishwasher\", \"Air conditioning\", ...    104   \n",
       "45511428  [\"Smoke alarm\", \"Iron\", \"Free parking on premi...    151   \n",
       "45514685  [\"Carbon monoxide alarm\", \"Heating\", \"Dishwash...    240   \n",
       "45516412  [\"Smoke alarm\", \"Iron\", \"Free parking on premi...     60   \n",
       "45517735  [\"Smoke alarm\", \"Iron\", \"Free parking on premi...     79   \n",
       "\n",
       "          minimum_nights  maximum_nights  availability_30  availability_60  \\\n",
       "id                                                                           \n",
       "3686                   2             365               30               60   \n",
       "3943                  27            1125               28               58   \n",
       "4197                  28             365                0               19   \n",
       "4967                   2             365                0                0   \n",
       "5589                   7              30                6               36   \n",
       "...                  ...             ...              ...              ...   \n",
       "45506143               1              28               28               58   \n",
       "45511428               2            1125               26               56   \n",
       "45514685               2              30               23               53   \n",
       "45516412              21             365               27               57   \n",
       "45517735               7            1125               24               54   \n",
       "\n",
       "          availability_90  availability_365  number_of_reviews  \\\n",
       "id                                                               \n",
       "3686                   90               365                 72   \n",
       "3943                   88               101                429   \n",
       "4197                   49               324                 45   \n",
       "4967                    0                83                 31   \n",
       "5589                   66               109                 95   \n",
       "...                   ...               ...                ...   \n",
       "45506143               88                99                  0   \n",
       "45511428               86               300                  0   \n",
       "45514685               83               173                  0   \n",
       "45516412               87               362                  0   \n",
       "45517735               62                62                  0   \n",
       "\n",
       "          number_of_reviews_l30d first_review review_scores_rating  \\\n",
       "id                                                                   \n",
       "3686                           0   2010-11-01            80-94/100   \n",
       "3943                           0   2009-05-10           95-100/100   \n",
       "4197                           0   2009-05-14           95-100/100   \n",
       "4967                           0   2010-11-04            80-94/100   \n",
       "5589                           0   2009-09-22            80-94/100   \n",
       "...                          ...          ...                  ...   \n",
       "45506143                       0          NaT           no reviews   \n",
       "45511428                       0          NaT           no reviews   \n",
       "45514685                       0          NaT           no reviews   \n",
       "45516412                       0          NaT           no reviews   \n",
       "45517735                       0          NaT           no reviews   \n",
       "\n",
       "         review_scores_accuracy review_scores_cleanliness  \\\n",
       "id                                                          \n",
       "3686                       9/10                      9/10   \n",
       "3943                      10/10                     10/10   \n",
       "4197                      10/10                     10/10   \n",
       "4967                       9/10                     10/10   \n",
       "5589                      10/10                    0-8/10   \n",
       "...                         ...                       ...   \n",
       "45506143             no reviews                no reviews   \n",
       "45511428             no reviews                no reviews   \n",
       "45514685             no reviews                no reviews   \n",
       "45516412             no reviews                no reviews   \n",
       "45517735             no reviews                no reviews   \n",
       "\n",
       "         review_scores_checkin review_scores_communication  \\\n",
       "id                                                           \n",
       "3686                     10/10                       10/10   \n",
       "3943                     10/10                       10/10   \n",
       "4197                     10/10                       10/10   \n",
       "4967                     10/10                       10/10   \n",
       "5589                     10/10                       10/10   \n",
       "...                        ...                         ...   \n",
       "45506143            no reviews                  no reviews   \n",
       "45511428            no reviews                  no reviews   \n",
       "45514685            no reviews                  no reviews   \n",
       "45516412            no reviews                  no reviews   \n",
       "45517735            no reviews                  no reviews   \n",
       "\n",
       "         review_scores_location review_scores_value  instant_bookable  \\\n",
       "id                                                                      \n",
       "3686                     0-8/10                9/10                 0   \n",
       "3943                       9/10                9/10                 0   \n",
       "4197                      10/10               10/10                 0   \n",
       "4967                     0-8/10                9/10                 0   \n",
       "5589                      10/10                9/10                 0   \n",
       "...                         ...                 ...               ...   \n",
       "45506143             no reviews          no reviews                 0   \n",
       "45511428             no reviews          no reviews                 0   \n",
       "45514685             no reviews          no reviews                 1   \n",
       "45516412             no reviews          no reviews                 1   \n",
       "45517735             no reviews          no reviews                 0   \n",
       "\n",
       "          host_days_active  bathrooms time_since_first_review  \\\n",
       "id                                                              \n",
       "3686                4317.0        1.0                4+ years   \n",
       "3943                4301.0        1.0                4+ years   \n",
       "4197                4301.0        1.5                4+ years   \n",
       "4967                4256.0        3.0                4+ years   \n",
       "5589                4269.0        1.0                4+ years   \n",
       "...                    ...        ...                     ...   \n",
       "45506143            2080.0        1.0              no reviews   \n",
       "45511428             644.0        2.5              no reviews   \n",
       "45514685            1952.0        2.0              no reviews   \n",
       "45516412            2152.0        1.0              no reviews   \n",
       "45517735            2268.0        1.5              no reviews   \n",
       "\n",
       "         time_since_last_review  \n",
       "id                               \n",
       "3686                 2-6 months  \n",
       "3943                    1+ year  \n",
       "4197                6-12 months  \n",
       "4967                    1+ year  \n",
       "5589                6-12 months  \n",
       "...                         ...  \n",
       "45506143             no reviews  \n",
       "45511428             no reviews  \n",
       "45514685             no reviews  \n",
       "45516412             no reviews  \n",
       "45517735             no reviews  \n",
       "\n",
       "[7348 rows x 36 columns]"
      ]
     },
     "execution_count": 104,
     "metadata": {},
     "output_type": "execute_result"
    }
   ],
   "source": [
    "df"
   ]
  },
  {
   "cell_type": "code",
   "execution_count": null,
   "metadata": {},
   "outputs": [],
   "source": []
  },
  {
   "cell_type": "markdown",
   "metadata": {},
   "source": [
    "Question: what are the most common property and room types?\n",
    "\n",
    "Answer: about 70% of properties are apartments. The remainder are houses or more uncommon property types (e.g. 'bed and breakfast' or 'yurt').\n",
    "\n",
    "About 55% of listings are entire homes (i.e. you are renting the entire property on your own). Most of the remainder are private rooms (i.e. you are renting a bedroom and possibly also a bathroom, but there will be other people in the property). Fewer than 1% are shared rooms (i.e. you are sharing a room with either the property owner or other guests)."
   ]
  },
  {
   "cell_type": "code",
   "execution_count": 85,
   "metadata": {},
   "outputs": [],
   "source": [
    "def category_count_plot(col, figsize=(8,4)):\n",
    "    \"\"\"\n",
    "    Plots a simple bar chart of the total count for each category in the column specified.\n",
    "    A figure size can optionally be specified.\n",
    "    \"\"\"\n",
    "    plt.figure(figsize=figsize)\n",
    "    df[col].value_counts().plot(kind='bar')\n",
    "    plt.title(col)\n",
    "    plt.xticks(rotation=0)\n",
    "    plt.show()"
   ]
  },
  {
   "cell_type": "code",
   "execution_count": 86,
   "metadata": {},
   "outputs": [
    {
     "data": {
      "image/png": "[encoded data removed]",
      "text/plain": [
       "<Figure size 576x216 with 1 Axes>"
      ]
     },
     "metadata": {
      "needs_background": "light"
     },
     "output_type": "display_data"
    },
    {
     "name": "stdout",
     "output_type": "stream",
     "text": [
      "Apartment    0.532934\n",
      "Other        0.291372\n",
      "House        0.175694\n",
      "Name: property_type, dtype: float64\n"
     ]
    },
    {
     "data": {
      "image/png": "[encoded data removed]",
      "text/plain": [
       "<Figure size 576x216 with 1 Axes>"
      ]
     },
     "metadata": {
      "needs_background": "light"
     },
     "output_type": "display_data"
    },
    {
     "name": "stdout",
     "output_type": "stream",
     "text": [
      "Entire home/apt    0.710670\n",
      "Private room       0.258710\n",
      "Shared room        0.025041\n",
      "Hotel room         0.005580\n",
      "Name: room_type, dtype: float64\n"
     ]
    }
   ],
   "source": [
    "for col in ['property_type', 'room_type']:\n",
    "    category_count_plot(col, figsize=(8,3))\n",
    "    print(df[col].value_counts(normalize=True))"
   ]
  },
  {
   "cell_type": "markdown",
   "metadata": {},
   "source": [
    "### Reviews"
   ]
  },
  {
   "cell_type": "markdown",
   "metadata": {},
   "source": [
    "Question: what is the distribution of reviews like?\n",
    "\n",
    "Answer: for every review category, the majority of listings that have had a review have received a 10/10 rating for that category (or 95-100/100 overall) - clearly people love their Airbnbs. Ratings or 8 or below are rare. Guests seem to be most positive about communication, check-ins and accuracy. As noted previously, about a quarter of listings have not yet been reviewed."
   ]
  },
  {
   "cell_type": "code",
   "execution_count": 87,
   "metadata": {},
   "outputs": [
    {
     "data": {
      "image/png": "[encoded data removed]",
      "text/plain": [
       "<Figure size 576x360 with 1 Axes>"
      ]
     },
     "metadata": {
      "needs_background": "light"
     },
     "output_type": "display_data"
    }
   ],
   "source": [
    "fig, ax = plt.subplots(1, 1, figsize=(8,5))\n",
    "ax.set_title('Overall listing rating', fontsize=14)\n",
    "df['review_scores_rating'].value_counts().sort_index(ascending=False).plot(kind='bar', color=['silver', 'darkgreen', 'yellowgreen', '#d1f28a' ], ax=ax)\n",
    "ax.set_xticklabels(labels=['no reviews', '95-100%', '80-94%', '0-79%'], rotation=0)\n",
    "ax.set_xlabel('')\n",
    "ax.set_ylabel('Number of properties', fontsize=13)\n",
    "plt.show()"
   ]
  },
  {
   "cell_type": "code",
   "execution_count": 88,
   "metadata": {},
   "outputs": [
    {
     "data": {
      "image/png": "[encoded data removed]",
      "text/plain": [
       "<Figure size 360x216 with 1 Axes>"
      ]
     },
     "metadata": {
      "needs_background": "light"
     },
     "output_type": "display_data"
    },
    {
     "data": {
      "image/png": "[encoded data removed]",
      "text/plain": [
       "<Figure size 360x216 with 1 Axes>"
      ]
     },
     "metadata": {
      "needs_background": "light"
     },
     "output_type": "display_data"
    },
    {
     "data": {
      "image/png": "[encoded data removed]",
      "text/plain": [
       "<Figure size 360x216 with 1 Axes>"
      ]
     },
     "metadata": {
      "needs_background": "light"
     },
     "output_type": "display_data"
    },
    {
     "data": {
      "image/png": "[encoded data removed]",
      "text/plain": [
       "<Figure size 360x216 with 1 Axes>"
      ]
     },
     "metadata": {
      "needs_background": "light"
     },
     "output_type": "display_data"
    },
    {
     "data": {
      "image/png": "[encoded data removed]",
      "text/plain": [
       "<Figure size 360x216 with 1 Axes>"
      ]
     },
     "metadata": {
      "needs_background": "light"
     },
     "output_type": "display_data"
    },
    {
     "data": {
      "image/png": "[encoded data removed]",
      "text/plain": [
       "<Figure size 360x216 with 1 Axes>"
      ]
     },
     "metadata": {
      "needs_background": "light"
     },
     "output_type": "display_data"
    },
    {
     "data": {
      "image/png": "[encoded data removed]",
      "text/plain": [
       "<Figure size 360x216 with 1 Axes>"
      ]
     },
     "metadata": {
      "needs_background": "light"
     },
     "output_type": "display_data"
    }
   ],
   "source": [
    "for col in list(df.columns[df.columns.str.startswith(\"review_scores\") == True]):\n",
    "    category_count_plot(col, figsize=(5,3))"
   ]
  },
  {
   "cell_type": "markdown",
   "metadata": {},
   "source": [
    "### First and last reviews"
   ]
  },
  {
   "cell_type": "markdown",
   "metadata": {},
   "source": [
    "Question: how long have listings been on the site, and how many listings have been reviewed recently?\n",
    "\n",
    "Answer: the most common time period in which currently live Airbnb listings had their first review is 2-3 years. This means that a lot of listings on the site have been active for at least a couple of years. Relatively few have been active for more than four years, however.\n",
    "\n",
    "The most common category for the time since a listing received its last review is 1+year and 6-12 months. This means that a lot of listings have not been reviewed relatively recently. These inactive list could be due to the COVID19. "
   ]
  },
  {
   "cell_type": "code",
   "execution_count": 89,
   "metadata": {},
   "outputs": [
    {
     "data": {
      "image/png": "[encoded data removed]",
      "text/plain": [
       "<Figure size 576x288 with 1 Axes>"
      ]
     },
     "metadata": {
      "needs_background": "light"
     },
     "output_type": "display_data"
    },
    {
     "data": {
      "image/png": "[encoded data removed]",
      "text/plain": [
       "<Figure size 576x288 with 1 Axes>"
      ]
     },
     "metadata": {
      "needs_background": "light"
     },
     "output_type": "display_data"
    }
   ],
   "source": [
    "for col in ['time_since_first_review', 'time_since_last_review']:\n",
    "    category_count_plot(col)"
   ]
  },
  {
   "cell_type": "markdown",
   "metadata": {},
   "source": [
    "### Boolean (true or false) features"
   ]
  },
  {
   "cell_type": "markdown",
   "metadata": {},
   "source": [
    "Many features (e.g. for amenities) can be true or false. This section compares the proportions of these features that are true or false (to explore the data and also to ascertain whether the feature is worth retaining), and the median price of each category (to explore the relationship between the category and price)."
   ]
  },
  {
   "cell_type": "code",
   "execution_count": 90,
   "metadata": {},
   "outputs": [],
   "source": [
    "def binary_count_and_price_plot(col, figsize=(8,3)):\n",
    "    \"\"\"\n",
    "    Plots a simple bar chart of the counts of true and false categories in the column specified,\n",
    "    next to a bar chart of the median price for each category.\n",
    "    A figure size can optionally be specified.\n",
    "    \"\"\"\n",
    "    fig, (ax1, ax2) = plt.subplots(1, 2, figsize=figsize)\n",
    "    fig.suptitle(col, fontsize=16, y=1)\n",
    "    plt.subplots_adjust(top=0.80) # So that the suptitle does not overlap with the ax plot titles\n",
    "    \n",
    "    df.groupby(col).size().plot(kind='bar', ax=ax1, color=['firebrick', 'seagreen'])\n",
    "    ax1.set_xticklabels(labels=['false', 'true'], rotation=0)\n",
    "    ax1.set_title('Category count')\n",
    "    ax1.set_xlabel('')\n",
    "    \n",
    "    df.groupby(col).price.median().plot(kind='bar', ax=ax2, color=['firebrick', 'seagreen'])\n",
    "    ax2.set_xticklabels(labels=['false', 'true'], rotation=0)\n",
    "    ax2.set_title('Median price ($)')\n",
    "    ax2.set_xlabel('')\n",
    "    \n",
    "    plt.show()"
   ]
  },
  {
   "cell_type": "markdown",
   "metadata": {},
   "source": [
    "### Superhosts"
   ]
  },
  {
   "cell_type": "markdown",
   "metadata": {},
   "source": [
    "Question: what proportion of Airbnb hosts are superhosts, and is it worth being one? (a question often asked by hosts)\n",
    "\n",
    "Answer: about 38% of hosts are superhosts. However, it does not seem to improve the median price per night of their Airbnb listings, so it is arguable whether or not it is worth it (from a purely financial perspective)."
   ]
  },
  {
   "cell_type": "code",
   "execution_count": 91,
   "metadata": {},
   "outputs": [
    {
     "data": {
      "image/png": "[encoded data removed]",
      "text/plain": [
       "<Figure size 576x216 with 2 Axes>"
      ]
     },
     "metadata": {
      "needs_background": "light"
     },
     "output_type": "display_data"
    },
    {
     "name": "stdout",
     "output_type": "stream",
     "text": [
      "0    0.622754\n",
      "1    0.377246\n",
      "Name: host_is_superhost, dtype: float64\n"
     ]
    }
   ],
   "source": [
    "binary_count_and_price_plot('host_is_superhost')\n",
    "print(df.host_is_superhost.value_counts(normalize=True))"
   ]
  },
  {
   "cell_type": "markdown",
   "metadata": {},
   "source": [
    "### Host verification"
   ]
  },
  {
   "cell_type": "markdown",
   "metadata": {},
   "source": [
    "Question: how many hosts are verified, and is it worth it? (a question often asked by hosts)\n",
    "\n",
    "Answer: only about 79% of hosts are verified (e.g. by providing ID and verifying your phone number and email address), although it is something that hosts often think they are expected to do. Interestingly, however, despite the fact that one might expect the additional trust commanded by verified hosts to result in higher nightly prices, there is no discernable difference between the median nightly prices of listings with verified and unverified hosts. This column will be left in the dataframe, however, in case it has any useful interactions with other features."
   ]
  },
  {
   "cell_type": "code",
   "execution_count": 92,
   "metadata": {},
   "outputs": [
    {
     "data": {
      "image/png": "[encoded data removed]",
      "text/plain": [
       "<Figure size 576x216 with 2 Axes>"
      ]
     },
     "metadata": {
      "needs_background": "light"
     },
     "output_type": "display_data"
    },
    {
     "name": "stdout",
     "output_type": "stream",
     "text": [
      "1    0.789058\n",
      "0    0.210942\n",
      "Name: host_identity_verified, dtype: float64\n"
     ]
    }
   ],
   "source": [
    "binary_count_and_price_plot('host_identity_verified')\n",
    "print(df.host_identity_verified.value_counts(normalize=True))"
   ]
  },
  {
   "cell_type": "markdown",
   "metadata": {},
   "source": [
    "### Instant booking"
   ]
  },
  {
   "cell_type": "markdown",
   "metadata": {},
   "source": [
    "Question: how many properties are instant bookable (i.e. able to be booked without messaging the host first), and is it worth it?\n",
    "\n",
    "Answer: only about 48% of properties are instant bookable. However, the added convenience increases the median price per night a little bit, but does not seem to have much effect."
   ]
  },
  {
   "cell_type": "code",
   "execution_count": 93,
   "metadata": {},
   "outputs": [
    {
     "data": {
      "image/png": "[encoded data removed]",
      "text/plain": [
       "<Figure size 576x216 with 2 Axes>"
      ]
     },
     "metadata": {
      "needs_background": "light"
     },
     "output_type": "display_data"
    },
    {
     "name": "stdout",
     "output_type": "stream",
     "text": [
      "0    0.522863\n",
      "1    0.477137\n",
      "Name: instant_bookable, dtype: float64\n"
     ]
    }
   ],
   "source": [
    "binary_count_and_price_plot('instant_bookable')\n",
    "print(df.instant_bookable.value_counts(normalize=True))"
   ]
  },
  {
   "cell_type": "code",
   "execution_count": null,
   "metadata": {},
   "outputs": [],
   "source": [
    "## 14129 hosts\n",
    "df[df['availability_30'] == 0]\n",
    "\n"
   ]
  },
  {
   "cell_type": "code",
   "execution_count": 101,
   "metadata": {},
   "outputs": [
    {
     "data": {
      "text/plain": [
       "3638"
      ]
     },
     "execution_count": 101,
     "metadata": {},
     "output_type": "execute_result"
    }
   ],
   "source": [
    "len(df[df['availability_30'] == 0])"
   ]
  },
  {
   "cell_type": "code",
   "execution_count": 102,
   "metadata": {},
   "outputs": [
    {
     "data": {
      "text/plain": [
       "3245"
      ]
     },
     "execution_count": 102,
     "metadata": {},
     "output_type": "execute_result"
    }
   ],
   "source": [
    "len(df[df['availability_60'] == 0])"
   ]
  },
  {
   "cell_type": "code",
   "execution_count": 98,
   "metadata": {},
   "outputs": [
    {
     "data": {
      "text/plain": [
       "2894"
      ]
     },
     "execution_count": 98,
     "metadata": {},
     "output_type": "execute_result"
    }
   ],
   "source": [
    "len(df[df['availability_90'] == 0])"
   ]
  },
  {
   "cell_type": "code",
   "execution_count": 100,
   "metadata": {},
   "outputs": [
    {
     "data": {
      "text/plain": [
       "2386"
      ]
     },
     "execution_count": 100,
     "metadata": {},
     "output_type": "execute_result"
    }
   ],
   "source": [
    "len(df[df['availability_365'] == 0])"
   ]
  },
  {
   "cell_type": "markdown",
   "metadata": {},
   "source": [
    "### amenities"
   ]
  },
  {
   "cell_type": "code",
   "execution_count": 113,
   "metadata": {},
   "outputs": [],
   "source": [
    "def cleanAmenities(df):\n",
    "    df.loc[:, \"amenities\"] = df.amenities.replace(np.nan, '', regex=True)# fit_transform cannot handle missing values\n",
    "    df.loc[:, \"amenities\"] = df.amenities.str.replace(\" \", \"_\").str.replace(\"-\", \" \").str.replace(\"*\", \"\") #split in two because of a python bug (https://stackoverflow.com/questions/3675144/regex-error-nothing-to-repeat)\n",
    "    vectorizer = CountVectorizer(decode_error = \"ignore\") \n",
    "    X = vectorizer.fit_transform(df.amenities)\n",
    "    bag_of_words = pd.DataFrame(X.toarray(), columns=vectorizer.get_feature_names())\n",
    "#    bag_of_words.hist(figsize=(20,20))\n",
    "    return bag_of_words\n",
    "#    return pd.concat([df.reset_index(drop=True).drop(\"amenities\", axis = 1), bag_of_words], axis=1)\n",
    "\n",
    "def cleanAmenities2(df):\n",
    "    df.drop('n_play', axis=1, inplace=True)\n",
    "    df.drop('pack_', axis=1, inplace=True)\n",
    "    \n",
    "    df.rename(columns={'translation_missing': 'translation_missing_en'}, inplace=True)\n",
    "    df.drop('_en', axis=1, inplace=True)\n",
    "\n",
    "    df.rename(columns={'kid_friendly': 'kid_friendly_family'}, inplace=True)\n",
    "    df.drop('family', axis=1, inplace=True)\n",
    "\n",
    "    df.rename(columns={'hour_check': '24_hour_check'}, inplace=True)\n",
    "    df.drop('24', axis=1, inplace=True)\n",
    "\n",
    "    df.rename(columns={'step': 'step_free_access'}, inplace=True)\n",
    "    df.drop('free_access', axis=1, inplace=True)\n",
    "\n",
    "    df.rename(columns={'lit_path_to_entrance': 'well_lit_path_to_entrance'}, inplace=True)\n",
    "    df.drop('well', axis=1, inplace=True)\n",
    "\n",
    "    df.rename(columns={'room': 'room_darkening_shades'}, inplace=True)\n",
    "    df.drop('darkening_shades', axis=1, inplace=True)\n",
    "\n",
    "    df.rename(columns={'wide_clearance_to_shower': 'wide_clearance_to_shower_toilet'}, inplace=True)\n",
    "    df.drop('_toilet', axis=1, inplace=True)\n",
    "\n",
    "    # washer_ is included in washer,  _dryer is already included in _dryer\n",
    "    df.drop('washer_', axis=1, inplace=True)\n",
    "    df.drop('_dryer', axis=1, inplace=True)\n",
    "    return df"
   ]
  },
  {
   "cell_type": "code",
   "execution_count": 115,
   "metadata": {},
   "outputs": [],
   "source": [
    "df_amenities = cleanAmenities(df)\n",
    "#df_amenities = cleanAmenities2(df_amenities)\n",
    "df = pd.concat([df_jan.reset_index(drop=True).drop(\"amenities\", axis = 1), df_amenities], axis=1)"
   ]
  },
  {
   "cell_type": "code",
   "execution_count": 123,
   "metadata": {},
   "outputs": [
    {
     "data": {
      "text/plain": [
       "wifi                          7146\n",
       "heating                       7039\n",
       "smoke_alarm                   7033\n",
       "essentials                    7001\n",
       "air_conditioning              6995\n",
       "kitchen                       6616\n",
       "hangers                       6258\n",
       "tv                            6157\n",
       "washer                        6011\n",
       "dryer                         5991\n",
       "iron                          5987\n",
       "shampoo                       5959\n",
       "carbon_monoxide_alarm         5800\n",
       "hair_dryer                    5739\n",
       "laptop_friendly_workspace     5472\n",
       "fire_extinguisher             4741\n",
       "hot_water                     4740\n",
       "refrigerator                  4347\n",
       "microwave                     4220\n",
       "dishes_and_silverware         4108\n",
       "coffee_maker                  3961\n",
       "private_entrance              3591\n",
       "stove                         3570\n",
       "oven                          3563\n",
       "bed_linens                    3478\n",
       "cooking_basics                3396\n",
       "first_aid_kit                 3184\n",
       "free_street_parking           3022\n",
       "dishwasher                    2915\n",
       "extra_pillows_and_blankets    2654\n",
       "long_term_stays_allowed       2553\n",
       "cable_tv                      2476\n",
       "free_parking_on_premises      2249\n",
       "patio_or_balcony              1777\n",
       "luggage_dropoff_allowed       1616\n",
       "lockbox                       1561\n",
       "garden_or_backyard            1485\n",
       "keypad                        1274\n",
       "lock_on_bedroom_door          1190\n",
       "elevator                      1188\n",
       "gym                           1132\n",
       "bathtub                       1101\n",
       "indoor_fireplace               923\n",
       "bbq_grill                      839\n",
       "breakfast                      830\n",
       "shower_gel                     738\n",
       "paid_parking_off_premises      696\n",
       "u2019n_play                    634\n",
       "travel_crib                    634\n",
       "pack_                          634\n",
       "children                       596\n",
       "paid_parking_on_premises       589\n",
       "pool                           557\n",
       "ethernet_connection            548\n",
       "room_darkening_shades          540\n",
       "smart_lock                     435\n",
       "baking_sheet                   409\n",
       "u2019s_books_and_toys          398\n",
       "host_greets_you                396\n",
       "single_level_home              379\n",
       "private_living_room            375\n",
       "cleaning_before_checkout       321\n",
       "high_chair                     279\n",
       "freezer                        201\n",
       "u2019s_dinnerware              198\n",
       "babysitter_recommendations     193\n",
       "conditioner                    179\n",
       "body_soap                      175\n",
       "outlet_covers                  149\n",
       "hot_tub                        148\n",
       "crib                           147\n",
       "window_guards                  141\n",
       "barbecue_utensils              139\n",
       "building_staff                 108\n",
       "pocket_wifi                     99\n",
       "game_console                    92\n",
       "fireplace_guards                87\n",
       "bedroom_comforts                80\n",
       "bathroom_essentials             80\n",
       "stair_gates                     78\n",
       "baby_bath                       75\n",
       "ceiling_fan                     65\n",
       "self_check_in                   61\n",
       "portable_fans                   57\n",
       "changing_table                  56\n",
       "full_kitchen                    50\n",
       "laundromat_nearby               48\n",
       "bread_maker                     43\n",
       "beach_essentials                42\n",
       "mini_fridge                     41\n",
       "ev_charger                      36\n",
       "rice_maker                      31\n",
       "baby_monitor                    29\n",
       "waterfront                      28\n",
       "sound_system                    21\n",
       "nespresso_machine               21\n",
       "pour_over_coffee                15\n",
       "trash_compactor                 15\n",
       "table_corner_guards             11\n",
       "lake_access                      8\n",
       "dtype: int64"
      ]
     },
     "execution_count": 123,
     "metadata": {},
     "output_type": "execute_result"
    }
   ],
   "source": [
    "df_amenities.sum().sort_values(ascending=False).head(100)"
   ]
  },
  {
   "cell_type": "code",
   "execution_count": 124,
   "metadata": {},
   "outputs": [
    {
     "data": {
      "text/plain": [
       "free_wifi                        1\n",
       "suitable_for_events              1\n",
       "house_bikes                      1\n",
       "smoking_allowed                  1\n",
       "toiletries                       1\n",
       "concierge                        1\n",
       "beachfront                       1\n",
       "ski_out                          1\n",
       "bed_sheets_and_pillows           1\n",
       "ski_in                           1\n",
       "safe                             1\n",
       "kitchenette                      4\n",
       "record_player                    5\n",
       "piano                            6\n",
       "pets_allowed                     7\n",
       "lake_access                      8\n",
       "table_corner_guards             11\n",
       "trash_compactor                 15\n",
       "pour_over_coffee                15\n",
       "nespresso_machine               21\n",
       "sound_system                    21\n",
       "waterfront                      28\n",
       "baby_monitor                    29\n",
       "rice_maker                      31\n",
       "ev_charger                      36\n",
       "mini_fridge                     41\n",
       "beach_essentials                42\n",
       "bread_maker                     43\n",
       "laundromat_nearby               48\n",
       "full_kitchen                    50\n",
       "changing_table                  56\n",
       "portable_fans                   57\n",
       "self_check_in                   61\n",
       "ceiling_fan                     65\n",
       "baby_bath                       75\n",
       "stair_gates                     78\n",
       "bathroom_essentials             80\n",
       "bedroom_comforts                80\n",
       "fireplace_guards                87\n",
       "game_console                    92\n",
       "pocket_wifi                     99\n",
       "building_staff                 108\n",
       "barbecue_utensils              139\n",
       "window_guards                  141\n",
       "crib                           147\n",
       "hot_tub                        148\n",
       "outlet_covers                  149\n",
       "body_soap                      175\n",
       "conditioner                    179\n",
       "babysitter_recommendations     193\n",
       "u2019s_dinnerware              198\n",
       "freezer                        201\n",
       "high_chair                     279\n",
       "cleaning_before_checkout       321\n",
       "private_living_room            375\n",
       "single_level_home              379\n",
       "host_greets_you                396\n",
       "u2019s_books_and_toys          398\n",
       "baking_sheet                   409\n",
       "smart_lock                     435\n",
       "room_darkening_shades          540\n",
       "ethernet_connection            548\n",
       "pool                           557\n",
       "paid_parking_on_premises       589\n",
       "children                       596\n",
       "pack_                          634\n",
       "travel_crib                    634\n",
       "u2019n_play                    634\n",
       "paid_parking_off_premises      696\n",
       "shower_gel                     738\n",
       "breakfast                      830\n",
       "bbq_grill                      839\n",
       "indoor_fireplace               923\n",
       "bathtub                       1101\n",
       "gym                           1132\n",
       "elevator                      1188\n",
       "lock_on_bedroom_door          1190\n",
       "keypad                        1274\n",
       "garden_or_backyard            1485\n",
       "lockbox                       1561\n",
       "luggage_dropoff_allowed       1616\n",
       "patio_or_balcony              1777\n",
       "free_parking_on_premises      2249\n",
       "cable_tv                      2476\n",
       "long_term_stays_allowed       2553\n",
       "extra_pillows_and_blankets    2654\n",
       "dishwasher                    2915\n",
       "free_street_parking           3022\n",
       "first_aid_kit                 3184\n",
       "cooking_basics                3396\n",
       "bed_linens                    3478\n",
       "oven                          3563\n",
       "stove                         3570\n",
       "private_entrance              3591\n",
       "coffee_maker                  3961\n",
       "dishes_and_silverware         4108\n",
       "microwave                     4220\n",
       "refrigerator                  4347\n",
       "hot_water                     4740\n",
       "fire_extinguisher             4741\n",
       "dtype: int64"
      ]
     },
     "execution_count": 124,
     "metadata": {},
     "output_type": "execute_result"
    }
   ],
   "source": [
    "df_amenities.sum().sort_values(ascending=True).head(100)"
   ]
  },
  {
   "cell_type": "code",
   "execution_count": null,
   "metadata": {},
   "outputs": [],
   "source": []
  },
  {
   "cell_type": "code",
   "execution_count": null,
   "metadata": {},
   "outputs": [],
   "source": []
  },
  {
   "cell_type": "code",
   "execution_count": 386,
   "metadata": {},
   "outputs": [],
   "source": []
  },
  {
   "cell_type": "markdown",
   "metadata": {},
   "source": [
    "In the list above, some amenities are more important than others (e.g. a balcony is more likely to increase price than a fax machine), and some are likely to be fairly uncommon (e.g. 'Electric profiling bed'). Based on previous experience working in the Airbnb property management industry, and research into which amenities are considered by guests to be more important, a selection of the more important amenities will be extracted. These will be further investigated in the EDA section. For example, if it turns out that almost all properties have/do not have a particular amenity, that feature will not be very useful in helping explain differences in prices.\n",
    "\n",
    "The amenities chosen are (slashes indicate separate categories that can be combined):\n",
    "\n",
    "* 24-hour check-in\n",
    "* Air conditioning/central air conditioning\n",
    "* Amazon Echo/Apple TV/DVD player/game console/Netflix/projector and screen/smart TV (i.e. non-basic electronics)\n",
    "* BBQ grill/fire pit/propane barbeque\n",
    "* Balcony/patio or balcony\n",
    "* Beach view/beachfront/lake access/mountain view/ski-in ski-out/waterfront (i.e. great location/views)\n",
    "* Bed linens\n",
    "* Breakfast\n",
    "* Cable TV/TV\n",
    "* Coffee maker/espresso machine\n",
    "* Cooking basics\n",
    "* Dishwasher/Dryer/Washer/Washer and dryer\n",
    "* Elevator\n",
    "* Exercise equipment/gym/private gym/shared gym\n",
    "* Family/kid friendly, or anything containing 'children'\n",
    "* Free parking on premises/free street parking/outdoor parking/paid parking off premises/paid parking on premises\n",
    "* Garden or backyard/outdoor seating/sun loungers/terrace\n",
    "* Host greets you\n",
    "* Hot tub/jetted tub/private hot tub/sauna/shared hot tub/pool/private pool/shared pool\n",
    "* Internet/pocket wifi/wifi\n",
    "* Long term stays allowed\n",
    "* Pets allowed/cat(s)/dog(s)/pets live on this property/other pet(s)\n",
    "* Private entrance\n",
    "* Safe/security system\n",
    "* Self check-in\n",
    "* Smoking allowed\n",
    "* Step-free access/wheelchair accessible, or anything containing 'accessible'\n",
    "* Suitable for events"
   ]
  },
  {
   "cell_type": "code",
   "execution_count": null,
   "metadata": {},
   "outputs": [],
   "source": []
  },
  {
   "cell_type": "code",
   "execution_count": null,
   "metadata": {},
   "outputs": [],
   "source": []
  },
  {
   "cell_type": "code",
   "execution_count": 349,
   "metadata": {},
   "outputs": [
    {
     "data": {
      "text/plain": [
       "Index(['bbq', 'balcony', 'nature_and_views', 'bed_linen', 'breakfast', 'tv',\n",
       "       'coffee_machine', 'cooking_basics', 'white_goods', 'elevator', 'gym',\n",
       "       'child_friendly', 'parking', 'outdoor_space', 'host_greeting',\n",
       "       'hot_tub_sauna_or_pool', 'internet', 'long_term_stays', 'pets_allowed',\n",
       "       'private_entrance', 'secure', 'self_check_in', 'smoking_allowed',\n",
       "       'accessible', 'event_suitable'],\n",
       "      dtype='object')"
      ]
     },
     "execution_count": 349,
     "metadata": {},
     "output_type": "execute_result"
    }
   ],
   "source": [
    "df.columns[40:]"
   ]
  },
  {
   "cell_type": "code",
   "execution_count": null,
   "metadata": {},
   "outputs": [],
   "source": []
  },
  {
   "cell_type": "code",
   "execution_count": null,
   "metadata": {},
   "outputs": [],
   "source": []
  },
  {
   "cell_type": "code",
   "execution_count": null,
   "metadata": {},
   "outputs": [],
   "source": []
  },
  {
   "cell_type": "code",
   "execution_count": null,
   "metadata": {},
   "outputs": [],
   "source": []
  },
  {
   "cell_type": "code",
   "execution_count": null,
   "metadata": {},
   "outputs": [],
   "source": []
  },
  {
   "cell_type": "code",
   "execution_count": null,
   "metadata": {},
   "outputs": [],
   "source": []
  },
  {
   "cell_type": "code",
   "execution_count": null,
   "metadata": {},
   "outputs": [],
   "source": []
  },
  {
   "cell_type": "code",
   "execution_count": null,
   "metadata": {},
   "outputs": [],
   "source": []
  },
  {
   "cell_type": "code",
   "execution_count": null,
   "metadata": {},
   "outputs": [],
   "source": []
  },
  {
   "cell_type": "code",
   "execution_count": null,
   "metadata": {},
   "outputs": [],
   "source": []
  },
  {
   "cell_type": "code",
   "execution_count": null,
   "metadata": {},
   "outputs": [],
   "source": []
  }
 ],
 "metadata": {
  "kernelspec": {
   "display_name": "Python 3",
   "language": "python",
   "name": "python3"
  },
  "language_info": {
   "codemirror_mode": {
    "name": "ipython",
    "version": 3
   },
   "file_extension": ".py",
   "mimetype": "text/x-python",
   "name": "python",
   "nbconvert_exporter": "python",
   "pygments_lexer": "ipython3",
   "version": "3.8.3"
  }
 },
 "nbformat": 4,
 "nbformat_minor": 4
}
